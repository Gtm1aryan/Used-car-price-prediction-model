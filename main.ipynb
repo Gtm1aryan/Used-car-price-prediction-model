{
 "cells": [
  {
   "cell_type": "code",
   "execution_count": 18,
   "metadata": {
    "colab": {
     "base_uri": "https://localhost:8080/"
    },
    "id": "jEYbeXGr2e_O",
    "outputId": "6ddad68f-849f-4b38-b364-41f6590576a1"
   },
   "outputs": [
    {
     "name": "stdout",
     "output_type": "stream",
     "text": [
      "✔️ All Libraries imported\n"
     ]
    }
   ],
   "source": [
    "import numpy as np\n",
    "import pandas as pd\n",
    "import matplotlib.pyplot as plt\n",
    "import seaborn as sns\n",
    "%matplotlib inline\n",
    "\n",
    "# preprocessing\n",
    "from sklearn.preprocessing import OrdinalEncoder\n",
    "from sklearn.preprocessing import LabelEncoder, StandardScaler\n",
    "from sklearn.model_selection import train_test_split, cross_val_score, GridSearchCV, StratifiedKFold\n",
    "# import pandas_profiling as pp\n",
    "\n",
    "# models\n",
    "from sklearn.linear_model import LinearRegression, SGDRegressor, RidgeCV\n",
    "from sklearn.svm import SVR, LinearSVR\n",
    "from sklearn.ensemble import RandomForestRegressor, GradientBoostingRegressor, ExtraTreesRegressor\n",
    "\n",
    "from sklearn.ensemble import BaggingRegressor, AdaBoostRegressor, VotingRegressor\n",
    "from sklearn.neural_network import MLPRegressor\n",
    "from sklearn.tree import DecisionTreeRegressor\n",
    "import sklearn.model_selection\n",
    "from sklearn.model_selection import cross_val_predict as cvp\n",
    "from sklearn import metrics\n",
    "from sklearn.metrics import r2_score, mean_absolute_error, mean_squared_error\n",
    "import xgboost as xgb\n",
    "import lightgbm as lgb\n",
    "\n",
    "# model tuning\n",
    "from hyperopt import STATUS_OK, Trials, fmin, hp, tpe, space_eval\n",
    "\n",
    "import warnings\n",
    "warnings.filterwarnings(\"ignore\")\n",
    "print(\"✔️ All Libraries imported\")"
   ]
  },
  {
   "cell_type": "code",
   "execution_count": 19,
   "metadata": {
    "id": "5vIoa03A2oJD"
   },
   "outputs": [],
   "source": [
    "df=pd.read_csv(\"Cars1.csv\")"
   ]
  },
  {
   "cell_type": "code",
   "execution_count": 20,
   "metadata": {
    "colab": {
     "base_uri": "https://localhost:8080/",
     "height": 417
    },
    "id": "HK8wNHw42vuK",
    "outputId": "0ec94b16-52ec-4ab9-a051-2bd6513e9408"
   },
   "outputs": [
    {
     "data": {
      "text/html": [
       "<div>\n",
       "<style scoped>\n",
       "    .dataframe tbody tr th:only-of-type {\n",
       "        vertical-align: middle;\n",
       "    }\n",
       "\n",
       "    .dataframe tbody tr th {\n",
       "        vertical-align: top;\n",
       "    }\n",
       "\n",
       "    .dataframe thead th {\n",
       "        text-align: right;\n",
       "    }\n",
       "</style>\n",
       "<table border=\"1\" class=\"dataframe\">\n",
       "  <thead>\n",
       "    <tr style=\"text-align: right;\">\n",
       "      <th></th>\n",
       "      <th>Unnamed: 0</th>\n",
       "      <th>brand</th>\n",
       "      <th>model</th>\n",
       "      <th>model_year</th>\n",
       "      <th>fuel_type</th>\n",
       "      <th>ext_col</th>\n",
       "      <th>int_col</th>\n",
       "      <th>accident</th>\n",
       "      <th>clean_title</th>\n",
       "      <th>horsepower</th>\n",
       "      <th>Displacement</th>\n",
       "      <th>Cylinders</th>\n",
       "      <th>Gear</th>\n",
       "      <th>Transmission</th>\n",
       "      <th>d_in_km</th>\n",
       "      <th>Price</th>\n",
       "    </tr>\n",
       "  </thead>\n",
       "  <tbody>\n",
       "    <tr>\n",
       "      <th>0</th>\n",
       "      <td>0</td>\n",
       "      <td>Ford</td>\n",
       "      <td>Utility Police Interceptor Base</td>\n",
       "      <td>2013</td>\n",
       "      <td>E85 Flex Fuel</td>\n",
       "      <td>Black</td>\n",
       "      <td>Black</td>\n",
       "      <td>1</td>\n",
       "      <td>Yes</td>\n",
       "      <td>300.0</td>\n",
       "      <td>3.7</td>\n",
       "      <td>6.0</td>\n",
       "      <td>6.0</td>\n",
       "      <td>automatic</td>\n",
       "      <td>81600.0</td>\n",
       "      <td>10300</td>\n",
       "    </tr>\n",
       "    <tr>\n",
       "      <th>1</th>\n",
       "      <td>1</td>\n",
       "      <td>Hyundai</td>\n",
       "      <td>Palisade SELl</td>\n",
       "      <td>2021</td>\n",
       "      <td>Gasoline</td>\n",
       "      <td>Moonlight Cloud</td>\n",
       "      <td>Gray</td>\n",
       "      <td>1</td>\n",
       "      <td>Yes</td>\n",
       "      <td>333.0</td>\n",
       "      <td>3.8</td>\n",
       "      <td>NaN</td>\n",
       "      <td>8.0</td>\n",
       "      <td>automatic</td>\n",
       "      <td>55587.2</td>\n",
       "      <td>38005</td>\n",
       "    </tr>\n",
       "    <tr>\n",
       "      <th>2</th>\n",
       "      <td>2</td>\n",
       "      <td>Lexus</td>\n",
       "      <td>RX 350 RX 350</td>\n",
       "      <td>2022</td>\n",
       "      <td>Gasoline</td>\n",
       "      <td>Blue</td>\n",
       "      <td>Black</td>\n",
       "      <td>0</td>\n",
       "      <td>No</td>\n",
       "      <td>NaN</td>\n",
       "      <td>3.5</td>\n",
       "      <td>NaN</td>\n",
       "      <td>NaN</td>\n",
       "      <td>automatic</td>\n",
       "      <td>35795.2</td>\n",
       "      <td>54598</td>\n",
       "    </tr>\n",
       "    <tr>\n",
       "      <th>3</th>\n",
       "      <td>3</td>\n",
       "      <td>INFINITI</td>\n",
       "      <td>Q50 Hybrid Sport</td>\n",
       "      <td>2015</td>\n",
       "      <td>Hybrid</td>\n",
       "      <td>Black</td>\n",
       "      <td>Black</td>\n",
       "      <td>0</td>\n",
       "      <td>Yes</td>\n",
       "      <td>354.0</td>\n",
       "      <td>3.5</td>\n",
       "      <td>6.0</td>\n",
       "      <td>7.0</td>\n",
       "      <td>automatic</td>\n",
       "      <td>142240.0</td>\n",
       "      <td>15500</td>\n",
       "    </tr>\n",
       "    <tr>\n",
       "      <th>4</th>\n",
       "      <td>4</td>\n",
       "      <td>Audi</td>\n",
       "      <td>Q3 45 S line Premium Plus</td>\n",
       "      <td>2021</td>\n",
       "      <td>Gasoline</td>\n",
       "      <td>Glacier White Metallic</td>\n",
       "      <td>Black</td>\n",
       "      <td>0</td>\n",
       "      <td>No</td>\n",
       "      <td>416.0</td>\n",
       "      <td>2.0</td>\n",
       "      <td>NaN</td>\n",
       "      <td>8.0</td>\n",
       "      <td>automatic</td>\n",
       "      <td>15736.0</td>\n",
       "      <td>34999</td>\n",
       "    </tr>\n",
       "  </tbody>\n",
       "</table>\n",
       "</div>"
      ],
      "text/plain": [
       "   Unnamed: 0     brand                            model  model_year  \\\n",
       "0           0      Ford  Utility Police Interceptor Base        2013   \n",
       "1           1   Hyundai                    Palisade SELl        2021   \n",
       "2           2     Lexus                    RX 350 RX 350        2022   \n",
       "3           3  INFINITI                 Q50 Hybrid Sport        2015   \n",
       "4           4      Audi        Q3 45 S line Premium Plus        2021   \n",
       "\n",
       "       fuel_type                 ext_col int_col  accident clean_title  \\\n",
       "0  E85 Flex Fuel                   Black   Black         1         Yes   \n",
       "1       Gasoline         Moonlight Cloud    Gray         1         Yes   \n",
       "2       Gasoline                    Blue   Black         0          No   \n",
       "3         Hybrid                   Black   Black         0         Yes   \n",
       "4       Gasoline  Glacier White Metallic   Black         0          No   \n",
       "\n",
       "   horsepower  Displacement  Cylinders  Gear Transmission   d_in_km  Price  \n",
       "0       300.0           3.7        6.0   6.0    automatic   81600.0  10300  \n",
       "1       333.0           3.8        NaN   8.0    automatic   55587.2  38005  \n",
       "2         NaN           3.5        NaN   NaN    automatic   35795.2  54598  \n",
       "3       354.0           3.5        6.0   7.0    automatic  142240.0  15500  \n",
       "4       416.0           2.0        NaN   8.0    automatic   15736.0  34999  "
      ]
     },
     "execution_count": 20,
     "metadata": {},
     "output_type": "execute_result"
    }
   ],
   "source": [
    "df.head()"
   ]
  },
  {
   "cell_type": "code",
   "execution_count": 21,
   "metadata": {},
   "outputs": [],
   "source": [
    "pd.set_option('display.max_rows', 2000)"
   ]
  },
  {
   "cell_type": "code",
   "execution_count": 22,
   "metadata": {
    "id": "VbpiJ6tXJ80L"
   },
   "outputs": [],
   "source": [
    "df.drop(columns='Unnamed: 0',inplace=True)"
   ]
  },
  {
   "cell_type": "code",
   "execution_count": 23,
   "metadata": {},
   "outputs": [
    {
     "data": {
      "text/html": [
       "<div>\n",
       "<style scoped>\n",
       "    .dataframe tbody tr th:only-of-type {\n",
       "        vertical-align: middle;\n",
       "    }\n",
       "\n",
       "    .dataframe tbody tr th {\n",
       "        vertical-align: top;\n",
       "    }\n",
       "\n",
       "    .dataframe thead th {\n",
       "        text-align: right;\n",
       "    }\n",
       "</style>\n",
       "<table border=\"1\" class=\"dataframe\">\n",
       "  <thead>\n",
       "    <tr style=\"text-align: right;\">\n",
       "      <th></th>\n",
       "      <th>count</th>\n",
       "      <th>mean</th>\n",
       "      <th>std</th>\n",
       "      <th>min</th>\n",
       "      <th>25%</th>\n",
       "      <th>50%</th>\n",
       "      <th>75%</th>\n",
       "      <th>max</th>\n",
       "    </tr>\n",
       "  </thead>\n",
       "  <tbody>\n",
       "    <tr>\n",
       "      <th>model_year</th>\n",
       "      <td>3964.0</td>\n",
       "      <td>2015.672301</td>\n",
       "      <td>5.837338</td>\n",
       "      <td>1996.00</td>\n",
       "      <td>2012.0</td>\n",
       "      <td>2017.0</td>\n",
       "      <td>2020.0</td>\n",
       "      <td>2024.0</td>\n",
       "    </tr>\n",
       "    <tr>\n",
       "      <th>accident</th>\n",
       "      <td>3964.0</td>\n",
       "      <td>0.245964</td>\n",
       "      <td>0.430711</td>\n",
       "      <td>0.00</td>\n",
       "      <td>0.0</td>\n",
       "      <td>0.0</td>\n",
       "      <td>0.0</td>\n",
       "      <td>1.0</td>\n",
       "    </tr>\n",
       "    <tr>\n",
       "      <th>horsepower</th>\n",
       "      <td>3767.0</td>\n",
       "      <td>343.684099</td>\n",
       "      <td>128.199327</td>\n",
       "      <td>70.00</td>\n",
       "      <td>255.5</td>\n",
       "      <td>328.0</td>\n",
       "      <td>414.0</td>\n",
       "      <td>1400.0</td>\n",
       "    </tr>\n",
       "    <tr>\n",
       "      <th>Displacement</th>\n",
       "      <td>3771.0</td>\n",
       "      <td>3.685693</td>\n",
       "      <td>1.417663</td>\n",
       "      <td>0.65</td>\n",
       "      <td>2.5</td>\n",
       "      <td>3.5</td>\n",
       "      <td>4.7</td>\n",
       "      <td>8.4</td>\n",
       "    </tr>\n",
       "    <tr>\n",
       "      <th>Cylinders</th>\n",
       "      <td>3064.0</td>\n",
       "      <td>6.258159</td>\n",
       "      <td>1.677256</td>\n",
       "      <td>3.00</td>\n",
       "      <td>5.0</td>\n",
       "      <td>6.0</td>\n",
       "      <td>8.0</td>\n",
       "      <td>12.0</td>\n",
       "    </tr>\n",
       "    <tr>\n",
       "      <th>Gear</th>\n",
       "      <td>2536.0</td>\n",
       "      <td>5.924290</td>\n",
       "      <td>2.732193</td>\n",
       "      <td>1.00</td>\n",
       "      <td>5.0</td>\n",
       "      <td>6.0</td>\n",
       "      <td>8.0</td>\n",
       "      <td>10.0</td>\n",
       "    </tr>\n",
       "    <tr>\n",
       "      <th>d_in_km</th>\n",
       "      <td>3964.0</td>\n",
       "      <td>102971.828860</td>\n",
       "      <td>83404.487099</td>\n",
       "      <td>160.00</td>\n",
       "      <td>36302.0</td>\n",
       "      <td>83740.0</td>\n",
       "      <td>149600.0</td>\n",
       "      <td>648000.0</td>\n",
       "    </tr>\n",
       "    <tr>\n",
       "      <th>Price</th>\n",
       "      <td>3964.0</td>\n",
       "      <td>44653.172301</td>\n",
       "      <td>78584.551222</td>\n",
       "      <td>2000.00</td>\n",
       "      <td>17500.0</td>\n",
       "      <td>31450.0</td>\n",
       "      <td>49998.0</td>\n",
       "      <td>2954083.0</td>\n",
       "    </tr>\n",
       "  </tbody>\n",
       "</table>\n",
       "</div>"
      ],
      "text/plain": [
       "               count           mean           std      min      25%      50%  \\\n",
       "model_year    3964.0    2015.672301      5.837338  1996.00   2012.0   2017.0   \n",
       "accident      3964.0       0.245964      0.430711     0.00      0.0      0.0   \n",
       "horsepower    3767.0     343.684099    128.199327    70.00    255.5    328.0   \n",
       "Displacement  3771.0       3.685693      1.417663     0.65      2.5      3.5   \n",
       "Cylinders     3064.0       6.258159      1.677256     3.00      5.0      6.0   \n",
       "Gear          2536.0       5.924290      2.732193     1.00      5.0      6.0   \n",
       "d_in_km       3964.0  102971.828860  83404.487099   160.00  36302.0  83740.0   \n",
       "Price         3964.0   44653.172301  78584.551222  2000.00  17500.0  31450.0   \n",
       "\n",
       "                   75%        max  \n",
       "model_year      2020.0     2024.0  \n",
       "accident           0.0        1.0  \n",
       "horsepower       414.0     1400.0  \n",
       "Displacement       4.7        8.4  \n",
       "Cylinders          8.0       12.0  \n",
       "Gear               8.0       10.0  \n",
       "d_in_km       149600.0   648000.0  \n",
       "Price          49998.0  2954083.0  "
      ]
     },
     "execution_count": 23,
     "metadata": {},
     "output_type": "execute_result"
    }
   ],
   "source": [
    "df.describe().T"
   ]
  },
  {
   "cell_type": "code",
   "execution_count": 24,
   "metadata": {
    "colab": {
     "base_uri": "https://localhost:8080/"
    },
    "id": "jnzyVpHx28Ah",
    "outputId": "d0d8514c-86c8-4337-8be5-eea49cd6ebdc"
   },
   "outputs": [
    {
     "data": {
      "text/plain": [
       "brand              0\n",
       "model              0\n",
       "model_year         0\n",
       "fuel_type        170\n",
       "ext_col           15\n",
       "int_col          129\n",
       "accident           0\n",
       "clean_title        0\n",
       "horsepower       197\n",
       "Displacement     193\n",
       "Cylinders        900\n",
       "Gear            1428\n",
       "Transmission     435\n",
       "d_in_km            0\n",
       "Price              0\n",
       "dtype: int64"
      ]
     },
     "execution_count": 24,
     "metadata": {},
     "output_type": "execute_result"
    }
   ],
   "source": [
    "df.isnull().sum()"
   ]
  },
  {
   "cell_type": "code",
   "execution_count": 33,
   "metadata": {},
   "outputs": [
    {
     "name": "stdout",
     "output_type": "stream",
     "text": [
      "['model_year', 'accident', 'horsepower', 'Displacement', 'Cylinders', 'Gear', 'd_in_km', 'Price']\n",
      "Index(['brand', 'model', 'model_year', 'fuel_type', 'ext_col', 'int_col',\n",
      "       'accident', 'clean_title', 'horsepower', 'Displacement', 'Cylinders',\n",
      "       'Gear', 'Transmission', 'd_in_km', 'Price'],\n",
      "      dtype='object')\n"
     ]
    }
   ],
   "source": [
    "num_list=[]\n",
    "\n",
    "for x in df.columns:\n",
    "    if(df[x].dtypes != 'object'):\n",
    "        num_list.append(x)\n",
    "print(num_list)\n",
    "print(df.columns)"
   ]
  },
  {
   "cell_type": "code",
   "execution_count": 36,
   "metadata": {},
   "outputs": [],
   "source": [
    "df_num=df.copy()\n",
    "df_num.drop(columns=['brand','model','fuel_type','ext_col','int_col','accident','clean_title','Transmission'],inplace=True)"
   ]
  },
  {
   "cell_type": "code",
   "execution_count": 41,
   "metadata": {
    "colab": {
     "base_uri": "https://localhost:8080/"
    },
    "id": "pmsD2PkP_xIc",
    "outputId": "8ba4d64f-a6f3-48cb-d3bb-733f8fd13365"
   },
   "outputs": [
    {
     "data": {
      "image/png": "[encoded data removed]",
      "text/plain": [
       "<Figure size 600x400 with 2 Axes>"
      ]
     },
     "metadata": {},
     "output_type": "display_data"
    }
   ],
   "source": [
    "# Assuming 'data' is your DataFrame with features\n",
    "correlation_matrix = df_num.corr()\n",
    "\n",
    "plt.figure(figsize=(6, 4))\n",
    "sns.heatmap(correlation_matrix, annot=True, cmap='coolwarm', fmt=\".2f\")\n",
    "plt.title(\"Feature Correlation Heatmap\")\n",
    "plt.show()\n"
   ]
  },
  {
   "cell_type": "code",
   "execution_count": 11,
   "metadata": {},
   "outputs": [],
   "source": [
    "df[\"fuel_type\"].fillna(\"Electric\",inplace=True)"
   ]
  },
  {
   "cell_type": "code",
   "execution_count": 43,
   "metadata": {
    "colab": {
     "base_uri": "https://localhost:8080/",
     "height": 1000
    },
    "id": "_KoO_f6s2-hL",
    "outputId": "6fb864dd-d753-4373-a2fe-bb68a653604a"
   },
   "outputs": [
    {
     "data": {
      "image/png": "[encoded data removed]",
      "text/plain": [
       "<Figure size 600x400 with 1 Axes>"
      ]
     },
     "metadata": {},
     "output_type": "display_data"
    },
    {
     "data": {
      "image/png": "[encoded data removed]",
      "text/plain": [
       "<Figure size 600x400 with 1 Axes>"
      ]
     },
     "metadata": {},
     "output_type": "display_data"
    },
    {
     "data": {
      "image/png": "[encoded data removed]",
      "text/plain": [
       "<Figure size 600x400 with 1 Axes>"
      ]
     },
     "metadata": {},
     "output_type": "display_data"
    }
   ],
   "source": [
    "import seaborn as sns\n",
    "import matplotlib.pyplot as plt\n",
    "\n",
    "# Assuming X_train is your training dataset\n",
    "\n",
    "graph = [\"ext_col\", \"int_col\", \"Transmission\"]\n",
    "\n",
    "for col in graph:\n",
    "    top_values = df[col].value_counts(dropna=False).head(10)\n",
    "\n",
    "    # Create subplots for better visualization\n",
    "    plt.figure(figsize=(6, 4))\n",
    "    sns.countplot(x=col, data=df, order=top_values.index)\n",
    "    plt.title(f'Top 10 {col} values')\n",
    "    plt.show()"
   ]
  },
  {
   "cell_type": "code",
   "execution_count": 49,
   "metadata": {},
   "outputs": [
    {
     "data": {
      "image/png": "[encoded data removed]",
      "text/plain": [
       "<Figure size 1000x500 with 2 Axes>"
      ]
     },
     "metadata": {},
     "output_type": "display_data"
    }
   ],
   "source": [
    "import pandas as pd\n",
    "import matplotlib.pyplot as plt\n",
    "\n",
    "# Assuming 'df' is your DataFrame with 'fuel_type' and 'transmission' columns\n",
    "\n",
    "# Count the occurrences of each fuel type\n",
    "fuel_type_counts = df['fuel_type'].value_counts()\n",
    "\n",
    "# Count the occurrences of each transmission type\n",
    "transmission_counts = df['Transmission'].value_counts()\n",
    "\n",
    "# Plotting pie chart for fuel_type\n",
    "plt.figure(figsize=(10, 5))\n",
    "plt.subplot(1, 2, 1)\n",
    "plt.pie(fuel_type_counts, labels=fuel_type_counts.index, autopct='%1.1f%%', startangle=140)\n",
    "plt.title('Fuel Type Distribution')\n",
    "\n",
    "# Plotting pie chart for transmission\n",
    "plt.subplot(1, 2, 2)\n",
    "plt.pie(transmission_counts, labels=transmission_counts.index, autopct='%1.1f%%', startangle=140)\n",
    "plt.title('Transmission Distribution')\n",
    "\n",
    "plt.tight_layout()\n",
    "plt.show()\n"
   ]
  },
  {
   "cell_type": "code",
   "execution_count": 60,
   "metadata": {},
   "outputs": [
    {
     "data": {
      "image/png": "[encoded data removed]",
      "text/plain": [
       "<Figure size 1200x600 with 2 Axes>"
      ]
     },
     "metadata": {},
     "output_type": "display_data"
    }
   ],
   "source": [
    "plt.figure(figsize=(12, 6))\n",
    "\n",
    "# Plot the count plot for brand\n",
    "plt.subplot(1, 2, 1)\n",
    "sns.countplot(data=df, x='brand')\n",
    "plt.title('Count Plot of Brands')\n",
    "plt.xticks(rotation=90)  # Rotate x-axis labels for better readability\n",
    "\n",
    "# Plot the count plot for model_year\n",
    "plt.subplot(1, 2, 2)\n",
    "sns.countplot(data=df, x='model_year')\n",
    "plt.title('Count Plot of Model Years')\n",
    "plt.xticks(rotation=90)  # Rotate x-axis labels for better readability\n",
    "\n",
    "plt.tight_layout()\n",
    "plt.show()"
   ]
  },
  {
   "cell_type": "code",
   "execution_count": 79,
   "metadata": {},
   "outputs": [
    {
     "ename": "TypeError",
     "evalue": "lineplot() takes from 0 to 1 positional arguments but 2 were given",
     "output_type": "error",
     "traceback": [
      "\u001b[1;31m---------------------------------------------------------------------------\u001b[0m",
      "\u001b[1;31mTypeError\u001b[0m                                 Traceback (most recent call last)",
      "Cell \u001b[1;32mIn[79], line 2\u001b[0m\n\u001b[0;32m      1\u001b[0m plt\u001b[38;5;241m.\u001b[39mfigure(figsize\u001b[38;5;241m=\u001b[39m(\u001b[38;5;241m10\u001b[39m, \u001b[38;5;241m6\u001b[39m))\n\u001b[1;32m----> 2\u001b[0m \u001b[43msns\u001b[49m\u001b[38;5;241;43m.\u001b[39;49m\u001b[43mlineplot\u001b[49m\u001b[43m(\u001b[49m\u001b[43mdf\u001b[49m\u001b[43m[\u001b[49m\u001b[38;5;124;43m'\u001b[39;49m\u001b[38;5;124;43mhorsepower\u001b[39;49m\u001b[38;5;124;43m'\u001b[39;49m\u001b[43m]\u001b[49m\u001b[43m,\u001b[49m\u001b[43m \u001b[49m\u001b[43mdf\u001b[49m\u001b[43m[\u001b[49m\u001b[38;5;124;43m'\u001b[39;49m\u001b[38;5;124;43mPrice\u001b[39;49m\u001b[38;5;124;43m'\u001b[39;49m\u001b[43m]\u001b[49m\u001b[43m,\u001b[49m\u001b[43m \u001b[49m\u001b[43mmarker\u001b[49m\u001b[38;5;241;43m=\u001b[39;49m\u001b[38;5;124;43m'\u001b[39;49m\u001b[38;5;124;43mo\u001b[39;49m\u001b[38;5;124;43m'\u001b[39;49m\u001b[43m,\u001b[49m\u001b[43m \u001b[49m\u001b[43mlinestyle\u001b[49m\u001b[38;5;241;43m=\u001b[39;49m\u001b[38;5;124;43m'\u001b[39;49m\u001b[38;5;124;43m-\u001b[39;49m\u001b[38;5;124;43m'\u001b[39;49m\u001b[43m)\u001b[49m\n\u001b[0;32m      3\u001b[0m plt\u001b[38;5;241m.\u001b[39mtitle(\u001b[38;5;124m'\u001b[39m\u001b[38;5;124mLine Plot of Distance vs Price\u001b[39m\u001b[38;5;124m'\u001b[39m)\n\u001b[0;32m      4\u001b[0m plt\u001b[38;5;241m.\u001b[39mxlabel(\u001b[38;5;124m'\u001b[39m\u001b[38;5;124mDistance (km)\u001b[39m\u001b[38;5;124m'\u001b[39m)\n",
      "\u001b[1;31mTypeError\u001b[0m: lineplot() takes from 0 to 1 positional arguments but 2 were given"
     ]
    },
    {
     "data": {
      "text/plain": [
       "<Figure size 1000x600 with 0 Axes>"
      ]
     },
     "metadata": {},
     "output_type": "display_data"
    }
   ],
   "source": [
    "plt.figure(figsize=(10, 6))\n",
    "sns.lineplot(df['horsepower'], df['Price'], marker='o', linestyle='-')\n",
    "plt.title('Line Plot of Distance vs Price')\n",
    "plt.xlabel('Distance (km)')\n",
    "plt.ylabel('Price')\n",
    "plt.grid(True)  # Add gridlines for better readability\n",
    "plt.show()"
   ]
  },
  {
   "cell_type": "code",
   "execution_count": 13,
   "metadata": {
    "id": "MTcRWfvP3EPw"
   },
   "outputs": [],
   "source": [
    "# # we are handiling null values of these 3 columns which are categorical before spliting because of encoding part:\n",
    "from sklearn.impute import SimpleImputer\n",
    "columns = ['ext_col', 'int_col', 'Transmission']\n",
    "si = SimpleImputer(strategy='most_frequent')\n",
    "df[columns] = si.fit_transform(df[columns])"
   ]
  },
  {
   "cell_type": "code",
   "execution_count": 14,
   "metadata": {
    "scrolled": true
   },
   "outputs": [],
   "source": [
    "categorical_cols = ['brand','model','model_year', 'fuel_type', 'ext_col', 'int_col', 'clean_title', 'Transmission']\n",
    "encoder = OrdinalEncoder(handle_unknown=\"use_encoded_value\", unknown_value=-1)\n",
    "df[categorical_cols] = encoder.fit_transform(df[categorical_cols])"
   ]
  },
  {
   "cell_type": "code",
   "execution_count": 15,
   "metadata": {},
   "outputs": [
    {
     "data": {
      "text/plain": [
       "Index(['brand', 'model', 'model_year', 'fuel_type', 'ext_col', 'int_col',\n",
       "       'accident', 'clean_title', 'horsepower', 'Displacement', 'Cylinders',\n",
       "       'Gear', 'Transmission', 'd_in_km', 'Price'],\n",
       "      dtype='object')"
      ]
     },
     "execution_count": 15,
     "metadata": {},
     "output_type": "execute_result"
    }
   ],
   "source": [
    "df.columns"
   ]
  },
  {
   "cell_type": "code",
   "execution_count": 16,
   "metadata": {
    "id": "DdOhQvFs3M7j"
   },
   "outputs": [],
   "source": [
    "df['accident'] = df['accident'].astype(int)"
   ]
  },
  {
   "cell_type": "code",
   "execution_count": 17,
   "metadata": {
    "colab": {
     "base_uri": "https://localhost:8080/"
    },
    "id": "sGBXU2OT3QHc",
    "outputId": "05daece7-5041-4575-cc14-07c6eef90ba3"
   },
   "outputs": [
    {
     "data": {
      "text/plain": [
       "horsepower       197\n",
       "Displacement     193\n",
       "Cylinders        900\n",
       "Gear            1428\n",
       "dtype: int64"
      ]
     },
     "execution_count": 17,
     "metadata": {},
     "output_type": "execute_result"
    }
   ],
   "source": [
    "df.isnull().sum()[df.isnull().sum()>0]"
   ]
  },
  {
   "cell_type": "markdown",
   "metadata": {
    "id": "WcLyZcIC3Zuk"
   },
   "source": [
    "## OUTLIERS"
   ]
  },
  {
   "cell_type": "code",
   "execution_count": 25,
   "metadata": {
    "colab": {
     "base_uri": "https://localhost:8080/"
    },
    "id": "wrVVhDMY3m6-",
    "outputId": "17a7cb9e-0000-472f-f9f5-12446b87e280"
   },
   "outputs": [
    {
     "name": "stdout",
     "output_type": "stream",
     "text": [
      "<class 'pandas.core.frame.DataFrame'>\n",
      "RangeIndex: 3964 entries, 0 to 3963\n",
      "Data columns (total 15 columns):\n",
      " #   Column        Non-Null Count  Dtype  \n",
      "---  ------        --------------  -----  \n",
      " 0   brand         3964 non-null   object \n",
      " 1   model         3964 non-null   object \n",
      " 2   model_year    3964 non-null   int64  \n",
      " 3   fuel_type     3794 non-null   object \n",
      " 4   ext_col       3949 non-null   object \n",
      " 5   int_col       3835 non-null   object \n",
      " 6   accident      3964 non-null   int64  \n",
      " 7   clean_title   3964 non-null   object \n",
      " 8   horsepower    3767 non-null   float64\n",
      " 9   Displacement  3771 non-null   float64\n",
      " 10  Cylinders     3064 non-null   float64\n",
      " 11  Gear          2536 non-null   float64\n",
      " 12  Transmission  3529 non-null   object \n",
      " 13  d_in_km       3964 non-null   float64\n",
      " 14  Price         3964 non-null   int64  \n",
      "dtypes: float64(5), int64(3), object(7)\n",
      "memory usage: 464.7+ KB\n"
     ]
    }
   ],
   "source": [
    "df.info()"
   ]
  },
  {
   "cell_type": "code",
   "execution_count": 19,
   "metadata": {
    "id": "Pl9ue5ch3Sre"
   },
   "outputs": [],
   "source": [
    "num_list=['horsepower','Displacement','Cylinders','Gear','Transmission','d_in_km','Price']"
   ]
  },
  {
   "cell_type": "code",
   "execution_count": 20,
   "metadata": {
    "colab": {
     "base_uri": "https://localhost:8080/",
     "height": 1000
    },
    "id": "gIaKKICp3YMW",
    "outputId": "d9a9c375-a07f-46f1-ff75-ea9183a58a2f",
    "scrolled": true
   },
   "outputs": [
    {
     "data": {
      "image/png": "[encoded data removed]",
      "text/plain": [
       "<Figure size 640x480 with 1 Axes>"
      ]
     },
     "metadata": {},
     "output_type": "display_data"
    },
    {
     "data": {
      "image/png": "[encoded data removed]",
      "text/plain": [
       "<Figure size 640x480 with 1 Axes>"
      ]
     },
     "metadata": {},
     "output_type": "display_data"
    },
    {
     "data": {
      "image/png": "[encoded data removed]",
      "text/plain": [
       "<Figure size 640x480 with 1 Axes>"
      ]
     },
     "metadata": {},
     "output_type": "display_data"
    },
    {
     "data": {
      "image/png": "[encoded data removed]",
      "text/plain": [
       "<Figure size 640x480 with 1 Axes>"
      ]
     },
     "metadata": {},
     "output_type": "display_data"
    },
    {
     "data": {
      "image/png": "[encoded data removed]",
      "text/plain": [
       "<Figure size 640x480 with 1 Axes>"
      ]
     },
     "metadata": {},
     "output_type": "display_data"
    },
    {
     "data": {
      "image/png": "[encoded data removed]",
      "text/plain": [
       "<Figure size 640x480 with 1 Axes>"
      ]
     },
     "metadata": {},
     "output_type": "display_data"
    },
    {
     "data": {
      "image/png": "[encoded data removed]",
      "text/plain": [
       "<Figure size 640x480 with 1 Axes>"
      ]
     },
     "metadata": {},
     "output_type": "display_data"
    }
   ],
   "source": [
    "for x in num_list:\n",
    "  sns.kdeplot(df[x])\n",
    "  plt.show()"
   ]
  },
  {
   "cell_type": "code",
   "execution_count": 21,
   "metadata": {
    "id": "7rutAapR4AO5"
   },
   "outputs": [],
   "source": [
    "df['Price']=np.log(df['Price'])"
   ]
  },
  {
   "cell_type": "code",
   "execution_count": 22,
   "metadata": {
    "id": "U7JLtfk9f0Wn"
   },
   "outputs": [],
   "source": [
    "def zscore_limit(col, df):\n",
    "  lb = (-3)* df[col].std() + df[col].mean()\n",
    "  ub = (3)* df[col].std() + df[col].mean()\n",
    "  temp = df[(df[col] > ub) | (df[col] < lb)]\n",
    "  print(f\"number of outliers in {col}: {len(temp)}\")\n",
    "  print(f\"percentage of outliers: {round(len(temp)/len(df) * 100, 2)} %\")\n",
    "  return (lb,ub)"
   ]
  },
  {
   "cell_type": "code",
   "execution_count": 23,
   "metadata": {
    "colab": {
     "base_uri": "https://localhost:8080/"
    },
    "id": "s04fjCBjf0Sf",
    "outputId": "6463c655-5cbc-425b-8542-45f1d4015ba9"
   },
   "outputs": [
    {
     "name": "stdout",
     "output_type": "stream",
     "text": [
      "number of outliers in Price: 23\n",
      "percentage of outliers: 0.58 %\n"
     ]
    },
    {
     "data": {
      "text/plain": [
       "(7.77399285758618, 12.844643819234879)"
      ]
     },
     "execution_count": 23,
     "metadata": {},
     "output_type": "execute_result"
    }
   ],
   "source": [
    "zscore_limit('Price',df)"
   ]
  },
  {
   "cell_type": "code",
   "execution_count": 24,
   "metadata": {
    "colab": {
     "base_uri": "https://localhost:8080/"
    },
    "id": "YtefO9WNjg5B",
    "outputId": "b45be3ef-57fc-4590-d646-fd587d28e039"
   },
   "outputs": [
    {
     "name": "stdout",
     "output_type": "stream",
     "text": [
      "number of outliers in d_in_km: 39\n",
      "percentage of outliers: 0.98 %\n"
     ]
    },
    {
     "data": {
      "text/plain": [
       "(-147241.63243858036, 353185.2901580556)"
      ]
     },
     "execution_count": 24,
     "metadata": {},
     "output_type": "execute_result"
    }
   ],
   "source": [
    "zscore_limit('d_in_km',df)"
   ]
  },
  {
   "cell_type": "code",
   "execution_count": 25,
   "metadata": {
    "id": "ULc_k21GjnPx"
   },
   "outputs": [],
   "source": [
    "# capping the outliers (d_in_km)\n",
    "df[\"d_in_km\"] = np.where(\n",
    "                      df[\"d_in_km\"] > 691.6404175195745,\n",
    "                      691.6404175195745,\n",
    "                      np.where(df[\"d_in_km\"] < -107.77582880377406,\n",
    "                              -107.77582880377406,\n",
    "                               df[\"d_in_km\"]))"
   ]
  },
  {
   "cell_type": "code",
   "execution_count": 26,
   "metadata": {
    "colab": {
     "base_uri": "https://localhost:8080/",
     "height": 677
    },
    "id": "dSz7iC-Tiune",
    "outputId": "334869d2-4c45-4106-f54a-d8b0eab968ce"
   },
   "outputs": [
    {
     "data": {
      "text/html": [
       "<div>\n",
       "<style scoped>\n",
       "    .dataframe tbody tr th:only-of-type {\n",
       "        vertical-align: middle;\n",
       "    }\n",
       "\n",
       "    .dataframe tbody tr th {\n",
       "        vertical-align: top;\n",
       "    }\n",
       "\n",
       "    .dataframe thead th {\n",
       "        text-align: right;\n",
       "    }\n",
       "</style>\n",
       "<table border=\"1\" class=\"dataframe\">\n",
       "  <thead>\n",
       "    <tr style=\"text-align: right;\">\n",
       "      <th></th>\n",
       "      <th>brand</th>\n",
       "      <th>model</th>\n",
       "      <th>model_year</th>\n",
       "      <th>fuel_type</th>\n",
       "      <th>ext_col</th>\n",
       "      <th>int_col</th>\n",
       "      <th>accident</th>\n",
       "      <th>clean_title</th>\n",
       "      <th>horsepower</th>\n",
       "      <th>Displacement</th>\n",
       "      <th>Cylinders</th>\n",
       "      <th>Gear</th>\n",
       "      <th>Transmission</th>\n",
       "      <th>d_in_km</th>\n",
       "      <th>Price</th>\n",
       "    </tr>\n",
       "  </thead>\n",
       "  <tbody>\n",
       "    <tr>\n",
       "      <th>179</th>\n",
       "      <td>43.0</td>\n",
       "      <td>151.0</td>\n",
       "      <td>22.0</td>\n",
       "      <td>3.0</td>\n",
       "      <td>29.0</td>\n",
       "      <td>14.0</td>\n",
       "      <td>0</td>\n",
       "      <td>1.0</td>\n",
       "      <td>450.0</td>\n",
       "      <td>3.8</td>\n",
       "      <td>NaN</td>\n",
       "      <td>7.0</td>\n",
       "      <td>0.0</td>\n",
       "      <td>691.640418</td>\n",
       "      <td>12.942040</td>\n",
       "    </tr>\n",
       "    <tr>\n",
       "      <th>202</th>\n",
       "      <td>14.0</td>\n",
       "      <td>770.0</td>\n",
       "      <td>9.0</td>\n",
       "      <td>3.0</td>\n",
       "      <td>302.0</td>\n",
       "      <td>14.0</td>\n",
       "      <td>0</td>\n",
       "      <td>0.0</td>\n",
       "      <td>NaN</td>\n",
       "      <td>5.4</td>\n",
       "      <td>NaN</td>\n",
       "      <td>NaN</td>\n",
       "      <td>2.0</td>\n",
       "      <td>691.640418</td>\n",
       "      <td>12.971536</td>\n",
       "    </tr>\n",
       "    <tr>\n",
       "      <th>228</th>\n",
       "      <td>6.0</td>\n",
       "      <td>1732.0</td>\n",
       "      <td>15.0</td>\n",
       "      <td>3.0</td>\n",
       "      <td>302.0</td>\n",
       "      <td>151.0</td>\n",
       "      <td>0</td>\n",
       "      <td>1.0</td>\n",
       "      <td>1400.0</td>\n",
       "      <td>8.0</td>\n",
       "      <td>NaN</td>\n",
       "      <td>7.0</td>\n",
       "      <td>0.0</td>\n",
       "      <td>691.640418</td>\n",
       "      <td>14.483850</td>\n",
       "    </tr>\n",
       "    <tr>\n",
       "      <th>302</th>\n",
       "      <td>46.0</td>\n",
       "      <td>1190.0</td>\n",
       "      <td>17.0</td>\n",
       "      <td>3.0</td>\n",
       "      <td>310.0</td>\n",
       "      <td>14.0</td>\n",
       "      <td>0</td>\n",
       "      <td>1.0</td>\n",
       "      <td>700.0</td>\n",
       "      <td>6.8</td>\n",
       "      <td>NaN</td>\n",
       "      <td>8.0</td>\n",
       "      <td>0.0</td>\n",
       "      <td>691.640418</td>\n",
       "      <td>13.099872</td>\n",
       "    </tr>\n",
       "    <tr>\n",
       "      <th>484</th>\n",
       "      <td>46.0</td>\n",
       "      <td>520.0</td>\n",
       "      <td>26.0</td>\n",
       "      <td>3.0</td>\n",
       "      <td>29.0</td>\n",
       "      <td>67.0</td>\n",
       "      <td>0</td>\n",
       "      <td>1.0</td>\n",
       "      <td>800.0</td>\n",
       "      <td>6.7</td>\n",
       "      <td>NaN</td>\n",
       "      <td>8.0</td>\n",
       "      <td>0.0</td>\n",
       "      <td>184.000000</td>\n",
       "      <td>13.016992</td>\n",
       "    </tr>\n",
       "    <tr>\n",
       "      <th>620</th>\n",
       "      <td>46.0</td>\n",
       "      <td>520.0</td>\n",
       "      <td>26.0</td>\n",
       "      <td>3.0</td>\n",
       "      <td>262.0</td>\n",
       "      <td>42.0</td>\n",
       "      <td>0</td>\n",
       "      <td>1.0</td>\n",
       "      <td>800.0</td>\n",
       "      <td>6.7</td>\n",
       "      <td>NaN</td>\n",
       "      <td>8.0</td>\n",
       "      <td>0.0</td>\n",
       "      <td>636.800000</td>\n",
       "      <td>13.451667</td>\n",
       "    </tr>\n",
       "    <tr>\n",
       "      <th>688</th>\n",
       "      <td>32.0</td>\n",
       "      <td>1251.0</td>\n",
       "      <td>9.0</td>\n",
       "      <td>3.0</td>\n",
       "      <td>233.0</td>\n",
       "      <td>10.0</td>\n",
       "      <td>1</td>\n",
       "      <td>1.0</td>\n",
       "      <td>394.0</td>\n",
       "      <td>4.2</td>\n",
       "      <td>8.0</td>\n",
       "      <td>1.0</td>\n",
       "      <td>1.0</td>\n",
       "      <td>691.640418</td>\n",
       "      <td>14.898699</td>\n",
       "    </tr>\n",
       "    <tr>\n",
       "      <th>972</th>\n",
       "      <td>25.0</td>\n",
       "      <td>286.0</td>\n",
       "      <td>23.0</td>\n",
       "      <td>3.0</td>\n",
       "      <td>38.0</td>\n",
       "      <td>14.0</td>\n",
       "      <td>0</td>\n",
       "      <td>1.0</td>\n",
       "      <td>759.0</td>\n",
       "      <td>6.5</td>\n",
       "      <td>12.0</td>\n",
       "      <td>NaN</td>\n",
       "      <td>0.0</td>\n",
       "      <td>691.640418</td>\n",
       "      <td>13.384726</td>\n",
       "    </tr>\n",
       "    <tr>\n",
       "      <th>1053</th>\n",
       "      <td>11.0</td>\n",
       "      <td>1733.0</td>\n",
       "      <td>21.0</td>\n",
       "      <td>3.0</td>\n",
       "      <td>29.0</td>\n",
       "      <td>14.0</td>\n",
       "      <td>0</td>\n",
       "      <td>1.0</td>\n",
       "      <td>645.0</td>\n",
       "      <td>8.4</td>\n",
       "      <td>10.0</td>\n",
       "      <td>NaN</td>\n",
       "      <td>0.0</td>\n",
       "      <td>691.640418</td>\n",
       "      <td>13.102150</td>\n",
       "    </tr>\n",
       "    <tr>\n",
       "      <th>1135</th>\n",
       "      <td>43.0</td>\n",
       "      <td>154.0</td>\n",
       "      <td>20.0</td>\n",
       "      <td>3.0</td>\n",
       "      <td>302.0</td>\n",
       "      <td>16.0</td>\n",
       "      <td>0</td>\n",
       "      <td>1.0</td>\n",
       "      <td>500.0</td>\n",
       "      <td>4.0</td>\n",
       "      <td>NaN</td>\n",
       "      <td>6.0</td>\n",
       "      <td>2.0</td>\n",
       "      <td>691.640418</td>\n",
       "      <td>13.100118</td>\n",
       "    </tr>\n",
       "    <tr>\n",
       "      <th>1340</th>\n",
       "      <td>25.0</td>\n",
       "      <td>286.0</td>\n",
       "      <td>25.0</td>\n",
       "      <td>3.0</td>\n",
       "      <td>29.0</td>\n",
       "      <td>101.0</td>\n",
       "      <td>0</td>\n",
       "      <td>1.0</td>\n",
       "      <td>800.0</td>\n",
       "      <td>6.5</td>\n",
       "      <td>NaN</td>\n",
       "      <td>7.0</td>\n",
       "      <td>0.0</td>\n",
       "      <td>691.640418</td>\n",
       "      <td>13.527762</td>\n",
       "    </tr>\n",
       "    <tr>\n",
       "      <th>1492</th>\n",
       "      <td>46.0</td>\n",
       "      <td>1189.0</td>\n",
       "      <td>22.0</td>\n",
       "      <td>3.0</td>\n",
       "      <td>29.0</td>\n",
       "      <td>14.0</td>\n",
       "      <td>0</td>\n",
       "      <td>1.0</td>\n",
       "      <td>800.0</td>\n",
       "      <td>6.8</td>\n",
       "      <td>NaN</td>\n",
       "      <td>8.0</td>\n",
       "      <td>0.0</td>\n",
       "      <td>691.640418</td>\n",
       "      <td>13.303017</td>\n",
       "    </tr>\n",
       "    <tr>\n",
       "      <th>1581</th>\n",
       "      <td>13.0</td>\n",
       "      <td>131.0</td>\n",
       "      <td>24.0</td>\n",
       "      <td>3.0</td>\n",
       "      <td>233.0</td>\n",
       "      <td>14.0</td>\n",
       "      <td>0</td>\n",
       "      <td>1.0</td>\n",
       "      <td>788.0</td>\n",
       "      <td>6.5</td>\n",
       "      <td>12.0</td>\n",
       "      <td>1.0</td>\n",
       "      <td>1.0</td>\n",
       "      <td>691.640418</td>\n",
       "      <td>13.060275</td>\n",
       "    </tr>\n",
       "    <tr>\n",
       "      <th>1790</th>\n",
       "      <td>25.0</td>\n",
       "      <td>283.0</td>\n",
       "      <td>20.0</td>\n",
       "      <td>3.0</td>\n",
       "      <td>25.0</td>\n",
       "      <td>63.0</td>\n",
       "      <td>0</td>\n",
       "      <td>0.0</td>\n",
       "      <td>800.0</td>\n",
       "      <td>6.5</td>\n",
       "      <td>NaN</td>\n",
       "      <td>7.0</td>\n",
       "      <td>0.0</td>\n",
       "      <td>691.640418</td>\n",
       "      <td>12.898970</td>\n",
       "    </tr>\n",
       "    <tr>\n",
       "      <th>2087</th>\n",
       "      <td>25.0</td>\n",
       "      <td>284.0</td>\n",
       "      <td>21.0</td>\n",
       "      <td>3.0</td>\n",
       "      <td>18.0</td>\n",
       "      <td>101.0</td>\n",
       "      <td>0</td>\n",
       "      <td>0.0</td>\n",
       "      <td>800.0</td>\n",
       "      <td>6.5</td>\n",
       "      <td>NaN</td>\n",
       "      <td>NaN</td>\n",
       "      <td>0.0</td>\n",
       "      <td>691.640418</td>\n",
       "      <td>13.016983</td>\n",
       "    </tr>\n",
       "    <tr>\n",
       "      <th>2108</th>\n",
       "      <td>8.0</td>\n",
       "      <td>596.0</td>\n",
       "      <td>25.0</td>\n",
       "      <td>3.0</td>\n",
       "      <td>29.0</td>\n",
       "      <td>30.0</td>\n",
       "      <td>0</td>\n",
       "      <td>1.0</td>\n",
       "      <td>700.0</td>\n",
       "      <td>6.2</td>\n",
       "      <td>NaN</td>\n",
       "      <td>10.0</td>\n",
       "      <td>0.0</td>\n",
       "      <td>691.640418</td>\n",
       "      <td>13.081531</td>\n",
       "    </tr>\n",
       "    <tr>\n",
       "      <th>3012</th>\n",
       "      <td>43.0</td>\n",
       "      <td>413.0</td>\n",
       "      <td>9.0</td>\n",
       "      <td>3.0</td>\n",
       "      <td>127.0</td>\n",
       "      <td>14.0</td>\n",
       "      <td>0</td>\n",
       "      <td>1.0</td>\n",
       "      <td>605.0</td>\n",
       "      <td>5.7</td>\n",
       "      <td>10.0</td>\n",
       "      <td>6.0</td>\n",
       "      <td>0.0</td>\n",
       "      <td>691.640418</td>\n",
       "      <td>14.284889</td>\n",
       "    </tr>\n",
       "    <tr>\n",
       "      <th>3571</th>\n",
       "      <td>36.0</td>\n",
       "      <td>213.0</td>\n",
       "      <td>25.0</td>\n",
       "      <td>3.0</td>\n",
       "      <td>61.0</td>\n",
       "      <td>14.0</td>\n",
       "      <td>0</td>\n",
       "      <td>1.0</td>\n",
       "      <td>600.0</td>\n",
       "      <td>4.0</td>\n",
       "      <td>NaN</td>\n",
       "      <td>9.0</td>\n",
       "      <td>0.0</td>\n",
       "      <td>691.640418</td>\n",
       "      <td>12.959844</td>\n",
       "    </tr>\n",
       "    <tr>\n",
       "      <th>3615</th>\n",
       "      <td>25.0</td>\n",
       "      <td>285.0</td>\n",
       "      <td>22.0</td>\n",
       "      <td>3.0</td>\n",
       "      <td>302.0</td>\n",
       "      <td>70.0</td>\n",
       "      <td>0</td>\n",
       "      <td>1.0</td>\n",
       "      <td>729.0</td>\n",
       "      <td>6.5</td>\n",
       "      <td>12.0</td>\n",
       "      <td>7.0</td>\n",
       "      <td>0.0</td>\n",
       "      <td>691.640418</td>\n",
       "      <td>13.105901</td>\n",
       "    </tr>\n",
       "    <tr>\n",
       "      <th>3775</th>\n",
       "      <td>46.0</td>\n",
       "      <td>520.0</td>\n",
       "      <td>26.0</td>\n",
       "      <td>3.0</td>\n",
       "      <td>233.0</td>\n",
       "      <td>14.0</td>\n",
       "      <td>0</td>\n",
       "      <td>1.0</td>\n",
       "      <td>800.0</td>\n",
       "      <td>6.7</td>\n",
       "      <td>NaN</td>\n",
       "      <td>8.0</td>\n",
       "      <td>0.0</td>\n",
       "      <td>691.640418</td>\n",
       "      <td>12.899095</td>\n",
       "    </tr>\n",
       "  </tbody>\n",
       "</table>\n",
       "</div>"
      ],
      "text/plain": [
       "      brand   model  model_year  fuel_type  ext_col  int_col  accident  \\\n",
       "179    43.0   151.0        22.0        3.0     29.0     14.0         0   \n",
       "202    14.0   770.0         9.0        3.0    302.0     14.0         0   \n",
       "228     6.0  1732.0        15.0        3.0    302.0    151.0         0   \n",
       "302    46.0  1190.0        17.0        3.0    310.0     14.0         0   \n",
       "484    46.0   520.0        26.0        3.0     29.0     67.0         0   \n",
       "620    46.0   520.0        26.0        3.0    262.0     42.0         0   \n",
       "688    32.0  1251.0         9.0        3.0    233.0     10.0         1   \n",
       "972    25.0   286.0        23.0        3.0     38.0     14.0         0   \n",
       "1053   11.0  1733.0        21.0        3.0     29.0     14.0         0   \n",
       "1135   43.0   154.0        20.0        3.0    302.0     16.0         0   \n",
       "1340   25.0   286.0        25.0        3.0     29.0    101.0         0   \n",
       "1492   46.0  1189.0        22.0        3.0     29.0     14.0         0   \n",
       "1581   13.0   131.0        24.0        3.0    233.0     14.0         0   \n",
       "1790   25.0   283.0        20.0        3.0     25.0     63.0         0   \n",
       "2087   25.0   284.0        21.0        3.0     18.0    101.0         0   \n",
       "2108    8.0   596.0        25.0        3.0     29.0     30.0         0   \n",
       "3012   43.0   413.0         9.0        3.0    127.0     14.0         0   \n",
       "3571   36.0   213.0        25.0        3.0     61.0     14.0         0   \n",
       "3615   25.0   285.0        22.0        3.0    302.0     70.0         0   \n",
       "3775   46.0   520.0        26.0        3.0    233.0     14.0         0   \n",
       "\n",
       "      clean_title  horsepower  Displacement  Cylinders  Gear  Transmission  \\\n",
       "179           1.0       450.0           3.8        NaN   7.0           0.0   \n",
       "202           0.0         NaN           5.4        NaN   NaN           2.0   \n",
       "228           1.0      1400.0           8.0        NaN   7.0           0.0   \n",
       "302           1.0       700.0           6.8        NaN   8.0           0.0   \n",
       "484           1.0       800.0           6.7        NaN   8.0           0.0   \n",
       "620           1.0       800.0           6.7        NaN   8.0           0.0   \n",
       "688           1.0       394.0           4.2        8.0   1.0           1.0   \n",
       "972           1.0       759.0           6.5       12.0   NaN           0.0   \n",
       "1053          1.0       645.0           8.4       10.0   NaN           0.0   \n",
       "1135          1.0       500.0           4.0        NaN   6.0           2.0   \n",
       "1340          1.0       800.0           6.5        NaN   7.0           0.0   \n",
       "1492          1.0       800.0           6.8        NaN   8.0           0.0   \n",
       "1581          1.0       788.0           6.5       12.0   1.0           1.0   \n",
       "1790          0.0       800.0           6.5        NaN   7.0           0.0   \n",
       "2087          0.0       800.0           6.5        NaN   NaN           0.0   \n",
       "2108          1.0       700.0           6.2        NaN  10.0           0.0   \n",
       "3012          1.0       605.0           5.7       10.0   6.0           0.0   \n",
       "3571          1.0       600.0           4.0        NaN   9.0           0.0   \n",
       "3615          1.0       729.0           6.5       12.0   7.0           0.0   \n",
       "3775          1.0       800.0           6.7        NaN   8.0           0.0   \n",
       "\n",
       "         d_in_km      Price  \n",
       "179   691.640418  12.942040  \n",
       "202   691.640418  12.971536  \n",
       "228   691.640418  14.483850  \n",
       "302   691.640418  13.099872  \n",
       "484   184.000000  13.016992  \n",
       "620   636.800000  13.451667  \n",
       "688   691.640418  14.898699  \n",
       "972   691.640418  13.384726  \n",
       "1053  691.640418  13.102150  \n",
       "1135  691.640418  13.100118  \n",
       "1340  691.640418  13.527762  \n",
       "1492  691.640418  13.303017  \n",
       "1581  691.640418  13.060275  \n",
       "1790  691.640418  12.898970  \n",
       "2087  691.640418  13.016983  \n",
       "2108  691.640418  13.081531  \n",
       "3012  691.640418  14.284889  \n",
       "3571  691.640418  12.959844  \n",
       "3615  691.640418  13.105901  \n",
       "3775  691.640418  12.899095  "
      ]
     },
     "execution_count": 26,
     "metadata": {},
     "output_type": "execute_result"
    }
   ],
   "source": [
    " df[df[\"Price\"] > 12.844643819234879]"
   ]
  },
  {
   "cell_type": "code",
   "execution_count": 27,
   "metadata": {
    "id": "3ZVFPbmzf0PQ"
   },
   "outputs": [],
   "source": [
    "# capping the outliers(Price)\n",
    "df[\"Price\"] = np.where(\n",
    "                      df[\"Price\"] > 12.844643819234879,\n",
    "                      12.844643819234879,\n",
    "                      np.where(df[\"Price\"] < 7.77399285758618,\n",
    "                               7.77399285758618,\n",
    "                               df[\"Price\"]))"
   ]
  },
  {
   "cell_type": "code",
   "execution_count": 28,
   "metadata": {
    "colab": {
     "base_uri": "https://localhost:8080/",
     "height": 53
    },
    "id": "vGnx1cGWf0Ls",
    "outputId": "2f4b447a-cba6-4b4f-ceee-aabfbbd5aaf0"
   },
   "outputs": [
    {
     "data": {
      "text/html": [
       "<div>\n",
       "<style scoped>\n",
       "    .dataframe tbody tr th:only-of-type {\n",
       "        vertical-align: middle;\n",
       "    }\n",
       "\n",
       "    .dataframe tbody tr th {\n",
       "        vertical-align: top;\n",
       "    }\n",
       "\n",
       "    .dataframe thead th {\n",
       "        text-align: right;\n",
       "    }\n",
       "</style>\n",
       "<table border=\"1\" class=\"dataframe\">\n",
       "  <thead>\n",
       "    <tr style=\"text-align: right;\">\n",
       "      <th></th>\n",
       "      <th>brand</th>\n",
       "      <th>model</th>\n",
       "      <th>model_year</th>\n",
       "      <th>fuel_type</th>\n",
       "      <th>ext_col</th>\n",
       "      <th>int_col</th>\n",
       "      <th>accident</th>\n",
       "      <th>clean_title</th>\n",
       "      <th>horsepower</th>\n",
       "      <th>Displacement</th>\n",
       "      <th>Cylinders</th>\n",
       "      <th>Gear</th>\n",
       "      <th>Transmission</th>\n",
       "      <th>d_in_km</th>\n",
       "      <th>Price</th>\n",
       "    </tr>\n",
       "  </thead>\n",
       "  <tbody>\n",
       "  </tbody>\n",
       "</table>\n",
       "</div>"
      ],
      "text/plain": [
       "Empty DataFrame\n",
       "Columns: [brand, model, model_year, fuel_type, ext_col, int_col, accident, clean_title, horsepower, Displacement, Cylinders, Gear, Transmission, d_in_km, Price]\n",
       "Index: []"
      ]
     },
     "execution_count": 28,
     "metadata": {},
     "output_type": "execute_result"
    }
   ],
   "source": [
    " df[df[\"Price\"] > 12.844643819234879]"
   ]
  },
  {
   "cell_type": "code",
   "execution_count": 29,
   "metadata": {
    "colab": {
     "base_uri": "https://localhost:8080/"
    },
    "id": "zWbYGVLC4nri",
    "outputId": "6f735c1a-81d1-4e97-d265-89d35521f259",
    "scrolled": true
   },
   "outputs": [
    {
     "data": {
      "text/plain": [
       "brand              0\n",
       "model              0\n",
       "model_year         0\n",
       "fuel_type          0\n",
       "ext_col            0\n",
       "int_col            0\n",
       "accident           0\n",
       "clean_title        0\n",
       "horsepower       197\n",
       "Displacement     193\n",
       "Cylinders        900\n",
       "Gear            1428\n",
       "Transmission       0\n",
       "d_in_km            0\n",
       "Price              0\n",
       "dtype: int64"
      ]
     },
     "execution_count": 29,
     "metadata": {},
     "output_type": "execute_result"
    }
   ],
   "source": [
    "df.isnull().sum()"
   ]
  },
  {
   "cell_type": "markdown",
   "metadata": {
    "id": "hbbGeOVv48Eh"
   },
   "source": [
    "## splitting\n"
   ]
  },
  {
   "cell_type": "code",
   "execution_count": 30,
   "metadata": {
    "id": "2rQyZEpz4v1R"
   },
   "outputs": [],
   "source": [
    "X=df.drop(columns=['Price'])\n",
    "y=df['Price']"
   ]
  },
  {
   "cell_type": "code",
   "execution_count": 31,
   "metadata": {
    "id": "Yyr3_0s64vyC"
   },
   "outputs": [],
   "source": [
    "train, test, target, target_test = train_test_split(X, y, test_size=0.2, random_state=0)"
   ]
  },
  {
   "cell_type": "code",
   "execution_count": 32,
   "metadata": {
    "colab": {
     "base_uri": "https://localhost:8080/"
    },
    "id": "6arrV2zu4vsR",
    "outputId": "81990fac-6733-47c4-c3ea-23c2e79ffc06"
   },
   "outputs": [
    {
     "name": "stdout",
     "output_type": "stream",
     "text": [
      "shape of X: (3964, 14)\n",
      "shape of X_train: (2536, 14)\n",
      "shape of X_test: (635, 14)\n",
      "shape of y_train: (2536,)\n",
      "shape of y_test: (635,)\n"
     ]
    }
   ],
   "source": [
    "X_train, X_test, y_train, y_test = train_test_split(train, target, test_size=0.2, random_state=0)\n",
    "print(f\"shape of X: {X.shape}\")\n",
    "print(f\"shape of X_train: {X_train.shape}\")\n",
    "print(f\"shape of X_test: {X_test.shape}\")\n",
    "print(f\"shape of y_train: {y_train.shape}\")\n",
    "print(f\"shape of y_test: {y_test.shape}\")"
   ]
  },
  {
   "cell_type": "code",
   "execution_count": 33,
   "metadata": {},
   "outputs": [],
   "source": [
    "# X_test[X_test['brand']=='Karma']"
   ]
  },
  {
   "cell_type": "code",
   "execution_count": 34,
   "metadata": {
    "colab": {
     "base_uri": "https://localhost:8080/"
    },
    "id": "0OT2Ez1b5To6",
    "outputId": "cac6bc08-533f-41ec-f1af-45d2e1824da9"
   },
   "outputs": [
    {
     "name": "stdout",
     "output_type": "stream",
     "text": [
      "<class 'pandas.core.frame.DataFrame'>\n",
      "Index: 2536 entries, 1833 to 3208\n",
      "Data columns (total 14 columns):\n",
      " #   Column        Non-Null Count  Dtype  \n",
      "---  ------        --------------  -----  \n",
      " 0   brand         2536 non-null   float64\n",
      " 1   model         2536 non-null   float64\n",
      " 2   model_year    2536 non-null   float64\n",
      " 3   fuel_type     2536 non-null   float64\n",
      " 4   ext_col       2536 non-null   float64\n",
      " 5   int_col       2536 non-null   float64\n",
      " 6   accident      2536 non-null   int32  \n",
      " 7   clean_title   2536 non-null   float64\n",
      " 8   horsepower    2403 non-null   float64\n",
      " 9   Displacement  2405 non-null   float64\n",
      " 10  Cylinders     1930 non-null   float64\n",
      " 11  Gear          1617 non-null   float64\n",
      " 12  Transmission  2536 non-null   float64\n",
      " 13  d_in_km       2536 non-null   float64\n",
      "dtypes: float64(13), int32(1)\n",
      "memory usage: 287.3 KB\n"
     ]
    }
   ],
   "source": [
    "X_train.info()"
   ]
  },
  {
   "cell_type": "code",
   "execution_count": 35,
   "metadata": {
    "id": "T-NGZJV95VY2"
   },
   "outputs": [],
   "source": [
    "# handling missing values\n",
    "from sklearn.impute import SimpleImputer\n",
    "missing_values=[\"horsepower\",\"Displacement\",\"Cylinders\",\"Gear\"]\n",
    "si=SimpleImputer(strategy='median')\n",
    "X_train[missing_values] = si.fit_transform(X_train[missing_values])\n",
    "X_test[missing_values] = si.transform(X_test[missing_values])"
   ]
  },
  {
   "cell_type": "code",
   "execution_count": 36,
   "metadata": {
    "colab": {
     "base_uri": "https://localhost:8080/"
    },
    "id": "R5bf2Cvq5YJI",
    "outputId": "d519fc77-1c98-4cf2-cc69-774e929c6804"
   },
   "outputs": [
    {
     "data": {
      "text/plain": [
       "Series([], dtype: int64)"
      ]
     },
     "execution_count": 36,
     "metadata": {},
     "output_type": "execute_result"
    }
   ],
   "source": [
    "X_train.isnull().sum()[X_train.isnull().sum()>0]"
   ]
  },
  {
   "cell_type": "code",
   "execution_count": 37,
   "metadata": {
    "id": "68FTsu26UFb2"
   },
   "outputs": [],
   "source": [
    "scaler = StandardScaler()\n",
    "train = pd.DataFrame(scaler.fit_transform(train), columns = train.columns)"
   ]
  },
  {
   "cell_type": "code",
   "execution_count": 38,
   "metadata": {
    "id": "InLb9XHq5ZxH"
   },
   "outputs": [],
   "source": [
    "acc_train_r2 = []\n",
    "acc_test_r2 = []\n",
    "acc_train_d = []\n",
    "acc_test_d = []\n",
    "acc_train_rmse = []\n",
    "acc_test_rmse = []\n",
    "def acc_d(y_meas, y_pred):\n",
    "    # Relative error between predicted y_pred and measured y_meas values\n",
    "    return mean_absolute_error(y_meas, y_pred)*len(y_meas)/sum(abs(y_meas))\n",
    "\n",
    "def acc_rmse(y_meas, y_pred):\n",
    "    # RMSE between predicted y_pred and measured y_meas values\n",
    "    return (mean_squared_error(y_meas, y_pred))**0.5"
   ]
  },
  {
   "cell_type": "code",
   "execution_count": 39,
   "metadata": {
    "id": "frIZgCAP5chs"
   },
   "outputs": [],
   "source": [
    "def acc_model(num,model,train,test):\n",
    "    # Calculation of accuracy of model акщь Sklearn by different metrics\n",
    "\n",
    "    global acc_train_r2, acc_test_r2, acc_train_d, acc_test_d, acc_train_rmse, acc_test_rmse\n",
    "\n",
    "    ytrain = model.predict(X_train)\n",
    "    ytest = model.predict(X_test)\n",
    "\n",
    "    print('y_train= ', y_train[:5].values)\n",
    "    print('ytrain = ', ytrain[:5])\n",
    "\n",
    "    acc_train_r2_num = round(r2_score(y_train, ytrain) * 100, 2)\n",
    "    print('acc(r2_score) for train =', acc_train_r2_num)\n",
    "    acc_train_r2.insert(num, acc_train_r2_num)\n",
    "\n",
    "    acc_train_d_num = round(acc_d(y_train, ytrain) * 100, 2)\n",
    "    print('acc(relative error) for train =', acc_train_d_num)\n",
    "    acc_train_d.insert(num, acc_train_d_num)\n",
    "\n",
    "    acc_train_rmse_num = round(acc_rmse(y_train, ytrain), 2)\n",
    "    print('acc(rmse) for train =', acc_train_rmse_num)\n",
    "    print(\"--------------------------------------------\")\n",
    "    acc_train_rmse.insert(num, acc_train_rmse_num)\n",
    "\n",
    "    print('y_test =', y_test[:5].values)\n",
    "    print('ytest =', ytest[:5])\n",
    "\n",
    "    acc_test_r2_num = round(r2_score(y_test, ytest) * 100, 2)\n",
    "    print('acc(r2_score) for test =', acc_test_r2_num)\n",
    "    acc_test_r2.insert(num, acc_test_r2_num)\n",
    "\n",
    "    acc_test_d_num = round(acc_d(y_test, ytest) * 100, 2)\n",
    "    print('acc(relative error) for test =', acc_test_d_num)\n",
    "    acc_test_d.insert(num, acc_test_d_num)\n",
    "\n",
    "    acc_test_rmse_num = round(acc_rmse(y_test, ytest), 2)\n",
    "    print('acc(rmse) for test =', acc_test_rmse_num)\n",
    "    acc_test_rmse.insert(num, acc_test_rmse_num)"
   ]
  },
  {
   "cell_type": "code",
   "execution_count": 40,
   "metadata": {
    "colab": {
     "base_uri": "https://localhost:8080/"
    },
    "id": "sBn7DOcn5yjj",
    "outputId": "d7ce9c43-c53b-494c-d520-0a6312d56cd8"
   },
   "outputs": [
    {
     "name": "stdout",
     "output_type": "stream",
     "text": [
      "y_train=  [10.25748391 10.37349118 10.6454249   9.66459564  9.79255599]\n",
      "ytrain =  [10.30032418 10.07699156 10.74655251  9.66148262 10.39025714]\n",
      "acc(r2_score) for train = 68.42\n",
      "acc(relative error) for train = 3.39\n",
      "acc(rmse) for train = 0.47\n",
      "--------------------------------------------\n",
      "y_test = [10.76848499 10.16585182 10.73639668 10.63344871 10.47728798]\n",
      "ytest = [10.94975401 10.57807869 10.9599603  10.42399211 10.66936613]\n",
      "acc(r2_score) for test = 73.51\n",
      "acc(relative error) for test = 3.34\n",
      "acc(rmse) for test = 0.45\n"
     ]
    }
   ],
   "source": [
    " linreg = LinearRegression()\n",
    "linreg.fit(X_train, y_train)\n",
    "acc_model(0,linreg,X_train,X_test)"
   ]
  },
  {
   "cell_type": "code",
   "execution_count": 41,
   "metadata": {
    "colab": {
     "base_uri": "https://localhost:8080/"
    },
    "id": "RyDAmj3351QT",
    "outputId": "e8cbdd2a-efb3-4873-9bf2-5322605ec459"
   },
   "outputs": [
    {
     "name": "stdout",
     "output_type": "stream",
     "text": [
      "y_train=  [10.25748391 10.37349118 10.6454249   9.66459564  9.79255599]\n",
      "ytrain =  [ 9.86110942  9.90479892 10.58385471  9.52241008 10.53224234]\n",
      "acc(r2_score) for train = 52.31\n",
      "acc(relative error) for train = 4.35\n",
      "acc(rmse) for train = 0.58\n",
      "--------------------------------------------\n",
      "y_test = [10.76848499 10.16585182 10.73639668 10.63344871 10.47728798]\n",
      "ytest = [10.61178416 10.61346847 10.89471478  9.90936939 10.64093663]\n",
      "acc(r2_score) for test = 54.29\n",
      "acc(relative error) for test = 4.56\n",
      "acc(rmse) for test = 0.59\n"
     ]
    }
   ],
   "source": [
    "# Support Vector Machines\n",
    "svr = SVR()\n",
    "svr.fit(X_train,y_train )\n",
    "acc_model(1,svr,X_train,X_test)"
   ]
  },
  {
   "cell_type": "code",
   "execution_count": 42,
   "metadata": {
    "colab": {
     "base_uri": "https://localhost:8080/"
    },
    "id": "Lh4mmKwn56wY",
    "outputId": "7e3c198c-e59f-4daa-99d0-37d2cbae3e27"
   },
   "outputs": [
    {
     "name": "stdout",
     "output_type": "stream",
     "text": [
      "y_train=  [10.25748391 10.37349118 10.6454249   9.66459564  9.79255599]\n",
      "ytrain =  [11.75581782 11.48111041 12.85816998 10.71595557 12.16842797]\n",
      "acc(r2_score) for train = -294.29\n",
      "acc(relative error) for train = 15.06\n",
      "acc(rmse) for train = 1.66\n",
      "--------------------------------------------\n",
      "y_test = [10.76848499 10.16585182 10.73639668 10.63344871 10.47728798]\n",
      "ytest = [12.54355396 12.08161351 12.72487493 11.89068865 12.55974816]\n",
      "acc(r2_score) for test = -255.54\n",
      "acc(relative error) for test = 15.06\n",
      "acc(rmse) for test = 1.64\n"
     ]
    }
   ],
   "source": [
    "# Linear SVR\n",
    "\n",
    "linear_svr = LinearSVR()\n",
    "linear_svr.fit(X_train, y_train)\n",
    "acc_model(2,linear_svr,X_train,X_test)"
   ]
  },
  {
   "cell_type": "code",
   "execution_count": 43,
   "metadata": {
    "colab": {
     "base_uri": "https://localhost:8080/"
    },
    "id": "x83pGsTa5_lb",
    "outputId": "b2a1196d-2bea-42a2-874f-5b239c65bf0e"
   },
   "outputs": [
    {
     "name": "stdout",
     "output_type": "stream",
     "text": [
      "y_train=  [10.25748391 10.37349118 10.6454249   9.66459564  9.79255599]\n",
      "ytrain =  [-3.55896451e+14 -3.05314735e+14 -5.05815121e+14  4.11049436e+12\n",
      " -4.27119756e+14]\n",
      "acc(r2_score) for train = -1.076578281791112e+31\n",
      "acc(relative error) for train = 2248814270168576.2\n",
      "acc(rmse) for train = 273724847372156.8\n",
      "--------------------------------------------\n",
      "y_test = [10.76848499 10.16585182 10.73639668 10.63344871 10.47728798]\n",
      "ytest = [-2.30093658e+14 -1.58323789e+14 -1.50639500e+14 -1.48626799e+14\n",
      " -5.40956442e+14]\n",
      "acc(r2_score) for test = -9.623394124030873e+30\n",
      "acc(relative error) for test = 2193716443800910.5\n",
      "acc(rmse) for test = 270175397793591.2\n"
     ]
    }
   ],
   "source": [
    "# Stochastic Gradient Descent\n",
    "\n",
    "sgd = SGDRegressor(random_state=42)\n",
    "sgd.fit(X_train, y_train)\n",
    "acc_model(3,sgd,X_train,X_test)"
   ]
  },
  {
   "cell_type": "code",
   "execution_count": 44,
   "metadata": {
    "colab": {
     "base_uri": "https://localhost:8080/"
    },
    "id": "gtX99b0v6JAL",
    "outputId": "1e21324e-12e9-4b67-c02e-0bbe070a78f2"
   },
   "outputs": [
    {
     "name": "stdout",
     "output_type": "stream",
     "text": [
      "y_train=  [10.25748391 10.37349118 10.6454249   9.66459564  9.79255599]\n",
      "ytrain =  [10.25748391 10.37349118 10.6454249   9.66459564  9.79255599]\n",
      "acc(r2_score) for train = 99.98\n",
      "acc(relative error) for train = 0.01\n",
      "acc(rmse) for train = 0.01\n",
      "--------------------------------------------\n",
      "y_test = [10.76848499 10.16585182 10.73639668 10.63344871 10.47728798]\n",
      "ytest = [10.88743693 10.22194128 10.85897977 10.59663473 10.29214554]\n",
      "acc(r2_score) for test = 71.29\n",
      "acc(relative error) for test = 3.2\n",
      "acc(rmse) for test = 0.47\n"
     ]
    }
   ],
   "source": [
    "# Decision Tree Regression\n",
    "\n",
    "decision_tree = DecisionTreeRegressor(random_state=42)\n",
    "decision_tree.fit(X_train, y_train)\n",
    "acc_model(4,decision_tree,train,test)\n",
    "# important_features(decision_tree)"
   ]
  },
  {
   "cell_type": "code",
   "execution_count": 45,
   "metadata": {
    "colab": {
     "base_uri": "https://localhost:8080/"
    },
    "id": "sHE4VA5Z6K5L",
    "outputId": "869c7a99-2ba6-4906-cf89-721f5e5827d1"
   },
   "outputs": [
    {
     "name": "stdout",
     "output_type": "stream",
     "text": [
      "y_train=  [10.25748391 10.37349118 10.6454249   9.66459564  9.79255599]\n",
      "ytrain =  [10.38185409 10.42601682 10.76783445  9.47221307 10.03437208]\n",
      "acc(r2_score) for train = 89.9\n",
      "acc(relative error) for train = 1.82\n",
      "acc(rmse) for train = 0.27\n",
      "--------------------------------------------\n",
      "y_test = [10.76848499 10.16585182 10.73639668 10.63344871 10.47728798]\n",
      "ytest = [10.80250313 10.11030546 10.84516873 10.5763586  10.31605554]\n",
      "acc(r2_score) for test = 85.39\n",
      "acc(relative error) for test = 2.4\n",
      "acc(rmse) for test = 0.33\n"
     ]
    }
   ],
   "source": [
    "# Random Forest\n",
    "\n",
    "random_forest = RandomForestRegressor(n_estimators=100, max_depth=20, min_samples_split=10, min_samples_leaf=5, random_state=24)\n",
    "random_forest=random_forest.fit(X_train, y_train)\n",
    "acc_model(5,random_forest,X_train,X_test)"
   ]
  },
  {
   "cell_type": "code",
   "execution_count": 46,
   "metadata": {},
   "outputs": [
    {
     "data": {
      "text/plain": [
       "<Axes: xlabel='Imp', ylabel='Varname'>"
      ]
     },
     "execution_count": 46,
     "metadata": {},
     "output_type": "execute_result"
    },
    {
     "data": {
      "image/png": "[encoded data removed]",
      "text/plain": [
       "<Figure size 640x480 with 1 Axes>"
      ]
     },
     "metadata": {},
     "output_type": "display_data"
    }
   ],
   "source": [
    "imp_df = pd.DataFrame({\n",
    "    \"Varname\": X_train.columns,\n",
    "    \"Imp\": random_forest.feature_importances_\n",
    "})\n",
    "\n",
    "imp_df.sort_values(by = [\"Imp\"], ascending = False, inplace = True)\n",
    "\n",
    "\n",
    "sns.barplot(data=imp_df.sort_values(by=\"Imp\", ascending=False), x=\"Imp\", y=\"Varname\")"
   ]
  },
  {
   "cell_type": "code",
   "execution_count": 47,
   "metadata": {
    "colab": {
     "base_uri": "https://localhost:8080/"
    },
    "id": "VjC8u_CY6mr3",
    "outputId": "1efa5c72-0692-4e48-b133-51bfb9c32982"
   },
   "outputs": [
    {
     "name": "stdout",
     "output_type": "stream",
     "text": [
      "y_train=  [10.25748391 10.37349118 10.6454249   9.66459564  9.79255599]\n",
      "ytrain =  [10.84455164 10.52646307 11.02435276  9.67163527 10.22868438]\n",
      "acc(r2_score) for train = 68.82\n",
      "acc(relative error) for train = 3.65\n",
      "acc(rmse) for train = 0.47\n",
      "--------------------------------------------\n",
      "y_test = [10.76848499 10.16585182 10.73639668 10.63344871 10.47728798]\n",
      "ytest = [11.36810886 10.29553326 11.149717   10.69195733 10.48914265]\n",
      "acc(r2_score) for test = 72.63\n",
      "acc(relative error) for test = 3.5\n",
      "acc(rmse) for test = 0.46\n"
     ]
    }
   ],
   "source": [
    " # AdaBoost Regression\n",
    "\n",
    "Ada_Boost = AdaBoostRegressor()\n",
    "Ada_Boost.fit(X_train, y_train)\n",
    "acc_model(6, Ada_Boost, X_train, X_test)"
   ]
  },
  {
   "cell_type": "code",
   "execution_count": 48,
   "metadata": {
    "colab": {
     "base_uri": "https://localhost:8080/"
    },
    "id": "CZ8JAjkb6u6C",
    "outputId": "6f8b57b5-fbab-4e7a-ce59-81c8f6486475"
   },
   "outputs": [
    {
     "name": "stdout",
     "output_type": "stream",
     "text": [
      "y_train=  [10.25748391 10.37349118 10.6454249   9.66459564  9.79255599]\n",
      "ytrain =  [10.25748391 10.37349118 10.6454249   9.66459564  9.79255599]\n",
      "acc(r2_score) for train = 99.98\n",
      "acc(relative error) for train = 0.01\n",
      "acc(rmse) for train = 0.01\n",
      "--------------------------------------------\n",
      "y_test = [10.76848499 10.16585182 10.73639668 10.63344871 10.47728798]\n",
      "ytest = [10.90113608 10.18560414 10.98915451 10.56082548 10.35656914]\n",
      "acc(r2_score) for test = 85.87\n",
      "acc(relative error) for test = 2.32\n",
      "acc(rmse) for test = 0.33\n"
     ]
    }
   ],
   "source": [
    "# Extra Trees Regressor\n",
    "etr = ExtraTreesRegressor(random_state=0)\n",
    "etr.fit(X_train, y_train)\n",
    "acc_model(7,etr,X_train,X_test)"
   ]
  },
  {
   "cell_type": "code",
   "execution_count": 49,
   "metadata": {
    "colab": {
     "base_uri": "https://localhost:8080/"
    },
    "id": "mK98XNZO6zlT",
    "outputId": "2b89591c-0351-4453-f2bf-93fc4454353a"
   },
   "outputs": [
    {
     "name": "stdout",
     "output_type": "stream",
     "text": [
      "y_train=  [10.25748391 10.37349118 10.6454249   9.66459564  9.79255599]\n",
      "ytrain =  [10.30308483 10.4197412  10.79124818  9.50103732  9.87331242]\n",
      "acc(r2_score) for train = 96.33\n",
      "acc(relative error) for train = 1.03\n",
      "acc(rmse) for train = 0.16\n",
      "--------------------------------------------\n",
      "y_test = [10.76848499 10.16585182 10.73639668 10.63344871 10.47728798]\n",
      "ytest = [10.58981551 10.06142875 10.94430981 10.63071818 10.46719949]\n",
      "acc(r2_score) for test = 85.8\n",
      "acc(relative error) for test = 2.34\n",
      "acc(rmse) for test = 0.33\n"
     ]
    }
   ],
   "source": [
    "# Bagging Regressor\n",
    "\n",
    "bagging = BaggingRegressor()\n",
    "bagging.fit(X_train, y_train)\n",
    "acc_model(8,bagging,X_train,X_test)"
   ]
  },
  {
   "cell_type": "code",
   "execution_count": 50,
   "metadata": {
    "colab": {
     "base_uri": "https://localhost:8080/"
    },
    "id": "7DTdVsHc61ll",
    "outputId": "8d39f93c-75a2-402d-b402-396d627f6055"
   },
   "outputs": [
    {
     "name": "stdout",
     "output_type": "stream",
     "text": [
      "y_train=  [10.25748391 10.37349118 10.6454249   9.66459564  9.79255599]\n",
      "ytrain =  [10.29721348 10.07758529 10.74232195  9.66132138 10.3879659 ]\n",
      "acc(r2_score) for train = 68.42\n",
      "acc(relative error) for train = 3.38\n",
      "acc(rmse) for train = 0.47\n",
      "--------------------------------------------\n",
      "y_test = [10.76848499 10.16585182 10.73639668 10.63344871 10.47728798]\n",
      "ytest = [10.94656913 10.57257295 10.96633467 10.42453709 10.66689525]\n",
      "acc(r2_score) for test = 73.52\n",
      "acc(relative error) for test = 3.33\n",
      "acc(rmse) for test = 0.45\n"
     ]
    }
   ],
   "source": [
    "# Ridge Regressor\n",
    "\n",
    "ridge = RidgeCV(cv=5)\n",
    "ridge.fit(X_train, y_train)\n",
    "acc_model(9,ridge,X_train,X_test)"
   ]
  },
  {
   "cell_type": "code",
   "execution_count": 51,
   "metadata": {
    "id": "VNfUWwR_64IV"
   },
   "outputs": [],
   "source": [
    "models = pd.DataFrame({\n",
    "    'Model': ['Linear Regression', 'Support Vector Machines', 'Linear SVR',\n",
    "               'Stochastic Gradient Decent', 'Decision Tree Regressor', 'Random Forest','AdaBoost Regression',\n",
    "               'Extra Trees Regressor','Bagging Regressor',\n",
    "             'Ridge Regressor'],\n",
    "\n",
    "    'r2_train': acc_train_r2,\n",
    "    'r2_test': acc_test_r2,\n",
    "    'rmse_train': acc_train_rmse,\n",
    "    'rmse_test': acc_test_rmse\n",
    "                     })"
   ]
  },
  {
   "cell_type": "code",
   "execution_count": 52,
   "metadata": {
    "id": "jF6A5X1f66Xo"
   },
   "outputs": [],
   "source": [
    "pd.options.display.float_format = '{:,.2f}'.format"
   ]
  },
  {
   "cell_type": "code",
   "execution_count": 53,
   "metadata": {
    "colab": {
     "base_uri": "https://localhost:8080/",
     "height": 380
    },
    "id": "5acwpC5m68De",
    "outputId": "57d01c93-26b0-4d8b-f6be-2fb2258873a7"
   },
   "outputs": [
    {
     "name": "stdout",
     "output_type": "stream",
     "text": [
      "Prediction accuracy for models by R2 criterion - r2_test\n"
     ]
    },
    {
     "data": {
      "text/html": [
       "<div>\n",
       "<style scoped>\n",
       "    .dataframe tbody tr th:only-of-type {\n",
       "        vertical-align: middle;\n",
       "    }\n",
       "\n",
       "    .dataframe tbody tr th {\n",
       "        vertical-align: top;\n",
       "    }\n",
       "\n",
       "    .dataframe thead th {\n",
       "        text-align: right;\n",
       "    }\n",
       "</style>\n",
       "<table border=\"1\" class=\"dataframe\">\n",
       "  <thead>\n",
       "    <tr style=\"text-align: right;\">\n",
       "      <th></th>\n",
       "      <th>Model</th>\n",
       "      <th>r2_train</th>\n",
       "      <th>r2_test</th>\n",
       "      <th>rmse_train</th>\n",
       "      <th>rmse_test</th>\n",
       "    </tr>\n",
       "  </thead>\n",
       "  <tbody>\n",
       "    <tr>\n",
       "      <th>7</th>\n",
       "      <td>Extra Trees Regressor</td>\n",
       "      <td>99.98</td>\n",
       "      <td>85.87</td>\n",
       "      <td>0.01</td>\n",
       "      <td>0.33</td>\n",
       "    </tr>\n",
       "    <tr>\n",
       "      <th>8</th>\n",
       "      <td>Bagging Regressor</td>\n",
       "      <td>96.33</td>\n",
       "      <td>85.80</td>\n",
       "      <td>0.16</td>\n",
       "      <td>0.33</td>\n",
       "    </tr>\n",
       "    <tr>\n",
       "      <th>5</th>\n",
       "      <td>Random Forest</td>\n",
       "      <td>89.90</td>\n",
       "      <td>85.39</td>\n",
       "      <td>0.27</td>\n",
       "      <td>0.33</td>\n",
       "    </tr>\n",
       "    <tr>\n",
       "      <th>9</th>\n",
       "      <td>Ridge Regressor</td>\n",
       "      <td>68.42</td>\n",
       "      <td>73.52</td>\n",
       "      <td>0.47</td>\n",
       "      <td>0.45</td>\n",
       "    </tr>\n",
       "    <tr>\n",
       "      <th>0</th>\n",
       "      <td>Linear Regression</td>\n",
       "      <td>68.42</td>\n",
       "      <td>73.51</td>\n",
       "      <td>0.47</td>\n",
       "      <td>0.45</td>\n",
       "    </tr>\n",
       "    <tr>\n",
       "      <th>6</th>\n",
       "      <td>AdaBoost Regression</td>\n",
       "      <td>68.82</td>\n",
       "      <td>72.63</td>\n",
       "      <td>0.47</td>\n",
       "      <td>0.46</td>\n",
       "    </tr>\n",
       "    <tr>\n",
       "      <th>4</th>\n",
       "      <td>Decision Tree Regressor</td>\n",
       "      <td>99.98</td>\n",
       "      <td>71.29</td>\n",
       "      <td>0.01</td>\n",
       "      <td>0.47</td>\n",
       "    </tr>\n",
       "    <tr>\n",
       "      <th>1</th>\n",
       "      <td>Support Vector Machines</td>\n",
       "      <td>52.31</td>\n",
       "      <td>54.29</td>\n",
       "      <td>0.58</td>\n",
       "      <td>0.59</td>\n",
       "    </tr>\n",
       "    <tr>\n",
       "      <th>2</th>\n",
       "      <td>Linear SVR</td>\n",
       "      <td>-294.29</td>\n",
       "      <td>-255.54</td>\n",
       "      <td>1.66</td>\n",
       "      <td>1.64</td>\n",
       "    </tr>\n",
       "    <tr>\n",
       "      <th>3</th>\n",
       "      <td>Stochastic Gradient Decent</td>\n",
       "      <td>-10,765,782,817,911,120,404,401,293,885,440.00</td>\n",
       "      <td>-9,623,394,124,030,873,298,019,222,028,288.00</td>\n",
       "      <td>273,724,847,372,156.81</td>\n",
       "      <td>270,175,397,793,591.19</td>\n",
       "    </tr>\n",
       "  </tbody>\n",
       "</table>\n",
       "</div>"
      ],
      "text/plain": [
       "                        Model                                       r2_train  \\\n",
       "7       Extra Trees Regressor                                          99.98   \n",
       "8           Bagging Regressor                                          96.33   \n",
       "5               Random Forest                                          89.90   \n",
       "9             Ridge Regressor                                          68.42   \n",
       "0           Linear Regression                                          68.42   \n",
       "6         AdaBoost Regression                                          68.82   \n",
       "4     Decision Tree Regressor                                          99.98   \n",
       "1     Support Vector Machines                                          52.31   \n",
       "2                  Linear SVR                                        -294.29   \n",
       "3  Stochastic Gradient Decent -10,765,782,817,911,120,404,401,293,885,440.00   \n",
       "\n",
       "                                        r2_test             rmse_train  \\\n",
       "7                                         85.87                   0.01   \n",
       "8                                         85.80                   0.16   \n",
       "5                                         85.39                   0.27   \n",
       "9                                         73.52                   0.47   \n",
       "0                                         73.51                   0.47   \n",
       "6                                         72.63                   0.47   \n",
       "4                                         71.29                   0.01   \n",
       "1                                         54.29                   0.58   \n",
       "2                                       -255.54                   1.66   \n",
       "3 -9,623,394,124,030,873,298,019,222,028,288.00 273,724,847,372,156.81   \n",
       "\n",
       "               rmse_test  \n",
       "7                   0.33  \n",
       "8                   0.33  \n",
       "5                   0.33  \n",
       "9                   0.45  \n",
       "0                   0.45  \n",
       "6                   0.46  \n",
       "4                   0.47  \n",
       "1                   0.59  \n",
       "2                   1.64  \n",
       "3 270,175,397,793,591.19  "
      ]
     },
     "execution_count": 53,
     "metadata": {},
     "output_type": "execute_result"
    }
   ],
   "source": [
    "print('Prediction accuracy for models by R2 criterion - r2_test')\n",
    "models.sort_values(by=['r2_test', 'r2_train'], ascending=False)"
   ]
  },
  {
   "cell_type": "markdown",
   "metadata": {
    "id": "gUkdZatqF0F_"
   },
   "source": [
    "## Pipeline\n"
   ]
  },
  {
   "cell_type": "code",
   "execution_count": 54,
   "metadata": {
    "id": "gdq6svLrLzzv"
   },
   "outputs": [],
   "source": [
    "from sklearn.compose import ColumnTransformer\n",
    "from sklearn.pipeline import Pipeline"
   ]
  },
  {
   "cell_type": "code",
   "execution_count": 70,
   "metadata": {
    "colab": {
     "base_uri": "https://localhost:8080/",
     "height": 424
    },
    "id": "nHFhyEicI18C",
    "outputId": "89f54ccc-5568-4a33-8f5c-e3e22b5f0cdf"
   },
   "outputs": [
    {
     "data": {
      "text/html": [
       "<div>\n",
       "<style scoped>\n",
       "    .dataframe tbody tr th:only-of-type {\n",
       "        vertical-align: middle;\n",
       "    }\n",
       "\n",
       "    .dataframe tbody tr th {\n",
       "        vertical-align: top;\n",
       "    }\n",
       "\n",
       "    .dataframe thead th {\n",
       "        text-align: right;\n",
       "    }\n",
       "</style>\n",
       "<table border=\"1\" class=\"dataframe\">\n",
       "  <thead>\n",
       "    <tr style=\"text-align: right;\">\n",
       "      <th></th>\n",
       "      <th>brand</th>\n",
       "      <th>model</th>\n",
       "      <th>model_year</th>\n",
       "      <th>fuel_type</th>\n",
       "      <th>ext_col</th>\n",
       "      <th>int_col</th>\n",
       "      <th>accident</th>\n",
       "      <th>clean_title</th>\n",
       "      <th>horsepower</th>\n",
       "      <th>Displacement</th>\n",
       "      <th>Cylinders</th>\n",
       "      <th>Gear</th>\n",
       "      <th>Transmission</th>\n",
       "      <th>d_in_km</th>\n",
       "      <th>Price</th>\n",
       "    </tr>\n",
       "  </thead>\n",
       "  <tbody>\n",
       "    <tr>\n",
       "      <th>0</th>\n",
       "      <td>14.00</td>\n",
       "      <td>1,722.00</td>\n",
       "      <td>17.00</td>\n",
       "      <td>1.00</td>\n",
       "      <td>29.00</td>\n",
       "      <td>14.00</td>\n",
       "      <td>1</td>\n",
       "      <td>1.00</td>\n",
       "      <td>300.00</td>\n",
       "      <td>3.70</td>\n",
       "      <td>6.00</td>\n",
       "      <td>6.00</td>\n",
       "      <td>0.00</td>\n",
       "      <td>691.64</td>\n",
       "      <td>9.24</td>\n",
       "    </tr>\n",
       "    <tr>\n",
       "      <th>1</th>\n",
       "      <td>19.00</td>\n",
       "      <td>1,166.00</td>\n",
       "      <td>25.00</td>\n",
       "      <td>3.00</td>\n",
       "      <td>184.00</td>\n",
       "      <td>70.00</td>\n",
       "      <td>1</td>\n",
       "      <td>1.00</td>\n",
       "      <td>333.00</td>\n",
       "      <td>3.80</td>\n",
       "      <td>NaN</td>\n",
       "      <td>8.00</td>\n",
       "      <td>0.00</td>\n",
       "      <td>691.64</td>\n",
       "      <td>10.55</td>\n",
       "    </tr>\n",
       "    <tr>\n",
       "      <th>2</th>\n",
       "      <td>27.00</td>\n",
       "      <td>1,307.00</td>\n",
       "      <td>26.00</td>\n",
       "      <td>3.00</td>\n",
       "      <td>38.00</td>\n",
       "      <td>14.00</td>\n",
       "      <td>0</td>\n",
       "      <td>0.00</td>\n",
       "      <td>NaN</td>\n",
       "      <td>3.50</td>\n",
       "      <td>NaN</td>\n",
       "      <td>NaN</td>\n",
       "      <td>0.00</td>\n",
       "      <td>691.64</td>\n",
       "      <td>10.91</td>\n",
       "    </tr>\n",
       "    <tr>\n",
       "      <th>3</th>\n",
       "      <td>20.00</td>\n",
       "      <td>1,224.00</td>\n",
       "      <td>19.00</td>\n",
       "      <td>4.00</td>\n",
       "      <td>29.00</td>\n",
       "      <td>14.00</td>\n",
       "      <td>0</td>\n",
       "      <td>1.00</td>\n",
       "      <td>354.00</td>\n",
       "      <td>3.50</td>\n",
       "      <td>6.00</td>\n",
       "      <td>7.00</td>\n",
       "      <td>0.00</td>\n",
       "      <td>691.64</td>\n",
       "      <td>9.65</td>\n",
       "    </tr>\n",
       "    <tr>\n",
       "      <th>4</th>\n",
       "      <td>3.00</td>\n",
       "      <td>1,207.00</td>\n",
       "      <td>25.00</td>\n",
       "      <td>3.00</td>\n",
       "      <td>119.00</td>\n",
       "      <td>14.00</td>\n",
       "      <td>0</td>\n",
       "      <td>0.00</td>\n",
       "      <td>416.00</td>\n",
       "      <td>2.00</td>\n",
       "      <td>NaN</td>\n",
       "      <td>8.00</td>\n",
       "      <td>0.00</td>\n",
       "      <td>691.64</td>\n",
       "      <td>10.46</td>\n",
       "    </tr>\n",
       "    <tr>\n",
       "      <th>...</th>\n",
       "      <td>...</td>\n",
       "      <td>...</td>\n",
       "      <td>...</td>\n",
       "      <td>...</td>\n",
       "      <td>...</td>\n",
       "      <td>...</td>\n",
       "      <td>...</td>\n",
       "      <td>...</td>\n",
       "      <td>...</td>\n",
       "      <td>...</td>\n",
       "      <td>...</td>\n",
       "      <td>...</td>\n",
       "      <td>...</td>\n",
       "      <td>...</td>\n",
       "      <td>...</td>\n",
       "    </tr>\n",
       "    <tr>\n",
       "      <th>3959</th>\n",
       "      <td>5.00</td>\n",
       "      <td>475.00</td>\n",
       "      <td>27.00</td>\n",
       "      <td>3.00</td>\n",
       "      <td>50.00</td>\n",
       "      <td>74.00</td>\n",
       "      <td>0</td>\n",
       "      <td>1.00</td>\n",
       "      <td>650.00</td>\n",
       "      <td>6.00</td>\n",
       "      <td>NaN</td>\n",
       "      <td>8.00</td>\n",
       "      <td>0.00</td>\n",
       "      <td>691.64</td>\n",
       "      <td>12.77</td>\n",
       "    </tr>\n",
       "    <tr>\n",
       "      <th>3960</th>\n",
       "      <td>3.00</td>\n",
       "      <td>1,445.00</td>\n",
       "      <td>26.00</td>\n",
       "      <td>3.00</td>\n",
       "      <td>29.00</td>\n",
       "      <td>14.00</td>\n",
       "      <td>0</td>\n",
       "      <td>1.00</td>\n",
       "      <td>349.00</td>\n",
       "      <td>3.00</td>\n",
       "      <td>6.00</td>\n",
       "      <td>1.00</td>\n",
       "      <td>1.00</td>\n",
       "      <td>691.64</td>\n",
       "      <td>10.89</td>\n",
       "    </tr>\n",
       "    <tr>\n",
       "      <th>3961</th>\n",
       "      <td>43.00</td>\n",
       "      <td>1,656.00</td>\n",
       "      <td>26.00</td>\n",
       "      <td>2.00</td>\n",
       "      <td>29.00</td>\n",
       "      <td>14.00</td>\n",
       "      <td>0</td>\n",
       "      <td>0.00</td>\n",
       "      <td>NaN</td>\n",
       "      <td>NaN</td>\n",
       "      <td>NaN</td>\n",
       "      <td>NaN</td>\n",
       "      <td>0.00</td>\n",
       "      <td>691.64</td>\n",
       "      <td>11.42</td>\n",
       "    </tr>\n",
       "    <tr>\n",
       "      <th>3962</th>\n",
       "      <td>14.00</td>\n",
       "      <td>654.00</td>\n",
       "      <td>24.00</td>\n",
       "      <td>3.00</td>\n",
       "      <td>38.00</td>\n",
       "      <td>14.00</td>\n",
       "      <td>0</td>\n",
       "      <td>1.00</td>\n",
       "      <td>450.00</td>\n",
       "      <td>3.50</td>\n",
       "      <td>6.00</td>\n",
       "      <td>NaN</td>\n",
       "      <td>0.00</td>\n",
       "      <td>691.64</td>\n",
       "      <td>11.05</td>\n",
       "    </tr>\n",
       "    <tr>\n",
       "      <th>3963</th>\n",
       "      <td>4.00</td>\n",
       "      <td>1,768.00</td>\n",
       "      <td>24.00</td>\n",
       "      <td>3.00</td>\n",
       "      <td>127.00</td>\n",
       "      <td>31.00</td>\n",
       "      <td>1</td>\n",
       "      <td>1.00</td>\n",
       "      <td>248.00</td>\n",
       "      <td>2.00</td>\n",
       "      <td>4.00</td>\n",
       "      <td>NaN</td>\n",
       "      <td>0.00</td>\n",
       "      <td>691.64</td>\n",
       "      <td>10.60</td>\n",
       "    </tr>\n",
       "  </tbody>\n",
       "</table>\n",
       "<p>3964 rows × 15 columns</p>\n",
       "</div>"
      ],
      "text/plain": [
       "      brand    model  model_year  fuel_type  ext_col  int_col  accident  \\\n",
       "0     14.00 1,722.00       17.00       1.00    29.00    14.00         1   \n",
       "1     19.00 1,166.00       25.00       3.00   184.00    70.00         1   \n",
       "2     27.00 1,307.00       26.00       3.00    38.00    14.00         0   \n",
       "3     20.00 1,224.00       19.00       4.00    29.00    14.00         0   \n",
       "4      3.00 1,207.00       25.00       3.00   119.00    14.00         0   \n",
       "...     ...      ...         ...        ...      ...      ...       ...   \n",
       "3959   5.00   475.00       27.00       3.00    50.00    74.00         0   \n",
       "3960   3.00 1,445.00       26.00       3.00    29.00    14.00         0   \n",
       "3961  43.00 1,656.00       26.00       2.00    29.00    14.00         0   \n",
       "3962  14.00   654.00       24.00       3.00    38.00    14.00         0   \n",
       "3963   4.00 1,768.00       24.00       3.00   127.00    31.00         1   \n",
       "\n",
       "      clean_title  horsepower  Displacement  Cylinders  Gear  Transmission  \\\n",
       "0            1.00      300.00          3.70       6.00  6.00          0.00   \n",
       "1            1.00      333.00          3.80        NaN  8.00          0.00   \n",
       "2            0.00         NaN          3.50        NaN   NaN          0.00   \n",
       "3            1.00      354.00          3.50       6.00  7.00          0.00   \n",
       "4            0.00      416.00          2.00        NaN  8.00          0.00   \n",
       "...           ...         ...           ...        ...   ...           ...   \n",
       "3959         1.00      650.00          6.00        NaN  8.00          0.00   \n",
       "3960         1.00      349.00          3.00       6.00  1.00          1.00   \n",
       "3961         0.00         NaN           NaN        NaN   NaN          0.00   \n",
       "3962         1.00      450.00          3.50       6.00   NaN          0.00   \n",
       "3963         1.00      248.00          2.00       4.00   NaN          0.00   \n",
       "\n",
       "      d_in_km  Price  \n",
       "0      691.64   9.24  \n",
       "1      691.64  10.55  \n",
       "2      691.64  10.91  \n",
       "3      691.64   9.65  \n",
       "4      691.64  10.46  \n",
       "...       ...    ...  \n",
       "3959   691.64  12.77  \n",
       "3960   691.64  10.89  \n",
       "3961   691.64  11.42  \n",
       "3962   691.64  11.05  \n",
       "3963   691.64  10.60  \n",
       "\n",
       "[3964 rows x 15 columns]"
      ]
     },
     "execution_count": 70,
     "metadata": {},
     "output_type": "execute_result"
    }
   ],
   "source": [
    "df"
   ]
  },
  {
   "cell_type": "code",
   "execution_count": 56,
   "metadata": {},
   "outputs": [],
   "source": [
    "trf1 = ColumnTransformer([\n",
    "    ('ordinal_cols', OrdinalEncoder(handle_unknown='use_encoded_value', unknown_value = -1), [0,1,3,4,5,7,12])\n",
    "    ], remainder='passthrough')"
   ]
  },
  {
   "cell_type": "code",
   "execution_count": 57,
   "metadata": {},
   "outputs": [],
   "source": [
    "trf2 = ColumnTransformer([\n",
    "    ('impute_cat_cols', SimpleImputer(strategy='most_frequent'), [4,5,12]),\n",
    "    ('impute_num_cols', SimpleImputer(strategy='median'), [8,9,10,11])\n",
    "], remainder='passthrough')"
   ]
  },
  {
   "cell_type": "code",
   "execution_count": 58,
   "metadata": {},
   "outputs": [],
   "source": [
    "trf3 = ColumnTransformer([\n",
    "    ('scale', StandardScaler(), slice(0,14))\n",
    "])"
   ]
  },
  {
   "cell_type": "code",
   "execution_count": 59,
   "metadata": {
    "id": "kKaMgNEeWKbI"
   },
   "outputs": [],
   "source": [
    "trf4 = RandomForestRegressor()"
   ]
  },
  {
   "cell_type": "code",
   "execution_count": 60,
   "metadata": {
    "colab": {
     "base_uri": "https://localhost:8080/",
     "height": 494
    },
    "id": "HJwqfR0tWax8",
    "outputId": "1e9f07c3-53c9-47a7-e371-f3fc59f6d84f"
   },
   "outputs": [
    {
     "data": {
      "text/html": [
       "<style>#sk-container-id-1 {color: black;}#sk-container-id-1 pre{padding: 0;}#sk-container-id-1 div.sk-toggleable {background-color: white;}#sk-container-id-1 label.sk-toggleable__label {cursor: pointer;display: block;width: 100%;margin-bottom: 0;padding: 0.3em;box-sizing: border-box;text-align: center;}#sk-container-id-1 label.sk-toggleable__label-arrow:before {content: \"▸\";float: left;margin-right: 0.25em;color: #696969;}#sk-container-id-1 label.sk-toggleable__label-arrow:hover:before {color: black;}#sk-container-id-1 div.sk-estimator:hover label.sk-toggleable__label-arrow:before {color: black;}#sk-container-id-1 div.sk-toggleable__content {max-height: 0;max-width: 0;overflow: hidden;text-align: left;background-color: #f0f8ff;}#sk-container-id-1 div.sk-toggleable__content pre {margin: 0.2em;color: black;border-radius: 0.25em;background-color: #f0f8ff;}#sk-container-id-1 input.sk-toggleable__control:checked~div.sk-toggleable__content {max-height: 200px;max-width: 100%;overflow: auto;}#sk-container-id-1 input.sk-toggleable__control:checked~label.sk-toggleable__label-arrow:before {content: \"▾\";}#sk-container-id-1 div.sk-estimator input.sk-toggleable__control:checked~label.sk-toggleable__label {background-color: #d4ebff;}#sk-container-id-1 div.sk-label input.sk-toggleable__control:checked~label.sk-toggleable__label {background-color: #d4ebff;}#sk-container-id-1 input.sk-hidden--visually {border: 0;clip: rect(1px 1px 1px 1px);clip: rect(1px, 1px, 1px, 1px);height: 1px;margin: -1px;overflow: hidden;padding: 0;position: absolute;width: 1px;}#sk-container-id-1 div.sk-estimator {font-family: monospace;background-color: #f0f8ff;border: 1px dotted black;border-radius: 0.25em;box-sizing: border-box;margin-bottom: 0.5em;}#sk-container-id-1 div.sk-estimator:hover {background-color: #d4ebff;}#sk-container-id-1 div.sk-parallel-item::after {content: \"\";width: 100%;border-bottom: 1px solid gray;flex-grow: 1;}#sk-container-id-1 div.sk-label:hover label.sk-toggleable__label {background-color: #d4ebff;}#sk-container-id-1 div.sk-serial::before {content: \"\";position: absolute;border-left: 1px solid gray;box-sizing: border-box;top: 0;bottom: 0;left: 50%;z-index: 0;}#sk-container-id-1 div.sk-serial {display: flex;flex-direction: column;align-items: center;background-color: white;padding-right: 0.2em;padding-left: 0.2em;position: relative;}#sk-container-id-1 div.sk-item {position: relative;z-index: 1;}#sk-container-id-1 div.sk-parallel {display: flex;align-items: stretch;justify-content: center;background-color: white;position: relative;}#sk-container-id-1 div.sk-item::before, #sk-container-id-1 div.sk-parallel-item::before {content: \"\";position: absolute;border-left: 1px solid gray;box-sizing: border-box;top: 0;bottom: 0;left: 50%;z-index: -1;}#sk-container-id-1 div.sk-parallel-item {display: flex;flex-direction: column;z-index: 1;position: relative;background-color: white;}#sk-container-id-1 div.sk-parallel-item:first-child::after {align-self: flex-end;width: 50%;}#sk-container-id-1 div.sk-parallel-item:last-child::after {align-self: flex-start;width: 50%;}#sk-container-id-1 div.sk-parallel-item:only-child::after {width: 0;}#sk-container-id-1 div.sk-dashed-wrapped {border: 1px dashed gray;margin: 0 0.4em 0.5em 0.4em;box-sizing: border-box;padding-bottom: 0.4em;background-color: white;}#sk-container-id-1 div.sk-label label {font-family: monospace;font-weight: bold;display: inline-block;line-height: 1.2em;}#sk-container-id-1 div.sk-label-container {text-align: center;}#sk-container-id-1 div.sk-container {/* jupyter's `normalize.less` sets `[hidden] { display: none; }` but bootstrap.min.css set `[hidden] { display: none !important; }` so we also need the `!important` here to be able to override the default hidden behavior on the sphinx rendered scikit-learn.org. See: https://github.com/scikit-learn/scikit-learn/issues/21755 */display: inline-block !important;position: relative;}#sk-container-id-1 div.sk-text-repr-fallback {display: none;}</style><div id=\"sk-container-id-1\" class=\"sk-top-container\"><div class=\"sk-text-repr-fallback\"><pre>Pipeline(steps=[(&#x27;trf1&#x27;,\n",
       "                 ColumnTransformer(remainder=&#x27;passthrough&#x27;,\n",
       "                                   transformers=[(&#x27;ordinal_cols&#x27;,\n",
       "                                                  OrdinalEncoder(handle_unknown=&#x27;use_encoded_value&#x27;,\n",
       "                                                                 unknown_value=-1),\n",
       "                                                  [0, 1, 3, 4, 5, 7, 12])])),\n",
       "                (&#x27;trf2&#x27;,\n",
       "                 ColumnTransformer(remainder=&#x27;passthrough&#x27;,\n",
       "                                   transformers=[(&#x27;impute_cat_cols&#x27;,\n",
       "                                                  SimpleImputer(strategy=&#x27;most_frequent&#x27;),\n",
       "                                                  [4, 5, 12]),\n",
       "                                                 (&#x27;impute_num_cols&#x27;,\n",
       "                                                  SimpleImputer(strategy=&#x27;median&#x27;),\n",
       "                                                  [8, 9, 10, 11])])),\n",
       "                (&#x27;trf3&#x27;,\n",
       "                 ColumnTransformer(transformers=[(&#x27;scale&#x27;, StandardScaler(),\n",
       "                                                  slice(0, 14, None))])),\n",
       "                (&#x27;trf4&#x27;, RandomForestRegressor())])</pre><b>In a Jupyter environment, please rerun this cell to show the HTML representation or trust the notebook. <br />On GitHub, the HTML representation is unable to render, please try loading this page with nbviewer.org.</b></div><div class=\"sk-container\" hidden><div class=\"sk-item sk-dashed-wrapped\"><div class=\"sk-label-container\"><div class=\"sk-label sk-toggleable\"><input class=\"sk-toggleable__control sk-hidden--visually\" id=\"sk-estimator-id-1\" type=\"checkbox\" ><label for=\"sk-estimator-id-1\" class=\"sk-toggleable__label sk-toggleable__label-arrow\">Pipeline</label><div class=\"sk-toggleable__content\"><pre>Pipeline(steps=[(&#x27;trf1&#x27;,\n",
       "                 ColumnTransformer(remainder=&#x27;passthrough&#x27;,\n",
       "                                   transformers=[(&#x27;ordinal_cols&#x27;,\n",
       "                                                  OrdinalEncoder(handle_unknown=&#x27;use_encoded_value&#x27;,\n",
       "                                                                 unknown_value=-1),\n",
       "                                                  [0, 1, 3, 4, 5, 7, 12])])),\n",
       "                (&#x27;trf2&#x27;,\n",
       "                 ColumnTransformer(remainder=&#x27;passthrough&#x27;,\n",
       "                                   transformers=[(&#x27;impute_cat_cols&#x27;,\n",
       "                                                  SimpleImputer(strategy=&#x27;most_frequent&#x27;),\n",
       "                                                  [4, 5, 12]),\n",
       "                                                 (&#x27;impute_num_cols&#x27;,\n",
       "                                                  SimpleImputer(strategy=&#x27;median&#x27;),\n",
       "                                                  [8, 9, 10, 11])])),\n",
       "                (&#x27;trf3&#x27;,\n",
       "                 ColumnTransformer(transformers=[(&#x27;scale&#x27;, StandardScaler(),\n",
       "                                                  slice(0, 14, None))])),\n",
       "                (&#x27;trf4&#x27;, RandomForestRegressor())])</pre></div></div></div><div class=\"sk-serial\"><div class=\"sk-item sk-dashed-wrapped\"><div class=\"sk-label-container\"><div class=\"sk-label sk-toggleable\"><input class=\"sk-toggleable__control sk-hidden--visually\" id=\"sk-estimator-id-2\" type=\"checkbox\" ><label for=\"sk-estimator-id-2\" class=\"sk-toggleable__label sk-toggleable__label-arrow\">trf1: ColumnTransformer</label><div class=\"sk-toggleable__content\"><pre>ColumnTransformer(remainder=&#x27;passthrough&#x27;,\n",
       "                  transformers=[(&#x27;ordinal_cols&#x27;,\n",
       "                                 OrdinalEncoder(handle_unknown=&#x27;use_encoded_value&#x27;,\n",
       "                                                unknown_value=-1),\n",
       "                                 [0, 1, 3, 4, 5, 7, 12])])</pre></div></div></div><div class=\"sk-parallel\"><div class=\"sk-parallel-item\"><div class=\"sk-item\"><div class=\"sk-label-container\"><div class=\"sk-label sk-toggleable\"><input class=\"sk-toggleable__control sk-hidden--visually\" id=\"sk-estimator-id-3\" type=\"checkbox\" ><label for=\"sk-estimator-id-3\" class=\"sk-toggleable__label sk-toggleable__label-arrow\">ordinal_cols</label><div class=\"sk-toggleable__content\"><pre>[0, 1, 3, 4, 5, 7, 12]</pre></div></div></div><div class=\"sk-serial\"><div class=\"sk-item\"><div class=\"sk-estimator sk-toggleable\"><input class=\"sk-toggleable__control sk-hidden--visually\" id=\"sk-estimator-id-4\" type=\"checkbox\" ><label for=\"sk-estimator-id-4\" class=\"sk-toggleable__label sk-toggleable__label-arrow\">OrdinalEncoder</label><div class=\"sk-toggleable__content\"><pre>OrdinalEncoder(handle_unknown=&#x27;use_encoded_value&#x27;, unknown_value=-1)</pre></div></div></div></div></div></div><div class=\"sk-parallel-item\"><div class=\"sk-item\"><div class=\"sk-label-container\"><div class=\"sk-label sk-toggleable\"><input class=\"sk-toggleable__control sk-hidden--visually\" id=\"sk-estimator-id-5\" type=\"checkbox\" ><label for=\"sk-estimator-id-5\" class=\"sk-toggleable__label sk-toggleable__label-arrow\">remainder</label><div class=\"sk-toggleable__content\"><pre></pre></div></div></div><div class=\"sk-serial\"><div class=\"sk-item\"><div class=\"sk-estimator sk-toggleable\"><input class=\"sk-toggleable__control sk-hidden--visually\" id=\"sk-estimator-id-6\" type=\"checkbox\" ><label for=\"sk-estimator-id-6\" class=\"sk-toggleable__label sk-toggleable__label-arrow\">passthrough</label><div class=\"sk-toggleable__content\"><pre>passthrough</pre></div></div></div></div></div></div></div></div><div class=\"sk-item sk-dashed-wrapped\"><div class=\"sk-label-container\"><div class=\"sk-label sk-toggleable\"><input class=\"sk-toggleable__control sk-hidden--visually\" id=\"sk-estimator-id-7\" type=\"checkbox\" ><label for=\"sk-estimator-id-7\" class=\"sk-toggleable__label sk-toggleable__label-arrow\">trf2: ColumnTransformer</label><div class=\"sk-toggleable__content\"><pre>ColumnTransformer(remainder=&#x27;passthrough&#x27;,\n",
       "                  transformers=[(&#x27;impute_cat_cols&#x27;,\n",
       "                                 SimpleImputer(strategy=&#x27;most_frequent&#x27;),\n",
       "                                 [4, 5, 12]),\n",
       "                                (&#x27;impute_num_cols&#x27;,\n",
       "                                 SimpleImputer(strategy=&#x27;median&#x27;),\n",
       "                                 [8, 9, 10, 11])])</pre></div></div></div><div class=\"sk-parallel\"><div class=\"sk-parallel-item\"><div class=\"sk-item\"><div class=\"sk-label-container\"><div class=\"sk-label sk-toggleable\"><input class=\"sk-toggleable__control sk-hidden--visually\" id=\"sk-estimator-id-8\" type=\"checkbox\" ><label for=\"sk-estimator-id-8\" class=\"sk-toggleable__label sk-toggleable__label-arrow\">impute_cat_cols</label><div class=\"sk-toggleable__content\"><pre>[4, 5, 12]</pre></div></div></div><div class=\"sk-serial\"><div class=\"sk-item\"><div class=\"sk-estimator sk-toggleable\"><input class=\"sk-toggleable__control sk-hidden--visually\" id=\"sk-estimator-id-9\" type=\"checkbox\" ><label for=\"sk-estimator-id-9\" class=\"sk-toggleable__label sk-toggleable__label-arrow\">SimpleImputer</label><div class=\"sk-toggleable__content\"><pre>SimpleImputer(strategy=&#x27;most_frequent&#x27;)</pre></div></div></div></div></div></div><div class=\"sk-parallel-item\"><div class=\"sk-item\"><div class=\"sk-label-container\"><div class=\"sk-label sk-toggleable\"><input class=\"sk-toggleable__control sk-hidden--visually\" id=\"sk-estimator-id-10\" type=\"checkbox\" ><label for=\"sk-estimator-id-10\" class=\"sk-toggleable__label sk-toggleable__label-arrow\">impute_num_cols</label><div class=\"sk-toggleable__content\"><pre>[8, 9, 10, 11]</pre></div></div></div><div class=\"sk-serial\"><div class=\"sk-item\"><div class=\"sk-estimator sk-toggleable\"><input class=\"sk-toggleable__control sk-hidden--visually\" id=\"sk-estimator-id-11\" type=\"checkbox\" ><label for=\"sk-estimator-id-11\" class=\"sk-toggleable__label sk-toggleable__label-arrow\">SimpleImputer</label><div class=\"sk-toggleable__content\"><pre>SimpleImputer(strategy=&#x27;median&#x27;)</pre></div></div></div></div></div></div><div class=\"sk-parallel-item\"><div class=\"sk-item\"><div class=\"sk-label-container\"><div class=\"sk-label sk-toggleable\"><input class=\"sk-toggleable__control sk-hidden--visually\" id=\"sk-estimator-id-12\" type=\"checkbox\" ><label for=\"sk-estimator-id-12\" class=\"sk-toggleable__label sk-toggleable__label-arrow\">remainder</label><div class=\"sk-toggleable__content\"><pre></pre></div></div></div><div class=\"sk-serial\"><div class=\"sk-item\"><div class=\"sk-estimator sk-toggleable\"><input class=\"sk-toggleable__control sk-hidden--visually\" id=\"sk-estimator-id-13\" type=\"checkbox\" ><label for=\"sk-estimator-id-13\" class=\"sk-toggleable__label sk-toggleable__label-arrow\">passthrough</label><div class=\"sk-toggleable__content\"><pre>passthrough</pre></div></div></div></div></div></div></div></div><div class=\"sk-item sk-dashed-wrapped\"><div class=\"sk-label-container\"><div class=\"sk-label sk-toggleable\"><input class=\"sk-toggleable__control sk-hidden--visually\" id=\"sk-estimator-id-14\" type=\"checkbox\" ><label for=\"sk-estimator-id-14\" class=\"sk-toggleable__label sk-toggleable__label-arrow\">trf3: ColumnTransformer</label><div class=\"sk-toggleable__content\"><pre>ColumnTransformer(transformers=[(&#x27;scale&#x27;, StandardScaler(),\n",
       "                                 slice(0, 14, None))])</pre></div></div></div><div class=\"sk-parallel\"><div class=\"sk-parallel-item\"><div class=\"sk-item\"><div class=\"sk-label-container\"><div class=\"sk-label sk-toggleable\"><input class=\"sk-toggleable__control sk-hidden--visually\" id=\"sk-estimator-id-15\" type=\"checkbox\" ><label for=\"sk-estimator-id-15\" class=\"sk-toggleable__label sk-toggleable__label-arrow\">scale</label><div class=\"sk-toggleable__content\"><pre>slice(0, 14, None)</pre></div></div></div><div class=\"sk-serial\"><div class=\"sk-item\"><div class=\"sk-estimator sk-toggleable\"><input class=\"sk-toggleable__control sk-hidden--visually\" id=\"sk-estimator-id-16\" type=\"checkbox\" ><label for=\"sk-estimator-id-16\" class=\"sk-toggleable__label sk-toggleable__label-arrow\">StandardScaler</label><div class=\"sk-toggleable__content\"><pre>StandardScaler()</pre></div></div></div></div></div></div></div></div><div class=\"sk-item\"><div class=\"sk-estimator sk-toggleable\"><input class=\"sk-toggleable__control sk-hidden--visually\" id=\"sk-estimator-id-17\" type=\"checkbox\" ><label for=\"sk-estimator-id-17\" class=\"sk-toggleable__label sk-toggleable__label-arrow\">RandomForestRegressor</label><div class=\"sk-toggleable__content\"><pre>RandomForestRegressor()</pre></div></div></div></div></div></div></div>"
      ],
      "text/plain": [
       "Pipeline(steps=[('trf1',\n",
       "                 ColumnTransformer(remainder='passthrough',\n",
       "                                   transformers=[('ordinal_cols',\n",
       "                                                  OrdinalEncoder(handle_unknown='use_encoded_value',\n",
       "                                                                 unknown_value=-1),\n",
       "                                                  [0, 1, 3, 4, 5, 7, 12])])),\n",
       "                ('trf2',\n",
       "                 ColumnTransformer(remainder='passthrough',\n",
       "                                   transformers=[('impute_cat_cols',\n",
       "                                                  SimpleImputer(strategy='most_frequent'),\n",
       "                                                  [4, 5, 12]),\n",
       "                                                 ('impute_num_cols',\n",
       "                                                  SimpleImputer(strategy='median'),\n",
       "                                                  [8, 9, 10, 11])])),\n",
       "                ('trf3',\n",
       "                 ColumnTransformer(transformers=[('scale', StandardScaler(),\n",
       "                                                  slice(0, 14, None))])),\n",
       "                ('trf4', RandomForestRegressor())])"
      ]
     },
     "execution_count": 60,
     "metadata": {},
     "output_type": "execute_result"
    }
   ],
   "source": [
    "pipe = Pipeline([\n",
    "\n",
    "    ('trf1',trf1),\n",
    "    ('trf2',trf2),\n",
    "    ('trf3',trf3),\n",
    "    ('trf4',trf4)\n",
    "])\n",
    "pipe"
   ]
  },
  {
   "cell_type": "code",
   "execution_count": 61,
   "metadata": {
    "colab": {
     "base_uri": "https://localhost:8080/"
    },
    "id": "nX958FOEixCe",
    "outputId": "4aa4f5b7-2908-4c85-8042-4c01c994b7d7"
   },
   "outputs": [
    {
     "data": {
      "text/plain": [
       "{'trf1': ColumnTransformer(remainder='passthrough',\n",
       "                   transformers=[('ordinal_cols',\n",
       "                                  OrdinalEncoder(handle_unknown='use_encoded_value',\n",
       "                                                 unknown_value=-1),\n",
       "                                  [0, 1, 3, 4, 5, 7, 12])]),\n",
       " 'trf2': ColumnTransformer(remainder='passthrough',\n",
       "                   transformers=[('impute_cat_cols',\n",
       "                                  SimpleImputer(strategy='most_frequent'),\n",
       "                                  [4, 5, 12]),\n",
       "                                 ('impute_num_cols',\n",
       "                                  SimpleImputer(strategy='median'),\n",
       "                                  [8, 9, 10, 11])]),\n",
       " 'trf3': ColumnTransformer(transformers=[('scale', StandardScaler(),\n",
       "                                  slice(0, 14, None))]),\n",
       " 'trf4': RandomForestRegressor()}"
      ]
     },
     "execution_count": 61,
     "metadata": {},
     "output_type": "execute_result"
    }
   ],
   "source": [
    "pipe.named_steps"
   ]
  },
  {
   "cell_type": "code",
   "execution_count": 62,
   "metadata": {
    "id": "qjSL-JbCjk_a"
   },
   "outputs": [],
   "source": [
    "from sklearn import set_config\n",
    "set_config(display='diagram')\n"
   ]
  },
  {
   "cell_type": "code",
   "execution_count": 63,
   "metadata": {
    "id": "vhywEKs1j1Ww"
   },
   "outputs": [],
   "source": [
    "test_input = np.array([19,1722, 18, 1, 38, 70, 1, 1, 5.87, 3.50, 6.00, 7.00, 0.00, 235.77],dtype=object).reshape(1,14)"
   ]
  },
  {
   "cell_type": "code",
   "execution_count": 64,
   "metadata": {
    "colab": {
     "base_uri": "https://localhost:8080/"
    },
    "id": "n9guSJdvjk6z",
    "outputId": "afec1022-0c55-4eb3-8e64-1a69473e4966"
   },
   "outputs": [
    {
     "data": {
      "text/plain": [
       "array([9.4676708])"
      ]
     },
     "execution_count": 64,
     "metadata": {},
     "output_type": "execute_result"
    }
   ],
   "source": [
    "random_forest.predict(test_input)"
   ]
  },
  {
   "cell_type": "code",
   "execution_count": 65,
   "metadata": {
    "colab": {
     "base_uri": "https://localhost:8080/",
     "height": 321
    },
    "id": "PHzqfIj5Qh4I",
    "outputId": "9e91d3da-d8aa-45f9-fa55-70a841d0e967",
    "scrolled": true
   },
   "outputs": [
    {
     "data": {
      "text/html": [
       "<style>#sk-container-id-2 {color: black;}#sk-container-id-2 pre{padding: 0;}#sk-container-id-2 div.sk-toggleable {background-color: white;}#sk-container-id-2 label.sk-toggleable__label {cursor: pointer;display: block;width: 100%;margin-bottom: 0;padding: 0.3em;box-sizing: border-box;text-align: center;}#sk-container-id-2 label.sk-toggleable__label-arrow:before {content: \"▸\";float: left;margin-right: 0.25em;color: #696969;}#sk-container-id-2 label.sk-toggleable__label-arrow:hover:before {color: black;}#sk-container-id-2 div.sk-estimator:hover label.sk-toggleable__label-arrow:before {color: black;}#sk-container-id-2 div.sk-toggleable__content {max-height: 0;max-width: 0;overflow: hidden;text-align: left;background-color: #f0f8ff;}#sk-container-id-2 div.sk-toggleable__content pre {margin: 0.2em;color: black;border-radius: 0.25em;background-color: #f0f8ff;}#sk-container-id-2 input.sk-toggleable__control:checked~div.sk-toggleable__content {max-height: 200px;max-width: 100%;overflow: auto;}#sk-container-id-2 input.sk-toggleable__control:checked~label.sk-toggleable__label-arrow:before {content: \"▾\";}#sk-container-id-2 div.sk-estimator input.sk-toggleable__control:checked~label.sk-toggleable__label {background-color: #d4ebff;}#sk-container-id-2 div.sk-label input.sk-toggleable__control:checked~label.sk-toggleable__label {background-color: #d4ebff;}#sk-container-id-2 input.sk-hidden--visually {border: 0;clip: rect(1px 1px 1px 1px);clip: rect(1px, 1px, 1px, 1px);height: 1px;margin: -1px;overflow: hidden;padding: 0;position: absolute;width: 1px;}#sk-container-id-2 div.sk-estimator {font-family: monospace;background-color: #f0f8ff;border: 1px dotted black;border-radius: 0.25em;box-sizing: border-box;margin-bottom: 0.5em;}#sk-container-id-2 div.sk-estimator:hover {background-color: #d4ebff;}#sk-container-id-2 div.sk-parallel-item::after {content: \"\";width: 100%;border-bottom: 1px solid gray;flex-grow: 1;}#sk-container-id-2 div.sk-label:hover label.sk-toggleable__label {background-color: #d4ebff;}#sk-container-id-2 div.sk-serial::before {content: \"\";position: absolute;border-left: 1px solid gray;box-sizing: border-box;top: 0;bottom: 0;left: 50%;z-index: 0;}#sk-container-id-2 div.sk-serial {display: flex;flex-direction: column;align-items: center;background-color: white;padding-right: 0.2em;padding-left: 0.2em;position: relative;}#sk-container-id-2 div.sk-item {position: relative;z-index: 1;}#sk-container-id-2 div.sk-parallel {display: flex;align-items: stretch;justify-content: center;background-color: white;position: relative;}#sk-container-id-2 div.sk-item::before, #sk-container-id-2 div.sk-parallel-item::before {content: \"\";position: absolute;border-left: 1px solid gray;box-sizing: border-box;top: 0;bottom: 0;left: 50%;z-index: -1;}#sk-container-id-2 div.sk-parallel-item {display: flex;flex-direction: column;z-index: 1;position: relative;background-color: white;}#sk-container-id-2 div.sk-parallel-item:first-child::after {align-self: flex-end;width: 50%;}#sk-container-id-2 div.sk-parallel-item:last-child::after {align-self: flex-start;width: 50%;}#sk-container-id-2 div.sk-parallel-item:only-child::after {width: 0;}#sk-container-id-2 div.sk-dashed-wrapped {border: 1px dashed gray;margin: 0 0.4em 0.5em 0.4em;box-sizing: border-box;padding-bottom: 0.4em;background-color: white;}#sk-container-id-2 div.sk-label label {font-family: monospace;font-weight: bold;display: inline-block;line-height: 1.2em;}#sk-container-id-2 div.sk-label-container {text-align: center;}#sk-container-id-2 div.sk-container {/* jupyter's `normalize.less` sets `[hidden] { display: none; }` but bootstrap.min.css set `[hidden] { display: none !important; }` so we also need the `!important` here to be able to override the default hidden behavior on the sphinx rendered scikit-learn.org. See: https://github.com/scikit-learn/scikit-learn/issues/21755 */display: inline-block !important;position: relative;}#sk-container-id-2 div.sk-text-repr-fallback {display: none;}</style><div id=\"sk-container-id-2\" class=\"sk-top-container\"><div class=\"sk-text-repr-fallback\"><pre>Pipeline(steps=[(&#x27;trf1&#x27;,\n",
       "                 ColumnTransformer(remainder=&#x27;passthrough&#x27;,\n",
       "                                   transformers=[(&#x27;ordinal_cols&#x27;,\n",
       "                                                  OrdinalEncoder(handle_unknown=&#x27;use_encoded_value&#x27;,\n",
       "                                                                 unknown_value=-1),\n",
       "                                                  [0, 1, 3, 4, 5, 7, 12])])),\n",
       "                (&#x27;trf2&#x27;,\n",
       "                 ColumnTransformer(remainder=&#x27;passthrough&#x27;,\n",
       "                                   transformers=[(&#x27;impute_cat_cols&#x27;,\n",
       "                                                  SimpleImputer(strategy=&#x27;most_frequent&#x27;),\n",
       "                                                  [4, 5, 12]),\n",
       "                                                 (&#x27;impute_num_cols&#x27;,\n",
       "                                                  SimpleImputer(strategy=&#x27;median&#x27;),\n",
       "                                                  [8, 9, 10, 11])])),\n",
       "                (&#x27;trf3&#x27;,\n",
       "                 ColumnTransformer(transformers=[(&#x27;scale&#x27;, StandardScaler(),\n",
       "                                                  slice(0, 14, None))])),\n",
       "                (&#x27;trf4&#x27;, RandomForestRegressor())])</pre><b>In a Jupyter environment, please rerun this cell to show the HTML representation or trust the notebook. <br />On GitHub, the HTML representation is unable to render, please try loading this page with nbviewer.org.</b></div><div class=\"sk-container\" hidden><div class=\"sk-item sk-dashed-wrapped\"><div class=\"sk-label-container\"><div class=\"sk-label sk-toggleable\"><input class=\"sk-toggleable__control sk-hidden--visually\" id=\"sk-estimator-id-18\" type=\"checkbox\" ><label for=\"sk-estimator-id-18\" class=\"sk-toggleable__label sk-toggleable__label-arrow\">Pipeline</label><div class=\"sk-toggleable__content\"><pre>Pipeline(steps=[(&#x27;trf1&#x27;,\n",
       "                 ColumnTransformer(remainder=&#x27;passthrough&#x27;,\n",
       "                                   transformers=[(&#x27;ordinal_cols&#x27;,\n",
       "                                                  OrdinalEncoder(handle_unknown=&#x27;use_encoded_value&#x27;,\n",
       "                                                                 unknown_value=-1),\n",
       "                                                  [0, 1, 3, 4, 5, 7, 12])])),\n",
       "                (&#x27;trf2&#x27;,\n",
       "                 ColumnTransformer(remainder=&#x27;passthrough&#x27;,\n",
       "                                   transformers=[(&#x27;impute_cat_cols&#x27;,\n",
       "                                                  SimpleImputer(strategy=&#x27;most_frequent&#x27;),\n",
       "                                                  [4, 5, 12]),\n",
       "                                                 (&#x27;impute_num_cols&#x27;,\n",
       "                                                  SimpleImputer(strategy=&#x27;median&#x27;),\n",
       "                                                  [8, 9, 10, 11])])),\n",
       "                (&#x27;trf3&#x27;,\n",
       "                 ColumnTransformer(transformers=[(&#x27;scale&#x27;, StandardScaler(),\n",
       "                                                  slice(0, 14, None))])),\n",
       "                (&#x27;trf4&#x27;, RandomForestRegressor())])</pre></div></div></div><div class=\"sk-serial\"><div class=\"sk-item sk-dashed-wrapped\"><div class=\"sk-label-container\"><div class=\"sk-label sk-toggleable\"><input class=\"sk-toggleable__control sk-hidden--visually\" id=\"sk-estimator-id-19\" type=\"checkbox\" ><label for=\"sk-estimator-id-19\" class=\"sk-toggleable__label sk-toggleable__label-arrow\">trf1: ColumnTransformer</label><div class=\"sk-toggleable__content\"><pre>ColumnTransformer(remainder=&#x27;passthrough&#x27;,\n",
       "                  transformers=[(&#x27;ordinal_cols&#x27;,\n",
       "                                 OrdinalEncoder(handle_unknown=&#x27;use_encoded_value&#x27;,\n",
       "                                                unknown_value=-1),\n",
       "                                 [0, 1, 3, 4, 5, 7, 12])])</pre></div></div></div><div class=\"sk-parallel\"><div class=\"sk-parallel-item\"><div class=\"sk-item\"><div class=\"sk-label-container\"><div class=\"sk-label sk-toggleable\"><input class=\"sk-toggleable__control sk-hidden--visually\" id=\"sk-estimator-id-20\" type=\"checkbox\" ><label for=\"sk-estimator-id-20\" class=\"sk-toggleable__label sk-toggleable__label-arrow\">ordinal_cols</label><div class=\"sk-toggleable__content\"><pre>[0, 1, 3, 4, 5, 7, 12]</pre></div></div></div><div class=\"sk-serial\"><div class=\"sk-item\"><div class=\"sk-estimator sk-toggleable\"><input class=\"sk-toggleable__control sk-hidden--visually\" id=\"sk-estimator-id-21\" type=\"checkbox\" ><label for=\"sk-estimator-id-21\" class=\"sk-toggleable__label sk-toggleable__label-arrow\">OrdinalEncoder</label><div class=\"sk-toggleable__content\"><pre>OrdinalEncoder(handle_unknown=&#x27;use_encoded_value&#x27;, unknown_value=-1)</pre></div></div></div></div></div></div><div class=\"sk-parallel-item\"><div class=\"sk-item\"><div class=\"sk-label-container\"><div class=\"sk-label sk-toggleable\"><input class=\"sk-toggleable__control sk-hidden--visually\" id=\"sk-estimator-id-22\" type=\"checkbox\" ><label for=\"sk-estimator-id-22\" class=\"sk-toggleable__label sk-toggleable__label-arrow\">remainder</label><div class=\"sk-toggleable__content\"><pre>[&#x27;model_year&#x27;, &#x27;accident&#x27;, &#x27;horsepower&#x27;, &#x27;Displacement&#x27;, &#x27;Cylinders&#x27;, &#x27;Gear&#x27;, &#x27;d_in_km&#x27;]</pre></div></div></div><div class=\"sk-serial\"><div class=\"sk-item\"><div class=\"sk-estimator sk-toggleable\"><input class=\"sk-toggleable__control sk-hidden--visually\" id=\"sk-estimator-id-23\" type=\"checkbox\" ><label for=\"sk-estimator-id-23\" class=\"sk-toggleable__label sk-toggleable__label-arrow\">passthrough</label><div class=\"sk-toggleable__content\"><pre>passthrough</pre></div></div></div></div></div></div></div></div><div class=\"sk-item sk-dashed-wrapped\"><div class=\"sk-label-container\"><div class=\"sk-label sk-toggleable\"><input class=\"sk-toggleable__control sk-hidden--visually\" id=\"sk-estimator-id-24\" type=\"checkbox\" ><label for=\"sk-estimator-id-24\" class=\"sk-toggleable__label sk-toggleable__label-arrow\">trf2: ColumnTransformer</label><div class=\"sk-toggleable__content\"><pre>ColumnTransformer(remainder=&#x27;passthrough&#x27;,\n",
       "                  transformers=[(&#x27;impute_cat_cols&#x27;,\n",
       "                                 SimpleImputer(strategy=&#x27;most_frequent&#x27;),\n",
       "                                 [4, 5, 12]),\n",
       "                                (&#x27;impute_num_cols&#x27;,\n",
       "                                 SimpleImputer(strategy=&#x27;median&#x27;),\n",
       "                                 [8, 9, 10, 11])])</pre></div></div></div><div class=\"sk-parallel\"><div class=\"sk-parallel-item\"><div class=\"sk-item\"><div class=\"sk-label-container\"><div class=\"sk-label sk-toggleable\"><input class=\"sk-toggleable__control sk-hidden--visually\" id=\"sk-estimator-id-25\" type=\"checkbox\" ><label for=\"sk-estimator-id-25\" class=\"sk-toggleable__label sk-toggleable__label-arrow\">impute_cat_cols</label><div class=\"sk-toggleable__content\"><pre>[4, 5, 12]</pre></div></div></div><div class=\"sk-serial\"><div class=\"sk-item\"><div class=\"sk-estimator sk-toggleable\"><input class=\"sk-toggleable__control sk-hidden--visually\" id=\"sk-estimator-id-26\" type=\"checkbox\" ><label for=\"sk-estimator-id-26\" class=\"sk-toggleable__label sk-toggleable__label-arrow\">SimpleImputer</label><div class=\"sk-toggleable__content\"><pre>SimpleImputer(strategy=&#x27;most_frequent&#x27;)</pre></div></div></div></div></div></div><div class=\"sk-parallel-item\"><div class=\"sk-item\"><div class=\"sk-label-container\"><div class=\"sk-label sk-toggleable\"><input class=\"sk-toggleable__control sk-hidden--visually\" id=\"sk-estimator-id-27\" type=\"checkbox\" ><label for=\"sk-estimator-id-27\" class=\"sk-toggleable__label sk-toggleable__label-arrow\">impute_num_cols</label><div class=\"sk-toggleable__content\"><pre>[8, 9, 10, 11]</pre></div></div></div><div class=\"sk-serial\"><div class=\"sk-item\"><div class=\"sk-estimator sk-toggleable\"><input class=\"sk-toggleable__control sk-hidden--visually\" id=\"sk-estimator-id-28\" type=\"checkbox\" ><label for=\"sk-estimator-id-28\" class=\"sk-toggleable__label sk-toggleable__label-arrow\">SimpleImputer</label><div class=\"sk-toggleable__content\"><pre>SimpleImputer(strategy=&#x27;median&#x27;)</pre></div></div></div></div></div></div><div class=\"sk-parallel-item\"><div class=\"sk-item\"><div class=\"sk-label-container\"><div class=\"sk-label sk-toggleable\"><input class=\"sk-toggleable__control sk-hidden--visually\" id=\"sk-estimator-id-29\" type=\"checkbox\" ><label for=\"sk-estimator-id-29\" class=\"sk-toggleable__label sk-toggleable__label-arrow\">remainder</label><div class=\"sk-toggleable__content\"><pre>[0, 1, 2, 3, 6, 7, 13]</pre></div></div></div><div class=\"sk-serial\"><div class=\"sk-item\"><div class=\"sk-estimator sk-toggleable\"><input class=\"sk-toggleable__control sk-hidden--visually\" id=\"sk-estimator-id-30\" type=\"checkbox\" ><label for=\"sk-estimator-id-30\" class=\"sk-toggleable__label sk-toggleable__label-arrow\">passthrough</label><div class=\"sk-toggleable__content\"><pre>passthrough</pre></div></div></div></div></div></div></div></div><div class=\"sk-item sk-dashed-wrapped\"><div class=\"sk-label-container\"><div class=\"sk-label sk-toggleable\"><input class=\"sk-toggleable__control sk-hidden--visually\" id=\"sk-estimator-id-31\" type=\"checkbox\" ><label for=\"sk-estimator-id-31\" class=\"sk-toggleable__label sk-toggleable__label-arrow\">trf3: ColumnTransformer</label><div class=\"sk-toggleable__content\"><pre>ColumnTransformer(transformers=[(&#x27;scale&#x27;, StandardScaler(),\n",
       "                                 slice(0, 14, None))])</pre></div></div></div><div class=\"sk-parallel\"><div class=\"sk-parallel-item\"><div class=\"sk-item\"><div class=\"sk-label-container\"><div class=\"sk-label sk-toggleable\"><input class=\"sk-toggleable__control sk-hidden--visually\" id=\"sk-estimator-id-32\" type=\"checkbox\" ><label for=\"sk-estimator-id-32\" class=\"sk-toggleable__label sk-toggleable__label-arrow\">scale</label><div class=\"sk-toggleable__content\"><pre>slice(0, 14, None)</pre></div></div></div><div class=\"sk-serial\"><div class=\"sk-item\"><div class=\"sk-estimator sk-toggleable\"><input class=\"sk-toggleable__control sk-hidden--visually\" id=\"sk-estimator-id-33\" type=\"checkbox\" ><label for=\"sk-estimator-id-33\" class=\"sk-toggleable__label sk-toggleable__label-arrow\">StandardScaler</label><div class=\"sk-toggleable__content\"><pre>StandardScaler()</pre></div></div></div></div></div></div></div></div><div class=\"sk-item\"><div class=\"sk-estimator sk-toggleable\"><input class=\"sk-toggleable__control sk-hidden--visually\" id=\"sk-estimator-id-34\" type=\"checkbox\" ><label for=\"sk-estimator-id-34\" class=\"sk-toggleable__label sk-toggleable__label-arrow\">RandomForestRegressor</label><div class=\"sk-toggleable__content\"><pre>RandomForestRegressor()</pre></div></div></div></div></div></div></div>"
      ],
      "text/plain": [
       "Pipeline(steps=[('trf1',\n",
       "                 ColumnTransformer(remainder='passthrough',\n",
       "                                   transformers=[('ordinal_cols',\n",
       "                                                  OrdinalEncoder(handle_unknown='use_encoded_value',\n",
       "                                                                 unknown_value=-1),\n",
       "                                                  [0, 1, 3, 4, 5, 7, 12])])),\n",
       "                ('trf2',\n",
       "                 ColumnTransformer(remainder='passthrough',\n",
       "                                   transformers=[('impute_cat_cols',\n",
       "                                                  SimpleImputer(strategy='most_frequent'),\n",
       "                                                  [4, 5, 12]),\n",
       "                                                 ('impute_num_cols',\n",
       "                                                  SimpleImputer(strategy='median'),\n",
       "                                                  [8, 9, 10, 11])])),\n",
       "                ('trf3',\n",
       "                 ColumnTransformer(transformers=[('scale', StandardScaler(),\n",
       "                                                  slice(0, 14, None))])),\n",
       "                ('trf4', RandomForestRegressor())])"
      ]
     },
     "execution_count": 65,
     "metadata": {},
     "output_type": "execute_result"
    }
   ],
   "source": [
    "pipe.fit(X_train,y_train)"
   ]
  },
  {
   "cell_type": "code",
   "execution_count": 66,
   "metadata": {
    "scrolled": true
   },
   "outputs": [
    {
     "data": {
      "text/plain": [
       "array([10.7555226 , 10.18451987, 10.83030116, 10.54438014, 10.30827284,\n",
       "        9.30211383, 10.06979912,  9.20067861, 10.41654741, 11.48865021,\n",
       "        9.89390314,  9.61690444, 10.74035323,  9.41579603, 11.21536679,\n",
       "        9.80433533,  9.65532926, 10.05760147,  9.78868117,  8.89941198,\n",
       "       10.94336242,  9.37106944, 10.95812182, 10.68790258,  9.82816064,\n",
       "       10.0891791 , 10.64595478, 10.14786059, 10.51800089,  9.66902371,\n",
       "        9.88339782,  9.28028233,  9.7370861 ,  9.7488304 ,  9.47561034,\n",
       "        9.75546703,  9.73439799,  9.34881432,  8.27353961, 10.79136937,\n",
       "       10.58483183, 11.06705205,  9.77303875,  9.95968419, 10.58768334,\n",
       "        9.049519  ,  9.32437849, 10.12431139, 10.52348367, 10.58358668,\n",
       "        9.18271787,  9.86462123, 10.62849959, 10.47204289,  8.87057854,\n",
       "        9.30051189, 11.72472158,  8.77089122,  9.61383614, 11.06465495,\n",
       "       10.37230865,  9.78417366,  8.4580848 , 10.20975534, 10.32264217,\n",
       "       11.66619581,  9.64022462,  9.6221122 ,  9.86373304, 10.23587455,\n",
       "       10.36568553,  9.64920911,  9.16018976,  9.05680491, 10.94035621,\n",
       "       10.53911574, 10.70477197, 10.11651679,  9.25435888,  9.17196958,\n",
       "       10.78672399, 11.93104877, 11.08468444, 10.78150837,  9.68751444,\n",
       "       10.15130626, 10.80367707,  9.36291356, 10.68986996, 10.27272164,\n",
       "       10.96484391, 10.39390324, 10.36469097, 10.0546137 ,  9.29468015,\n",
       "        9.92182506, 10.79332396, 10.71964211, 10.54302449,  9.82978909,\n",
       "       11.70240859,  9.67763671, 11.2641186 ,  9.51206577,  9.60397651,\n",
       "        8.66293797, 10.68292722, 10.71291194, 10.36297466, 11.03019393,\n",
       "       10.75697061, 10.4899654 , 10.43111122, 11.14745999, 11.74303803,\n",
       "       10.85869405,  9.82667658, 10.74533209,  9.16321525,  9.43021679,\n",
       "        9.24716246, 10.13090345, 10.58274581,  9.69233974, 10.69923656,\n",
       "       11.07357584,  9.71627796, 10.75931123, 11.27317698, 10.30552151,\n",
       "        9.45821571, 10.52674331,  9.53265997,  9.88049438, 10.90108491,\n",
       "        9.74668837,  9.27520536, 11.57597883, 10.1084352 , 10.12853825,\n",
       "       10.58398406,  9.57022693, 10.77185412, 10.77037434,  9.86061418,\n",
       "       11.20751308, 11.63821525,  9.67668198, 11.20691712, 10.79136937,\n",
       "        8.99574418, 12.20737298,  8.97061748,  9.01696972, 10.63845436,\n",
       "        9.26629487,  9.8212128 , 10.67134188, 10.39009056,  9.66217147,\n",
       "        9.53214433, 10.31260347, 10.34213052, 11.55958686, 10.20094461,\n",
       "       10.55015159, 10.86062224,  9.32981757,  9.95702069, 10.03629372,\n",
       "        9.08061962,  8.88789629, 10.53416709,  9.8562664 , 11.47471123,\n",
       "       11.64099476,  9.99989626, 10.4355791 , 10.81244766,  9.95259128,\n",
       "       10.83459895,  9.41709829, 10.81428988, 10.85754602,  9.16476822,\n",
       "       10.37056591, 10.67143472, 10.0280207 ,  8.72319225,  9.22481374,\n",
       "       11.44615136, 11.02611703,  9.0345669 , 10.512665  ,  9.68108214,\n",
       "        9.58230679,  8.62888498, 10.00483249, 10.74772105, 10.78690662,\n",
       "       12.25525588, 10.3126445 ,  9.22919938, 11.59494687, 11.73300271,\n",
       "       11.71911169, 10.08965251, 10.79974182, 11.44364717, 11.41309291,\n",
       "        9.92731522, 10.21666586, 10.80016656, 11.70615739, 10.75880819,\n",
       "       11.05322681,  9.65017903, 10.82611106,  9.43464266, 10.51608069,\n",
       "       11.44203925, 11.04020327, 10.19526904,  9.16264377,  9.85635782,\n",
       "       10.30271383, 11.37766095,  9.46845304,  9.82775505, 10.93835313,\n",
       "        9.82024017, 10.65271775, 10.21372493,  9.82391329, 10.77515101,\n",
       "        9.17745454, 10.76169548, 10.29924236,  9.19575403, 10.94509006,\n",
       "       10.81528852, 10.08414507, 11.41585493, 11.61577801,  9.63113064,\n",
       "        8.78386661, 11.18594942, 10.50410925, 10.67903743,  9.60690528,\n",
       "        9.35053863, 10.94037872,  8.50337649, 11.10951989, 10.4476533 ,\n",
       "        9.67561001,  9.36162327, 10.67537667,  8.98546191,  9.96833417,\n",
       "       10.40337387, 11.02704035,  9.48538298, 11.17877164, 11.64152891,\n",
       "        9.82508654,  9.54892314, 12.03166141, 10.77265724,  9.65158003,\n",
       "       10.16166515, 10.7135405 ,  9.86930869, 10.19591357,  9.74609273,\n",
       "        9.91345598, 11.07989992, 10.01308345, 11.97570845,  9.66743999,\n",
       "        9.93288382, 10.72043815,  9.71116666, 10.15277439,  9.40602223,\n",
       "       11.48309546, 10.76563374,  9.31829396,  9.82345781,  9.78404491,\n",
       "        9.34436305, 10.77774026, 12.03676521, 11.19440196, 11.51838482,\n",
       "       10.83743146, 10.53605795,  9.3462985 ,  9.69059663,  9.74272092,\n",
       "       10.49937724, 10.0710157 ,  9.06831292, 10.9855222 , 11.3319543 ,\n",
       "       11.45248532,  9.7899547 , 10.38295593, 11.15508474, 10.15864248,\n",
       "        9.84416125,  9.5759248 ,  9.82289608, 10.36938741, 11.26000416,\n",
       "       10.85757508, 11.97783264,  9.73708341, 11.06771605,  9.38961323,\n",
       "        9.8583524 , 11.05301099, 10.25920739, 11.57792702, 10.65789149,\n",
       "        8.93459502,  9.28589654,  9.55150202, 11.23172142, 10.81819339,\n",
       "       11.87738531, 10.35426456,  9.94159174, 10.09531899,  9.18036837,\n",
       "       10.85659847, 10.13069367,  9.61412961,  9.21030117, 10.75397844,\n",
       "       11.11975324,  9.67763671, 10.1415951 ,  8.78070683,  9.65696579,\n",
       "        9.80050917, 10.78340957, 10.02154133,  9.95704849, 11.44242992,\n",
       "        8.97952482,  9.38973859, 10.02018942, 10.70759191,  9.63737591,\n",
       "        9.31534779,  9.70173901, 10.04151115, 10.23800378, 11.62444119,\n",
       "        8.40811372, 10.06225569, 10.54284522, 10.29817106,  8.91085312,\n",
       "       11.04662156, 10.28569727, 10.21179924, 11.84922059, 10.40145826,\n",
       "       10.71393494, 10.27167884, 11.42398496,  9.38429672, 10.37179067,\n",
       "       10.64504988,  9.38021784, 10.66250253, 10.42439044,  9.80441157,\n",
       "        9.87716601, 12.16959625, 11.0775565 ,  9.49585637, 11.10362047,\n",
       "       11.23311643, 10.45145135,  9.41277474, 11.01834259, 10.56310794,\n",
       "        8.9607367 , 10.22950163, 10.88575527, 10.73788694, 11.23736044,\n",
       "       10.23643137,  9.97003902, 11.51195162, 11.0786857 ,  9.98195627,\n",
       "        9.34739351, 10.1400612 , 10.70567429,  9.32073089, 11.05033468,\n",
       "        9.70057472,  9.28909997, 10.05058912, 10.58398406, 12.16819711,\n",
       "       12.17087491, 11.80497226,  9.94456472, 11.06427314,  9.21135977,\n",
       "        9.42034906, 10.72898836, 11.36204611,  9.60581439,  8.88206302,\n",
       "        8.98482906, 10.15788299,  9.32560059, 10.17189436, 10.76021971,\n",
       "       12.64932521, 10.51948624, 10.28306604, 11.84173363,  9.85480661,\n",
       "        9.56343579, 11.69654479, 10.19796325, 10.41735033,  9.46262386,\n",
       "       10.18976507, 12.53074275, 10.0371711 , 11.60563682, 11.4581532 ,\n",
       "       11.52864375, 11.00325834, 10.19622758, 10.56924944, 10.47183694,\n",
       "       10.25547343, 11.82010479, 10.00681563,  9.79553486, 11.06512779,\n",
       "        9.5966085 ,  9.26846661,  9.9411128 , 10.21145002,  9.41592731,\n",
       "       10.33234032, 10.51840212, 10.49118282, 10.77516879,  9.4838179 ,\n",
       "        9.69997862,  9.40681071, 10.69242863,  9.26534393, 10.13362934,\n",
       "        9.63788548, 10.59899377, 12.33879574, 11.3603567 , 10.10139917,\n",
       "        9.45515807, 11.08969612, 11.36536985, 10.68488086, 10.73890169,\n",
       "       10.40828997,  9.48554718,  9.5730408 ,  9.78329243, 11.83316151,\n",
       "       10.70487839,  9.17250745,  8.73277913,  9.99140962, 10.28571026,\n",
       "       11.16003451, 10.34525318, 10.91804995,  9.94355838, 10.8342926 ,\n",
       "       10.2097503 , 10.56882051,  9.7301567 , 10.58622504, 11.24148207,\n",
       "        9.74347792, 10.30800593, 11.6506592 ,  9.89444913, 10.26631421,\n",
       "       10.631188  , 10.73885207,  9.6643212 , 10.73056288, 10.46031069,\n",
       "       10.64429722, 10.17208388,  9.35209121, 11.62107739, 10.15955644,\n",
       "       10.53663047,  9.92791768, 11.18574529,  8.8991782 ,  9.65115645,\n",
       "       10.89224132, 10.77971971,  9.50392093, 10.8492753 , 11.19527708,\n",
       "       10.77493083, 10.49531479,  8.90756964, 10.50773334, 11.83167404,\n",
       "       10.64213708,  9.82048213, 10.77603897,  9.03974095, 10.31677395,\n",
       "        8.984508  , 10.55618416, 10.52382997, 11.01985409, 10.98854253,\n",
       "       11.00028249, 11.58758805, 10.84301791, 11.2632957 , 10.32863499,\n",
       "       11.09410303,  9.82097227, 11.66446301,  9.84301679,  8.93567479,\n",
       "       10.98934002, 10.71326057,  9.238451  , 10.09703056, 11.12891097,\n",
       "       10.38485432, 11.11461651, 11.11818433, 10.14837198,  9.64139864,\n",
       "       10.53645871, 10.10279786, 10.69578801, 11.17649598, 10.30291847,\n",
       "       10.31193396, 10.84045953, 11.1563187 , 11.44177138, 11.5557739 ,\n",
       "        9.85161966, 10.68826888,  9.72609173, 11.3343288 ,  9.63488317,\n",
       "       11.04801796, 10.57179093, 11.06022136, 10.54537601, 10.65497915,\n",
       "       10.11901525, 10.57826563,  9.98266033,  8.61492834, 10.69721682,\n",
       "       10.62161332,  9.84125518, 11.01050169, 10.00348126, 11.18103795,\n",
       "       12.03554431, 10.81866302,  9.04308958, 10.07506464,  9.41346798,\n",
       "       10.54275206, 10.71228698,  9.93295092,  9.33329475,  8.56684293,\n",
       "        8.85250183,  9.54886213, 10.83718847, 11.38543764, 10.85979822,\n",
       "        9.75249434, 10.04135452, 10.90727098,  9.57293227, 10.3102168 ,\n",
       "       10.61497558,  9.88601084,  9.21975381, 10.11792273, 10.6336459 ,\n",
       "       11.61756771, 10.51595184, 11.25478168, 11.05313149, 10.37643283,\n",
       "       10.66892275, 10.27303478,  8.97684111,  9.92986806, 11.09353321,\n",
       "       11.03528719, 10.82807674, 10.41475974, 10.75397844, 10.92137902,\n",
       "       10.6576664 , 10.07461174,  9.01628212, 11.74334334,  9.98754371,\n",
       "       10.28823195, 10.06962532, 10.64848077, 10.96068488, 11.03642772])"
      ]
     },
     "execution_count": 66,
     "metadata": {},
     "output_type": "execute_result"
    }
   ],
   "source": [
    "pipe.predict(X_test)"
   ]
  },
  {
   "cell_type": "code",
   "execution_count": 67,
   "metadata": {},
   "outputs": [
    {
     "data": {
      "text/plain": [
       "array([9.35118072])"
      ]
     },
     "execution_count": 67,
     "metadata": {},
     "output_type": "execute_result"
    }
   ],
   "source": [
    "pipe.predict(test_input)"
   ]
  },
  {
   "cell_type": "code",
   "execution_count": 340,
   "metadata": {},
   "outputs": [],
   "source": [
    "import pickle\n",
    "\n",
    "# Assuming 'pipe' is your fitted pipeline\n",
    "\n",
    "# Define the filename for the exported model\n",
    "filename = 'Car_price.pkl'\n",
    "\n",
    "# Save the model and pipeline to a file\n",
    "with open(filename, 'wb') as file:\n",
    "    pickle.dump(pipe, file)\n"
   ]
  },
  {
   "cell_type": "code",
   "execution_count": 341,
   "metadata": {},
   "outputs": [
    {
     "ename": "FileNotFoundError",
     "evalue": "[Errno 2] No such file or directory: 'used_cars.pkl'",
     "output_type": "error",
     "traceback": [
      "\u001b[1;31m---------------------------------------------------------------------------\u001b[0m",
      "\u001b[1;31mFileNotFoundError\u001b[0m                         Traceback (most recent call last)",
      "Cell \u001b[1;32mIn[341], line 5\u001b[0m\n\u001b[0;32m      2\u001b[0m \u001b[38;5;28;01mfrom\u001b[39;00m \u001b[38;5;21;01msklearn\u001b[39;00m\u001b[38;5;21;01m.\u001b[39;00m\u001b[38;5;21;01mmetrics\u001b[39;00m \u001b[38;5;28;01mimport\u001b[39;00m accuracy_score\n\u001b[0;32m      4\u001b[0m \u001b[38;5;66;03m# Load the model from the .pkl file\u001b[39;00m\n\u001b[1;32m----> 5\u001b[0m \u001b[38;5;28;01mwith\u001b[39;00m \u001b[38;5;28;43mopen\u001b[39;49m\u001b[43m(\u001b[49m\u001b[38;5;124;43m'\u001b[39;49m\u001b[38;5;124;43mused_cars.pkl\u001b[39;49m\u001b[38;5;124;43m'\u001b[39;49m\u001b[43m,\u001b[49m\u001b[43m \u001b[49m\u001b[38;5;124;43m'\u001b[39;49m\u001b[38;5;124;43mrb\u001b[39;49m\u001b[38;5;124;43m'\u001b[39;49m\u001b[43m)\u001b[49m \u001b[38;5;28;01mas\u001b[39;00m file:\n\u001b[0;32m      6\u001b[0m     loaded_pipe \u001b[38;5;241m=\u001b[39m pickle\u001b[38;5;241m.\u001b[39mload(file)\n\u001b[0;32m      8\u001b[0m \u001b[38;5;66;03m# Assuming X_test and y_test are your test data and labels, respectively\u001b[39;00m\n\u001b[0;32m      9\u001b[0m \u001b[38;5;66;03m# Make predictions using the loaded model\u001b[39;00m\n",
      "File \u001b[1;32m~\\AppData\\Local\\Programs\\Python\\Python311\\Lib\\site-packages\\IPython\\core\\interactiveshell.py:310\u001b[0m, in \u001b[0;36m_modified_open\u001b[1;34m(file, *args, **kwargs)\u001b[0m\n\u001b[0;32m    303\u001b[0m \u001b[38;5;28;01mif\u001b[39;00m file \u001b[38;5;129;01min\u001b[39;00m {\u001b[38;5;241m0\u001b[39m, \u001b[38;5;241m1\u001b[39m, \u001b[38;5;241m2\u001b[39m}:\n\u001b[0;32m    304\u001b[0m     \u001b[38;5;28;01mraise\u001b[39;00m \u001b[38;5;167;01mValueError\u001b[39;00m(\n\u001b[0;32m    305\u001b[0m         \u001b[38;5;124mf\u001b[39m\u001b[38;5;124m\"\u001b[39m\u001b[38;5;124mIPython won\u001b[39m\u001b[38;5;124m'\u001b[39m\u001b[38;5;124mt let you open fd=\u001b[39m\u001b[38;5;132;01m{\u001b[39;00mfile\u001b[38;5;132;01m}\u001b[39;00m\u001b[38;5;124m by default \u001b[39m\u001b[38;5;124m\"\u001b[39m\n\u001b[0;32m    306\u001b[0m         \u001b[38;5;124m\"\u001b[39m\u001b[38;5;124mas it is likely to crash IPython. If you know what you are doing, \u001b[39m\u001b[38;5;124m\"\u001b[39m\n\u001b[0;32m    307\u001b[0m         \u001b[38;5;124m\"\u001b[39m\u001b[38;5;124myou can use builtins\u001b[39m\u001b[38;5;124m'\u001b[39m\u001b[38;5;124m open.\u001b[39m\u001b[38;5;124m\"\u001b[39m\n\u001b[0;32m    308\u001b[0m     )\n\u001b[1;32m--> 310\u001b[0m \u001b[38;5;28;01mreturn\u001b[39;00m \u001b[43mio_open\u001b[49m\u001b[43m(\u001b[49m\u001b[43mfile\u001b[49m\u001b[43m,\u001b[49m\u001b[43m \u001b[49m\u001b[38;5;241;43m*\u001b[39;49m\u001b[43margs\u001b[49m\u001b[43m,\u001b[49m\u001b[43m \u001b[49m\u001b[38;5;241;43m*\u001b[39;49m\u001b[38;5;241;43m*\u001b[39;49m\u001b[43mkwargs\u001b[49m\u001b[43m)\u001b[49m\n",
      "\u001b[1;31mFileNotFoundError\u001b[0m: [Errno 2] No such file or directory: 'used_cars.pkl'"
     ]
    }
   ],
   "source": [
    "import pickle\n",
    "from sklearn.metrics import accuracy_score\n",
    "\n",
    "# Load the model from the .pkl file\n",
    "with open('used_cars.pkl', 'rb') as file:\n",
    "    loaded_pipe = pickle.load(file)\n",
    "\n",
    "# Assuming X_test and y_test are your test data and labels, respectively\n",
    "# Make predictions using the loaded model\n",
    "predictions = loaded_pipe.predict(X_test)\n",
    "\n",
    "# Evaluate the performance of the loaded model\n",
    "accuracy = accuracy_score(y_test, predictions)\n",
    "print(\"Accuracy:\", accuracy)\n"
   ]
  },
  {
   "cell_type": "code",
   "execution_count": null,
   "metadata": {},
   "outputs": [],
   "source": []
  },
  {
   "cell_type": "code",
   "execution_count": null,
   "metadata": {},
   "outputs": [],
   "source": []
  },
  {
   "cell_type": "code",
   "execution_count": null,
   "metadata": {},
   "outputs": [],
   "source": []
  },
  {
   "cell_type": "code",
   "execution_count": null,
   "metadata": {},
   "outputs": [],
   "source": []
  },
  {
   "cell_type": "code",
   "execution_count": null,
   "metadata": {},
   "outputs": [],
   "source": []
  },
  {
   "cell_type": "code",
   "execution_count": null,
   "metadata": {},
   "outputs": [],
   "source": []
  },
  {
   "cell_type": "code",
   "execution_count": null,
   "metadata": {},
   "outputs": [],
   "source": []
  },
  {
   "cell_type": "code",
   "execution_count": null,
   "metadata": {},
   "outputs": [],
   "source": []
  },
  {
   "cell_type": "code",
   "execution_count": null,
   "metadata": {},
   "outputs": [],
   "source": []
  },
  {
   "cell_type": "code",
   "execution_count": null,
   "metadata": {},
   "outputs": [],
   "source": []
  },
  {
   "cell_type": "code",
   "execution_count": null,
   "metadata": {},
   "outputs": [],
   "source": []
  },
  {
   "cell_type": "code",
   "execution_count": null,
   "metadata": {},
   "outputs": [],
   "source": []
  },
  {
   "cell_type": "code",
   "execution_count": null,
   "metadata": {},
   "outputs": [],
   "source": [
    "# Random Forest\n",
    "\n",
    "random_forest = RandomForestRegressor(n_estimators=100, max_depth=20, min_samples_split=10, min_samples_leaf=5, random_state=24)\n",
    "random_forest=random_forest.fit(X_train, y_train)\n",
    "acc_model(5, random_forest, X_train, X_test)"
   ]
  },
  {
   "cell_type": "code",
   "execution_count": null,
   "metadata": {},
   "outputs": [],
   "source": []
  },
  {
   "cell_type": "code",
   "execution_count": null,
   "metadata": {},
   "outputs": [],
   "source": []
  },
  {
   "cell_type": "code",
   "execution_count": null,
   "metadata": {},
   "outputs": [],
   "source": []
  },
  {
   "cell_type": "code",
   "execution_count": null,
   "metadata": {},
   "outputs": [],
   "source": []
  },
  {
   "cell_type": "code",
   "execution_count": null,
   "metadata": {},
   "outputs": [],
   "source": []
  },
  {
   "cell_type": "code",
   "execution_count": null,
   "metadata": {},
   "outputs": [],
   "source": []
  },
  {
   "cell_type": "code",
   "execution_count": null,
   "metadata": {},
   "outputs": [],
   "source": []
  },
  {
   "cell_type": "code",
   "execution_count": null,
   "metadata": {},
   "outputs": [],
   "source": []
  },
  {
   "cell_type": "code",
   "execution_count": null,
   "metadata": {},
   "outputs": [],
   "source": []
  },
  {
   "cell_type": "code",
   "execution_count": null,
   "metadata": {},
   "outputs": [],
   "source": []
  },
  {
   "cell_type": "code",
   "execution_count": null,
   "metadata": {},
   "outputs": [],
   "source": []
  },
  {
   "cell_type": "code",
   "execution_count": null,
   "metadata": {},
   "outputs": [],
   "source": []
  },
  {
   "cell_type": "code",
   "execution_count": null,
   "metadata": {},
   "outputs": [],
   "source": []
  },
  {
   "cell_type": "code",
   "execution_count": null,
   "metadata": {},
   "outputs": [],
   "source": []
  }
 ],
 "metadata": {
  "accelerator": "GPU",
  "colab": {
   "gpuType": "T4",
   "provenance": []
  },
  "kernelspec": {
   "display_name": "Python 3 (ipykernel)",
   "language": "python",
   "name": "python3"
  },
  "language_info": {
   "codemirror_mode": {
    "name": "ipython",
    "version": 3
   },
   "file_extension": ".py",
   "mimetype": "text/x-python",
   "name": "python",
   "nbconvert_exporter": "python",
   "pygments_lexer": "ipython3",
   "version": "3.11.4"
  }
 },
 "nbformat": 4,
 "nbformat_minor": 4
}
