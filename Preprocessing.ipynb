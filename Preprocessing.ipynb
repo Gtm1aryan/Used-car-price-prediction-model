{
 "cells": [
  {
   "cell_type": "code",
   "execution_count": 2,
   "metadata": {
    "colab": {
     "base_uri": "https://localhost:8080/"
    },
    "id": "pZNotNMnOfeg",
    "outputId": "72c877fc-a346-4dc7-880e-ba1990ec39e7"
   },
   "outputs": [
    {
     "name": "stdout",
     "output_type": "stream",
     "text": [
      "✔️ All Libraries imported\n"
     ]
    }
   ],
   "source": [
    "import numpy as np\n",
    "import pandas as pd\n",
    "import matplotlib.pyplot as plt\n",
    "%matplotlib inline\n",
    "\n",
    "# preprocessing\n",
    "from sklearn.preprocessing import LabelEncoder, StandardScaler\n",
    "from sklearn.model_selection import train_test_split, cross_val_score, GridSearchCV, StratifiedKFold\n",
    "# import pandas_profiling as pp\n",
    "\n",
    "# models\n",
    "from sklearn.linear_model import LinearRegression, SGDRegressor, RidgeCV\n",
    "from sklearn.svm import SVR, LinearSVR\n",
    "from sklearn.ensemble import RandomForestRegressor, GradientBoostingRegressor, ExtraTreesRegressor\n",
    "from sklearn.ensemble import BaggingRegressor, AdaBoostRegressor, VotingRegressor\n",
    "from sklearn.neural_network import MLPRegressor\n",
    "from sklearn.tree import DecisionTreeRegressor\n",
    "import sklearn.model_selection\n",
    "from sklearn.model_selection import cross_val_predict as cvp\n",
    "from sklearn import metrics\n",
    "from sklearn.metrics import r2_score, mean_absolute_error, mean_squared_error\n",
    "import xgboost as xgb\n",
    "import lightgbm as lgb\n",
    "\n",
    "# model tuning\n",
    "from hyperopt import STATUS_OK, Trials, fmin, hp, tpe, space_eval\n",
    "\n",
    "import warnings\n",
    "warnings.filterwarnings(\"ignore\")\n",
    "print(\"✔️ All Libraries imported\")"
   ]
  },
  {
   "cell_type": "code",
   "execution_count": 3,
   "metadata": {
    "id": "NAilvi7MPDvl"
   },
   "outputs": [],
   "source": [
    "df=pd.read_csv(\"used_cars preprocesssing(1).csv\")"
   ]
  },
  {
   "cell_type": "code",
   "execution_count": 4,
   "metadata": {
    "id": "dvadvrn3ZzJX"
   },
   "outputs": [],
   "source": [
    "pd.set_option('display.max_rows', 10)"
   ]
  },
  {
   "cell_type": "code",
   "execution_count": 5,
   "metadata": {
    "colab": {
     "base_uri": "https://localhost:8080/"
    },
    "id": "zhjd-pVivitn",
    "outputId": "6df28b45-7c45-40ce-9064-feb6ea43a30f"
   },
   "outputs": [
    {
     "data": {
      "text/plain": [
       "0"
      ]
     },
     "execution_count": 5,
     "metadata": {},
     "output_type": "execute_result"
    }
   ],
   "source": [
    "df.duplicated().sum()"
   ]
  },
  {
   "cell_type": "code",
   "execution_count": 6,
   "metadata": {
    "colab": {
     "base_uri": "https://localhost:8080/",
     "height": 345
    },
    "id": "ONJ-ahj-PKa_",
    "outputId": "4f9b55a7-c56e-4b66-85ae-f3544b45a24e"
   },
   "outputs": [
    {
     "data": {
      "text/html": [
       "<div>\n",
       "<style scoped>\n",
       "    .dataframe tbody tr th:only-of-type {\n",
       "        vertical-align: middle;\n",
       "    }\n",
       "\n",
       "    .dataframe tbody tr th {\n",
       "        vertical-align: top;\n",
       "    }\n",
       "\n",
       "    .dataframe thead th {\n",
       "        text-align: right;\n",
       "    }\n",
       "</style>\n",
       "<table border=\"1\" class=\"dataframe\">\n",
       "  <thead>\n",
       "    <tr style=\"text-align: right;\">\n",
       "      <th></th>\n",
       "      <th>brand</th>\n",
       "      <th>model</th>\n",
       "      <th>model_year</th>\n",
       "      <th>milage</th>\n",
       "      <th>fuel_type</th>\n",
       "      <th>engine</th>\n",
       "      <th>transmission</th>\n",
       "      <th>ext_col</th>\n",
       "      <th>int_col</th>\n",
       "      <th>accident</th>\n",
       "      <th>clean_title</th>\n",
       "      <th>price</th>\n",
       "      <th>condition</th>\n",
       "    </tr>\n",
       "  </thead>\n",
       "  <tbody>\n",
       "    <tr>\n",
       "      <th>0</th>\n",
       "      <td>Ford</td>\n",
       "      <td>Utility Police Interceptor Base</td>\n",
       "      <td>2013</td>\n",
       "      <td>51,000 mi.</td>\n",
       "      <td>E85 Flex Fuel</td>\n",
       "      <td>300.0HP 3.7L V6 Cylinder Engine Flex Fuel Capa...</td>\n",
       "      <td>6 Speed Automatic</td>\n",
       "      <td>Black</td>\n",
       "      <td>Black</td>\n",
       "      <td>1</td>\n",
       "      <td>Yes</td>\n",
       "      <td>$10,300</td>\n",
       "      <td>NaN</td>\n",
       "    </tr>\n",
       "    <tr>\n",
       "      <th>1</th>\n",
       "      <td>Hyundai</td>\n",
       "      <td>Palisade SELl</td>\n",
       "      <td>2021</td>\n",
       "      <td>34,742 mi.</td>\n",
       "      <td>Gasoline</td>\n",
       "      <td>3.8L V6 24V GDI DOHC</td>\n",
       "      <td>8 Speed Automatic</td>\n",
       "      <td>Moonlight Cloud</td>\n",
       "      <td>Gray</td>\n",
       "      <td>1</td>\n",
       "      <td>Yes</td>\n",
       "      <td>$38,005</td>\n",
       "      <td>NaN</td>\n",
       "    </tr>\n",
       "    <tr>\n",
       "      <th>2</th>\n",
       "      <td>Lexus</td>\n",
       "      <td>RX 350 RX 350</td>\n",
       "      <td>2022</td>\n",
       "      <td>22,372 mi.</td>\n",
       "      <td>Gasoline</td>\n",
       "      <td>3.5 Liter DOHC</td>\n",
       "      <td>Automatic</td>\n",
       "      <td>Blue</td>\n",
       "      <td>Black</td>\n",
       "      <td>None reported</td>\n",
       "      <td>NaN</td>\n",
       "      <td>$54,598</td>\n",
       "      <td>NaN</td>\n",
       "    </tr>\n",
       "    <tr>\n",
       "      <th>3</th>\n",
       "      <td>INFINITI</td>\n",
       "      <td>Q50 Hybrid Sport</td>\n",
       "      <td>2015</td>\n",
       "      <td>88,900 mi.</td>\n",
       "      <td>Hybrid</td>\n",
       "      <td>354.0HP 3.5L V6 Cylinder Engine Gas/Electric H...</td>\n",
       "      <td>7 Speed Automatic</td>\n",
       "      <td>Black</td>\n",
       "      <td>Black</td>\n",
       "      <td>None reported</td>\n",
       "      <td>Yes</td>\n",
       "      <td>$15,500</td>\n",
       "      <td>NaN</td>\n",
       "    </tr>\n",
       "    <tr>\n",
       "      <th>4</th>\n",
       "      <td>Audi</td>\n",
       "      <td>Q3 45 S line Premium Plus</td>\n",
       "      <td>2021</td>\n",
       "      <td>9,835 mi.</td>\n",
       "      <td>Gasoline</td>\n",
       "      <td>2.0L I4 16V GDI DOHC Turbo</td>\n",
       "      <td>8 Speed Automatic</td>\n",
       "      <td>Glacier White Metallic</td>\n",
       "      <td>Black</td>\n",
       "      <td>None reported</td>\n",
       "      <td>NaN</td>\n",
       "      <td>$34,999</td>\n",
       "      <td>NaN</td>\n",
       "    </tr>\n",
       "  </tbody>\n",
       "</table>\n",
       "</div>"
      ],
      "text/plain": [
       "      brand                            model  model_year      milage  \\\n",
       "0      Ford  Utility Police Interceptor Base        2013  51,000 mi.   \n",
       "1   Hyundai                    Palisade SELl        2021  34,742 mi.   \n",
       "2     Lexus                    RX 350 RX 350        2022  22,372 mi.   \n",
       "3  INFINITI                 Q50 Hybrid Sport        2015  88,900 mi.   \n",
       "4      Audi        Q3 45 S line Premium Plus        2021   9,835 mi.   \n",
       "\n",
       "       fuel_type                                             engine  \\\n",
       "0  E85 Flex Fuel  300.0HP 3.7L V6 Cylinder Engine Flex Fuel Capa...   \n",
       "1       Gasoline                               3.8L V6 24V GDI DOHC   \n",
       "2       Gasoline                                     3.5 Liter DOHC   \n",
       "3         Hybrid  354.0HP 3.5L V6 Cylinder Engine Gas/Electric H...   \n",
       "4       Gasoline                         2.0L I4 16V GDI DOHC Turbo   \n",
       "\n",
       "        transmission                 ext_col int_col       accident  \\\n",
       "0  6 Speed Automatic                   Black   Black              1   \n",
       "1  8 Speed Automatic         Moonlight Cloud    Gray              1   \n",
       "2          Automatic                    Blue   Black  None reported   \n",
       "3  7 Speed Automatic                   Black   Black  None reported   \n",
       "4  8 Speed Automatic  Glacier White Metallic   Black  None reported   \n",
       "\n",
       "  clean_title    price  condition  \n",
       "0         Yes  $10,300        NaN  \n",
       "1         Yes  $38,005        NaN  \n",
       "2         NaN  $54,598        NaN  \n",
       "3         Yes  $15,500        NaN  \n",
       "4         NaN  $34,999        NaN  "
      ]
     },
     "execution_count": 6,
     "metadata": {},
     "output_type": "execute_result"
    }
   ],
   "source": [
    "df.head()"
   ]
  },
  {
   "cell_type": "code",
   "execution_count": 7,
   "metadata": {
    "colab": {
     "base_uri": "https://localhost:8080/"
    },
    "id": "TkXLoH9NqlaW",
    "outputId": "d800af9c-195d-4b1b-981e-48883a60e3b0"
   },
   "outputs": [
    {
     "name": "stdout",
     "output_type": "stream",
     "text": [
      "<class 'pandas.core.frame.DataFrame'>\n",
      "RangeIndex: 4009 entries, 0 to 4008\n",
      "Data columns (total 13 columns):\n",
      " #   Column        Non-Null Count  Dtype  \n",
      "---  ------        --------------  -----  \n",
      " 0   brand         4009 non-null   object \n",
      " 1   model         4009 non-null   object \n",
      " 2   model_year    4009 non-null   int64  \n",
      " 3   milage        4009 non-null   object \n",
      " 4   fuel_type     3839 non-null   object \n",
      " 5   engine        4009 non-null   object \n",
      " 6   transmission  4009 non-null   object \n",
      " 7   ext_col       4009 non-null   object \n",
      " 8   int_col       4009 non-null   object \n",
      " 9   accident      3896 non-null   object \n",
      " 10  clean_title   3413 non-null   object \n",
      " 11  price         4009 non-null   object \n",
      " 12  condition     0 non-null      float64\n",
      "dtypes: float64(1), int64(1), object(11)\n",
      "memory usage: 407.3+ KB\n"
     ]
    }
   ],
   "source": [
    "df.info()"
   ]
  },
  {
   "cell_type": "code",
   "execution_count": 7,
   "metadata": {
    "id": "FO_ZtBnCQqVP"
   },
   "outputs": [],
   "source": [
    "j=df[df['engine']==' '].index"
   ]
  },
  {
   "cell_type": "code",
   "execution_count": 8,
   "metadata": {
    "id": "B1uC0J1uK7MX"
   },
   "outputs": [],
   "source": [
    "df.drop(j,inplace=True)"
   ]
  },
  {
   "cell_type": "code",
   "execution_count": 9,
   "metadata": {
    "id": "tVk3A7shLrh9"
   },
   "outputs": [],
   "source": [
    "df.drop(columns=df.columns[12],inplace=True )"
   ]
  },
  {
   "cell_type": "code",
   "execution_count": 10,
   "metadata": {
    "colab": {
     "base_uri": "https://localhost:8080/"
    },
    "id": "Dahlo1BgQf_k",
    "outputId": "1257c43f-533e-427b-a4ef-54e0f24ae198"
   },
   "outputs": [
    {
     "data": {
      "text/plain": [
       "brand            0\n",
       "model            0\n",
       "model_year       0\n",
       "milage           0\n",
       "fuel_type      170\n",
       "              ... \n",
       "ext_col          0\n",
       "int_col          0\n",
       "accident       112\n",
       "clean_title    595\n",
       "price            0\n",
       "Length: 12, dtype: int64"
      ]
     },
     "execution_count": 10,
     "metadata": {},
     "output_type": "execute_result"
    }
   ],
   "source": [
    "df.isnull().sum()"
   ]
  },
  {
   "cell_type": "code",
   "execution_count": 11,
   "metadata": {
    "id": "aIzfBXQ5LqOL"
   },
   "outputs": [],
   "source": [
    "# here we can see that we have to derive information from each columns:\n",
    "# 1.milage = d_in_km\n",
    "# 2.engine = hp\n",
    "#          = litre\n",
    "#          = v\n",
    "#          = no_of_cylinders\n",
    "# 3.Transmission = atomatic/mannual/dual\n",
    "#                = gear\n"
   ]
  },
  {
   "cell_type": "code",
   "execution_count": 12,
   "metadata": {
    "colab": {
     "base_uri": "https://localhost:8080/"
    },
    "id": "Wikp4iC9OH01",
    "outputId": "b4aefdf9-0ed9-414a-8457-dfe92a821d38"
   },
   "outputs": [
    {
     "data": {
      "text/plain": [
       "0       300.0\n",
       "1         NaN\n",
       "2         NaN\n",
       "3       354.0\n",
       "4         NaN\n",
       "        ...  \n",
       "4004      NaN\n",
       "4005    349.0\n",
       "4006      NaN\n",
       "4007    450.0\n",
       "4008    248.0\n",
       "Name: horsepower, Length: 3964, dtype: float64"
      ]
     },
     "execution_count": 12,
     "metadata": {},
     "output_type": "execute_result"
    }
   ],
   "source": [
    "df['horsepower'] = df['engine'].str.extract(r'(\\d+\\.\\d+)HP', expand=False).astype(float)\n",
    "df['horsepower']"
   ]
  },
  {
   "cell_type": "code",
   "execution_count": 13,
   "metadata": {
    "colab": {
     "base_uri": "https://localhost:8080/"
    },
    "id": "mEJ1cbFlQQ4_",
    "outputId": "348996e9-7071-4319-9ab3-9dd726aa0ce2"
   },
   "outputs": [
    {
     "data": {
      "text/plain": [
       "0       3.7\n",
       "1       3.8\n",
       "2       3.5\n",
       "3       3.5\n",
       "4       2.0\n",
       "       ... \n",
       "4004    6.0\n",
       "4005    3.0\n",
       "4006    NaN\n",
       "4007    3.5\n",
       "4008    2.0\n",
       "Name: Displacement, Length: 3964, dtype: float64"
      ]
     },
     "execution_count": 13,
     "metadata": {},
     "output_type": "execute_result"
    }
   ],
   "source": [
    "df['Displacement'] = df['engine'].str.extract(r'(\\d+\\.\\d+)L', expand=False).astype(float).fillna(df['engine'].str.extract(r'(\\d+(\\.\\d+)?)\\s*Liter', expand=False)[0].astype(float))\n",
    "df['Displacement']"
   ]
  },
  {
   "cell_type": "code",
   "execution_count": 14,
   "metadata": {
    "colab": {
     "base_uri": "https://localhost:8080/"
    },
    "id": "DvnFuCC9RhwT",
    "outputId": "7604df7b-ddd2-4475-da4b-e7bbd2e6d750"
   },
   "outputs": [
    {
     "data": {
      "text/plain": [
       "0       300.0\n",
       "1         3.8\n",
       "2         3.5\n",
       "3       354.0\n",
       "4         2.0\n",
       "        ...  \n",
       "4004      6.0\n",
       "4005    349.0\n",
       "4006      NaN\n",
       "4007    450.0\n",
       "4008    248.0\n",
       "Name: engine, Length: 3964, dtype: float64"
      ]
     },
     "execution_count": 14,
     "metadata": {},
     "output_type": "execute_result"
    }
   ],
   "source": [
    "df['engine'].str.extract(r'(\\d+\\.\\d+)', expand=False).astype(float)"
   ]
  },
  {
   "cell_type": "code",
   "execution_count": 15,
   "metadata": {
    "colab": {
     "base_uri": "https://localhost:8080/"
    },
    "id": "FAWLalKbOHuM",
    "outputId": "7c657ccd-48d7-4fcc-f25a-5cc40b50ace9"
   },
   "outputs": [
    {
     "data": {
      "text/plain": [
       "Cylinders\n",
       "6      1225\n",
       "8      1007\n",
       "NaN     900\n",
       "4       739\n",
       "12       37\n",
       "10       23\n",
       "5        20\n",
       "3        13\n",
       "Name: count, dtype: int64"
      ]
     },
     "execution_count": 15,
     "metadata": {},
     "output_type": "execute_result"
    }
   ],
   "source": [
    "df['Cylinders']= (df['engine'].str.extract(r'(\\d+)\\s*Cylinder', expand=False) )\n",
    "df['Cylinders'].value_counts(dropna=False)\n"
   ]
  },
  {
   "cell_type": "code",
   "execution_count": 16,
   "metadata": {
    "colab": {
     "base_uri": "https://localhost:8080/"
    },
    "id": "Uid0GnjkZKOz",
    "outputId": "0b11fbb9-fd17-46e5-9a94-0f740da837e8"
   },
   "outputs": [
    {
     "data": {
      "text/plain": [
       "0       False\n",
       "1       False\n",
       "2       False\n",
       "3       False\n",
       "4       False\n",
       "        ...  \n",
       "4004    False\n",
       "4005     True\n",
       "4006    False\n",
       "4007    False\n",
       "4008    False\n",
       "Name: transmission, Length: 3964, dtype: object"
      ]
     },
     "execution_count": 16,
     "metadata": {},
     "output_type": "execute_result"
    }
   ],
   "source": [
    "df['transmission'].str.contains(r'Dual', case=False).astype(str)"
   ]
  },
  {
   "cell_type": "code",
   "execution_count": 17,
   "metadata": {
    "colab": {
     "base_uri": "https://localhost:8080/"
    },
    "id": "XjZvbZl3OHpR",
    "outputId": "63ede512-8faf-4997-a47a-92665c383ff5"
   },
   "outputs": [
    {
     "data": {
      "text/plain": [
       "transmission\n",
       "NaN    3964\n",
       "Name: count, dtype: int64"
      ]
     },
     "execution_count": 17,
     "metadata": {},
     "output_type": "execute_result"
    }
   ],
   "source": [
    "df['transmission'].str.extract(r'(\\d+)Speed', expand=False).astype(float).value_counts(dropna=False)"
   ]
  },
  {
   "cell_type": "code",
   "execution_count": 18,
   "metadata": {
    "colab": {
     "base_uri": "https://localhost:8080/"
    },
    "id": "3AjUgRPhZ_pr",
    "outputId": "69bcbc83-35ec-48d1-bab9-72d661974f89"
   },
   "outputs": [
    {
     "data": {
      "text/plain": [
       "Gear\n",
       "False    1428\n",
       "6.0       695\n",
       "8.0       591\n",
       "True      477\n",
       "7.0       254\n",
       "10.0      176\n",
       "5.0       147\n",
       "9.0       120\n",
       "4.0        72\n",
       "2.0         4\n",
       "Name: count, dtype: int64"
      ]
     },
     "execution_count": 18,
     "metadata": {},
     "output_type": "execute_result"
    }
   ],
   "source": [
    "df['Gear']=df['transmission'].str.extract(r'(\\d+) Speed', expand=False).astype(float).fillna(df['transmission'].str.contains(r'Dual', case=False))\n",
    "df['Gear'].value_counts(dropna=False)"
   ]
  },
  {
   "cell_type": "code",
   "execution_count": 19,
   "metadata": {
    "id": "rPemrkCUbT1a"
   },
   "outputs": [],
   "source": [
    "df['Transmission']=df['transmission'].str.lower().str.extract(r'(\\bautomatic\\b|\\bmanual\\b|\\bdual\\b)')"
   ]
  },
  {
   "cell_type": "code",
   "execution_count": 20,
   "metadata": {
    "colab": {
     "base_uri": "https://localhost:8080/"
    },
    "id": "rN9it8P-PYCe",
    "outputId": "bb3d065f-a9b9-40a7-d6d5-a43cd8d6cd41"
   },
   "outputs": [
    {
     "data": {
      "text/plain": [
       "Transmission\n",
       "automatic    3118\n",
       "dual          396\n",
       "manual         15\n",
       "Name: count, dtype: int64"
      ]
     },
     "execution_count": 20,
     "metadata": {},
     "output_type": "execute_result"
    }
   ],
   "source": [
    "df['Transmission'].value_counts()"
   ]
  },
  {
   "cell_type": "code",
   "execution_count": 21,
   "metadata": {
    "id": "3OPWWXePSdrb"
   },
   "outputs": [],
   "source": [
    "df['Gear'].replace({\n",
    "     True:1,\n",
    "     False:np.nan\n",
    "},inplace=True)"
   ]
  },
  {
   "cell_type": "code",
   "execution_count": 22,
   "metadata": {
    "colab": {
     "base_uri": "https://localhost:8080/"
    },
    "id": "4ecv7P8qPSUG",
    "outputId": "3adf0674-48bf-40b5-cc10-ed48e7016207"
   },
   "outputs": [
    {
     "data": {
      "text/plain": [
       "brand              0\n",
       "model              0\n",
       "model_year         0\n",
       "milage             0\n",
       "fuel_type        170\n",
       "                ... \n",
       "horsepower       765\n",
       "Displacement     193\n",
       "Cylinders        900\n",
       "Gear            1428\n",
       "Transmission     435\n",
       "Length: 17, dtype: int64"
      ]
     },
     "execution_count": 22,
     "metadata": {},
     "output_type": "execute_result"
    }
   ],
   "source": [
    "df.isnull().sum()"
   ]
  },
  {
   "cell_type": "code",
   "execution_count": 23,
   "metadata": {
    "colab": {
     "base_uri": "https://localhost:8080/"
    },
    "id": "Q2czkA6iOcA_",
    "outputId": "cb543457-5a1e-4809-a02c-703077afe3b8"
   },
   "outputs": [
    {
     "name": "stdout",
     "output_type": "stream",
     "text": [
      "accident\n",
      "None reported    2877\n",
      "1                 975\n",
      "NaN               112\n",
      "Name: count, dtype: int64\n",
      "----------------------------------\n",
      "clean_title\n",
      "Yes    3369\n",
      "NaN     595\n",
      "Name: count, dtype: int64\n",
      "----------------------------------\n",
      "horsepower\n",
      "NaN      765\n",
      "300.0    107\n",
      "400.0     71\n",
      "420.0     71\n",
      "355.0     70\n",
      "        ... \n",
      "258.0      1\n",
      "78.0       1\n",
      "133.0      1\n",
      "121.0      1\n",
      "176.0      1\n",
      "Name: count, Length: 349, dtype: int64\n",
      "----------------------------------\n",
      "Displacement\n",
      "2.0    524\n",
      "3.0    469\n",
      "3.5    353\n",
      "3.6    241\n",
      "NaN    193\n",
      "      ... \n",
      "8.4      1\n",
      "7.4      1\n",
      "1.7      1\n",
      "8.0      1\n",
      "1.0      1\n",
      "Name: count, Length: 62, dtype: int64\n",
      "----------------------------------\n",
      "Cylinders\n",
      "6      1225\n",
      "8      1007\n",
      "NaN     900\n",
      "4       739\n",
      "12       37\n",
      "10       23\n",
      "5        20\n",
      "3        13\n",
      "Name: count, dtype: int64\n",
      "----------------------------------\n",
      "Gear\n",
      "NaN     1428\n",
      "6.0      695\n",
      "8.0      591\n",
      "1.0      477\n",
      "7.0      254\n",
      "10.0     176\n",
      "5.0      147\n",
      "9.0      120\n",
      "4.0       72\n",
      "2.0        4\n",
      "Name: count, dtype: int64\n",
      "----------------------------------\n",
      "Transmission\n",
      "automatic    3118\n",
      "NaN           435\n",
      "dual          396\n",
      "manual         15\n",
      "Name: count, dtype: int64\n",
      "----------------------------------\n"
     ]
    }
   ],
   "source": [
    "y=['accident','clean_title','horsepower','Displacement','Cylinders','Gear','Transmission']\n",
    "\n",
    "for x in y:\n",
    "  print(df[x].value_counts(dropna=False))\n",
    "  print('----------------------------------')"
   ]
  },
  {
   "cell_type": "code",
   "execution_count": 24,
   "metadata": {
    "id": "i5WTJk4_yH-g"
   },
   "outputs": [],
   "source": [
    "df['accident'].replace({\n",
    "    'None reported': 0\n",
    "},inplace=True)"
   ]
  },
  {
   "cell_type": "code",
   "execution_count": 25,
   "metadata": {
    "id": "Sqm5UOoKyHu1"
   },
   "outputs": [],
   "source": [
    "df['accident'].fillna(0,inplace=True)"
   ]
  },
  {
   "cell_type": "code",
   "execution_count": 26,
   "metadata": {
    "id": "FAVbMcH-yHrf"
   },
   "outputs": [],
   "source": [
    "df['clean_title'].fillna('No',inplace=True)"
   ]
  },
  {
   "cell_type": "code",
   "execution_count": 27,
   "metadata": {
    "colab": {
     "base_uri": "https://localhost:8080/",
     "height": 1000
    },
    "id": "kK7VzgHhyHpD",
    "outputId": "6be053cc-4846-4bcb-fbc7-4879051deab2"
   },
   "outputs": [
    {
     "data": {
      "text/html": [
       "<div>\n",
       "<style scoped>\n",
       "    .dataframe tbody tr th:only-of-type {\n",
       "        vertical-align: middle;\n",
       "    }\n",
       "\n",
       "    .dataframe tbody tr th {\n",
       "        vertical-align: top;\n",
       "    }\n",
       "\n",
       "    .dataframe thead th {\n",
       "        text-align: right;\n",
       "    }\n",
       "</style>\n",
       "<table border=\"1\" class=\"dataframe\">\n",
       "  <thead>\n",
       "    <tr style=\"text-align: right;\">\n",
       "      <th></th>\n",
       "      <th>brand</th>\n",
       "      <th>model</th>\n",
       "      <th>model_year</th>\n",
       "      <th>milage</th>\n",
       "      <th>fuel_type</th>\n",
       "      <th>engine</th>\n",
       "      <th>transmission</th>\n",
       "      <th>ext_col</th>\n",
       "      <th>int_col</th>\n",
       "      <th>accident</th>\n",
       "      <th>clean_title</th>\n",
       "      <th>price</th>\n",
       "      <th>horsepower</th>\n",
       "      <th>Displacement</th>\n",
       "      <th>Cylinders</th>\n",
       "      <th>Gear</th>\n",
       "      <th>Transmission</th>\n",
       "    </tr>\n",
       "  </thead>\n",
       "  <tbody>\n",
       "    <tr>\n",
       "      <th>13</th>\n",
       "      <td>Lincoln</td>\n",
       "      <td>Aviator Reserve AWD</td>\n",
       "      <td>2022</td>\n",
       "      <td>18,196 mi.</td>\n",
       "      <td>Gasoline</td>\n",
       "      <td>400.0HP 3.0L V6 Cylinder Engine Gasoline Fuel</td>\n",
       "      <td>Transmission  With Dual Shift Mode</td>\n",
       "      <td>Black</td>\n",
       "      <td>Brown</td>\n",
       "      <td>0</td>\n",
       "      <td>Yes</td>\n",
       "      <td>$62,000</td>\n",
       "      <td>400.0</td>\n",
       "      <td>3.0</td>\n",
       "      <td>6</td>\n",
       "      <td>1.0</td>\n",
       "      <td>dual</td>\n",
       "    </tr>\n",
       "    <tr>\n",
       "      <th>25</th>\n",
       "      <td>Hyundai</td>\n",
       "      <td>Elantra N Base</td>\n",
       "      <td>2022</td>\n",
       "      <td>11,650 mi.</td>\n",
       "      <td>Gasoline</td>\n",
       "      <td>276.0HP 2.0L 4 Cylinder Engine Gasoline Fuel</td>\n",
       "      <td>Transmission  With Dual Shift Mode</td>\n",
       "      <td>Black</td>\n",
       "      <td>Black</td>\n",
       "      <td>0</td>\n",
       "      <td>Yes</td>\n",
       "      <td>$32,300</td>\n",
       "      <td>276.0</td>\n",
       "      <td>2.0</td>\n",
       "      <td>4</td>\n",
       "      <td>1.0</td>\n",
       "      <td>dual</td>\n",
       "    </tr>\n",
       "    <tr>\n",
       "      <th>44</th>\n",
       "      <td>Lucid</td>\n",
       "      <td>Air Grand Touring</td>\n",
       "      <td>2022</td>\n",
       "      <td>3,552 mi.</td>\n",
       "      <td>NaN</td>\n",
       "      <td>536.0HP Electric Motor Electric Fuel System</td>\n",
       "      <td>1 Speed Automatic</td>\n",
       "      <td>Red</td>\n",
       "      <td>Beige</td>\n",
       "      <td>0</td>\n",
       "      <td>Yes</td>\n",
       "      <td>$119,999</td>\n",
       "      <td>536.0</td>\n",
       "      <td>NaN</td>\n",
       "      <td>NaN</td>\n",
       "      <td>1.0</td>\n",
       "      <td>automatic</td>\n",
       "    </tr>\n",
       "    <tr>\n",
       "      <th>50</th>\n",
       "      <td>Mercedes Benz</td>\n",
       "      <td>AMG C 63 S</td>\n",
       "      <td>2017</td>\n",
       "      <td>60,000 mi.</td>\n",
       "      <td>Gasoline</td>\n",
       "      <td>503.0HP 4.0L 8 Cylinder Engine Gasoline Fuel</td>\n",
       "      <td>Transmission  With Dual Shift Mode</td>\n",
       "      <td>Gray</td>\n",
       "      <td>Black</td>\n",
       "      <td>1</td>\n",
       "      <td>Yes</td>\n",
       "      <td>$52,500</td>\n",
       "      <td>503.0</td>\n",
       "      <td>4.0</td>\n",
       "      <td>8</td>\n",
       "      <td>1.0</td>\n",
       "      <td>dual</td>\n",
       "    </tr>\n",
       "    <tr>\n",
       "      <th>54</th>\n",
       "      <td>Mercedes Benz</td>\n",
       "      <td>CLA Class CLA 250</td>\n",
       "      <td>2016</td>\n",
       "      <td>120,000 mi.</td>\n",
       "      <td>Gasoline</td>\n",
       "      <td>208.0HP 2.0L 4 Cylinder Engine Gasoline Fuel</td>\n",
       "      <td>Transmission  With Dual Shift Mode</td>\n",
       "      <td>Black</td>\n",
       "      <td>Black</td>\n",
       "      <td>0</td>\n",
       "      <td>Yes</td>\n",
       "      <td>$19,800</td>\n",
       "      <td>208.0</td>\n",
       "      <td>2.0</td>\n",
       "      <td>4</td>\n",
       "      <td>1.0</td>\n",
       "      <td>dual</td>\n",
       "    </tr>\n",
       "    <tr>\n",
       "      <th>...</th>\n",
       "      <td>...</td>\n",
       "      <td>...</td>\n",
       "      <td>...</td>\n",
       "      <td>...</td>\n",
       "      <td>...</td>\n",
       "      <td>...</td>\n",
       "      <td>...</td>\n",
       "      <td>...</td>\n",
       "      <td>...</td>\n",
       "      <td>...</td>\n",
       "      <td>...</td>\n",
       "      <td>...</td>\n",
       "      <td>...</td>\n",
       "      <td>...</td>\n",
       "      <td>...</td>\n",
       "      <td>...</td>\n",
       "      <td>...</td>\n",
       "    </tr>\n",
       "    <tr>\n",
       "      <th>3961</th>\n",
       "      <td>Tesla</td>\n",
       "      <td>Model 3 Long Range</td>\n",
       "      <td>2021</td>\n",
       "      <td>23,749 mi.</td>\n",
       "      <td>NaN</td>\n",
       "      <td>Electric</td>\n",
       "      <td>1 Speed Automatic</td>\n",
       "      <td>White</td>\n",
       "      <td>Black</td>\n",
       "      <td>0</td>\n",
       "      <td>No</td>\n",
       "      <td>$35,999</td>\n",
       "      <td>NaN</td>\n",
       "      <td>NaN</td>\n",
       "      <td>NaN</td>\n",
       "      <td>1.0</td>\n",
       "      <td>automatic</td>\n",
       "    </tr>\n",
       "    <tr>\n",
       "      <th>3987</th>\n",
       "      <td>BMW</td>\n",
       "      <td>X3 xDrive28i</td>\n",
       "      <td>2015</td>\n",
       "      <td>92,984 mi.</td>\n",
       "      <td>Gasoline</td>\n",
       "      <td>240.0HP 2.0L 4 Cylinder Engine Gasoline Fuel</td>\n",
       "      <td>Transmission  With Dual Shift Mode</td>\n",
       "      <td>White</td>\n",
       "      <td>Beige</td>\n",
       "      <td>1</td>\n",
       "      <td>Yes</td>\n",
       "      <td>$17,000</td>\n",
       "      <td>240.0</td>\n",
       "      <td>2.0</td>\n",
       "      <td>4</td>\n",
       "      <td>1.0</td>\n",
       "      <td>dual</td>\n",
       "    </tr>\n",
       "    <tr>\n",
       "      <th>3994</th>\n",
       "      <td>BMW</td>\n",
       "      <td>M8 Gran Coupe Competition</td>\n",
       "      <td>2022</td>\n",
       "      <td>21,057 mi.</td>\n",
       "      <td>Gasoline</td>\n",
       "      <td>617.0HP 4.4L 8 Cylinder Engine Gasoline Fuel</td>\n",
       "      <td>Transmission  With Dual Shift Mode</td>\n",
       "      <td>Gray</td>\n",
       "      <td>Black</td>\n",
       "      <td>0</td>\n",
       "      <td>Yes</td>\n",
       "      <td>$99,800</td>\n",
       "      <td>617.0</td>\n",
       "      <td>4.4</td>\n",
       "      <td>8</td>\n",
       "      <td>1.0</td>\n",
       "      <td>dual</td>\n",
       "    </tr>\n",
       "    <tr>\n",
       "      <th>4001</th>\n",
       "      <td>Volkswagen</td>\n",
       "      <td>Routan SE</td>\n",
       "      <td>2011</td>\n",
       "      <td>194,000 mi.</td>\n",
       "      <td>Gasoline</td>\n",
       "      <td>283.0HP 3.6L V6 Cylinder Engine Gasoline Fuel</td>\n",
       "      <td>Transmission  With Dual Shift Mode</td>\n",
       "      <td>Black</td>\n",
       "      <td>Gray</td>\n",
       "      <td>1</td>\n",
       "      <td>Yes</td>\n",
       "      <td>$3,500</td>\n",
       "      <td>283.0</td>\n",
       "      <td>3.6</td>\n",
       "      <td>6</td>\n",
       "      <td>1.0</td>\n",
       "      <td>dual</td>\n",
       "    </tr>\n",
       "    <tr>\n",
       "      <th>4005</th>\n",
       "      <td>Audi</td>\n",
       "      <td>S4 3.0T Premium Plus</td>\n",
       "      <td>2022</td>\n",
       "      <td>10,900 mi.</td>\n",
       "      <td>Gasoline</td>\n",
       "      <td>349.0HP 3.0L V6 Cylinder Engine Gasoline Fuel</td>\n",
       "      <td>Transmission  With Dual Shift Mode</td>\n",
       "      <td>Black</td>\n",
       "      <td>Black</td>\n",
       "      <td>0</td>\n",
       "      <td>Yes</td>\n",
       "      <td>$53,900</td>\n",
       "      <td>349.0</td>\n",
       "      <td>3.0</td>\n",
       "      <td>6</td>\n",
       "      <td>1.0</td>\n",
       "      <td>dual</td>\n",
       "    </tr>\n",
       "  </tbody>\n",
       "</table>\n",
       "<p>477 rows × 17 columns</p>\n",
       "</div>"
      ],
      "text/plain": [
       "              brand                      model  model_year       milage  \\\n",
       "13          Lincoln        Aviator Reserve AWD        2022   18,196 mi.   \n",
       "25          Hyundai             Elantra N Base        2022   11,650 mi.   \n",
       "44            Lucid          Air Grand Touring        2022    3,552 mi.   \n",
       "50    Mercedes Benz                 AMG C 63 S        2017   60,000 mi.   \n",
       "54    Mercedes Benz          CLA Class CLA 250        2016  120,000 mi.   \n",
       "...             ...                        ...         ...          ...   \n",
       "3961          Tesla         Model 3 Long Range        2021   23,749 mi.   \n",
       "3987            BMW               X3 xDrive28i        2015   92,984 mi.   \n",
       "3994            BMW  M8 Gran Coupe Competition        2022   21,057 mi.   \n",
       "4001     Volkswagen                  Routan SE        2011  194,000 mi.   \n",
       "4005           Audi       S4 3.0T Premium Plus        2022   10,900 mi.   \n",
       "\n",
       "     fuel_type                                         engine  \\\n",
       "13    Gasoline  400.0HP 3.0L V6 Cylinder Engine Gasoline Fuel   \n",
       "25    Gasoline   276.0HP 2.0L 4 Cylinder Engine Gasoline Fuel   \n",
       "44         NaN    536.0HP Electric Motor Electric Fuel System   \n",
       "50    Gasoline   503.0HP 4.0L 8 Cylinder Engine Gasoline Fuel   \n",
       "54    Gasoline   208.0HP 2.0L 4 Cylinder Engine Gasoline Fuel   \n",
       "...        ...                                            ...   \n",
       "3961       NaN                                       Electric   \n",
       "3987  Gasoline   240.0HP 2.0L 4 Cylinder Engine Gasoline Fuel   \n",
       "3994  Gasoline   617.0HP 4.4L 8 Cylinder Engine Gasoline Fuel   \n",
       "4001  Gasoline  283.0HP 3.6L V6 Cylinder Engine Gasoline Fuel   \n",
       "4005  Gasoline  349.0HP 3.0L V6 Cylinder Engine Gasoline Fuel   \n",
       "\n",
       "                            transmission ext_col int_col accident clean_title  \\\n",
       "13    Transmission  With Dual Shift Mode   Black   Brown        0         Yes   \n",
       "25    Transmission  With Dual Shift Mode   Black   Black        0         Yes   \n",
       "44                     1 Speed Automatic     Red   Beige        0         Yes   \n",
       "50    Transmission  With Dual Shift Mode    Gray   Black        1         Yes   \n",
       "54    Transmission  With Dual Shift Mode   Black   Black        0         Yes   \n",
       "...                                  ...     ...     ...      ...         ...   \n",
       "3961                   1 Speed Automatic   White   Black        0          No   \n",
       "3987  Transmission  With Dual Shift Mode   White   Beige        1         Yes   \n",
       "3994  Transmission  With Dual Shift Mode    Gray   Black        0         Yes   \n",
       "4001  Transmission  With Dual Shift Mode   Black    Gray        1         Yes   \n",
       "4005  Transmission  With Dual Shift Mode   Black   Black        0         Yes   \n",
       "\n",
       "         price  horsepower  Displacement Cylinders  Gear Transmission  \n",
       "13     $62,000       400.0           3.0         6   1.0         dual  \n",
       "25     $32,300       276.0           2.0         4   1.0         dual  \n",
       "44    $119,999       536.0           NaN       NaN   1.0    automatic  \n",
       "50     $52,500       503.0           4.0         8   1.0         dual  \n",
       "54     $19,800       208.0           2.0         4   1.0         dual  \n",
       "...        ...         ...           ...       ...   ...          ...  \n",
       "3961   $35,999         NaN           NaN       NaN   1.0    automatic  \n",
       "3987   $17,000       240.0           2.0         4   1.0         dual  \n",
       "3994   $99,800       617.0           4.4         8   1.0         dual  \n",
       "4001    $3,500       283.0           3.6         6   1.0         dual  \n",
       "4005   $53,900       349.0           3.0         6   1.0         dual  \n",
       "\n",
       "[477 rows x 17 columns]"
      ]
     },
     "execution_count": 27,
     "metadata": {},
     "output_type": "execute_result"
    }
   ],
   "source": [
    "df[df['Gear']==1]"
   ]
  },
  {
   "cell_type": "code",
   "execution_count": 28,
   "metadata": {
    "id": "2lhLOQvc_Tfo"
   },
   "outputs": [],
   "source": [
    "# df['fuel_type'].fillna('Electric',inplace=True)"
   ]
  },
  {
   "cell_type": "code",
   "execution_count": 29,
   "metadata": {
    "id": "Kk1IDGb0pEQp"
   },
   "outputs": [],
   "source": [
    "\n",
    "condition=(df['fuel_type']=='Electric') & (df['horsepower'].isnull())\n",
    "df.loc[condition, 'horsepower'] = 'Electric'\n"
   ]
  },
  {
   "cell_type": "code",
   "execution_count": 30,
   "metadata": {
    "colab": {
     "base_uri": "https://localhost:8080/"
    },
    "id": "FIXzS6Ogprpo",
    "outputId": "b7b7f5a2-e228-4eee-fb61-71bcc5d9d1c5"
   },
   "outputs": [
    {
     "data": {
      "text/plain": [
       "horsepower\n",
       "NaN      765\n",
       "300.0    107\n",
       "400.0     71\n",
       "420.0     71\n",
       "355.0     70\n",
       "        ... \n",
       "258.0      1\n",
       "78.0       1\n",
       "133.0      1\n",
       "121.0      1\n",
       "176.0      1\n",
       "Name: count, Length: 349, dtype: int64"
      ]
     },
     "execution_count": 30,
     "metadata": {},
     "output_type": "execute_result"
    }
   ],
   "source": [
    "df['horsepower'].value_counts(dropna=False)"
   ]
  },
  {
   "cell_type": "code",
   "execution_count": 31,
   "metadata": {
    "id": "0QFqA4T1Lqgp"
   },
   "outputs": [],
   "source": [
    "df_temp=df.copy()"
   ]
  },
  {
   "cell_type": "code",
   "execution_count": 32,
   "metadata": {
    "colab": {
     "base_uri": "https://localhost:8080/",
     "height": 504
    },
    "id": "qP1F8vcKLrWh",
    "outputId": "dec52970-dc48-46d9-96f1-f2999fe78086"
   },
   "outputs": [
    {
     "data": {
      "text/html": [
       "<div>\n",
       "<style scoped>\n",
       "    .dataframe tbody tr th:only-of-type {\n",
       "        vertical-align: middle;\n",
       "    }\n",
       "\n",
       "    .dataframe tbody tr th {\n",
       "        vertical-align: top;\n",
       "    }\n",
       "\n",
       "    .dataframe thead th {\n",
       "        text-align: right;\n",
       "    }\n",
       "</style>\n",
       "<table border=\"1\" class=\"dataframe\">\n",
       "  <thead>\n",
       "    <tr style=\"text-align: right;\">\n",
       "      <th></th>\n",
       "      <th>brand</th>\n",
       "      <th>model</th>\n",
       "      <th>model_year</th>\n",
       "      <th>milage</th>\n",
       "      <th>fuel_type</th>\n",
       "      <th>engine</th>\n",
       "      <th>transmission</th>\n",
       "      <th>ext_col</th>\n",
       "      <th>int_col</th>\n",
       "      <th>accident</th>\n",
       "      <th>clean_title</th>\n",
       "      <th>price</th>\n",
       "      <th>horsepower</th>\n",
       "      <th>Displacement</th>\n",
       "      <th>Cylinders</th>\n",
       "      <th>Gear</th>\n",
       "      <th>Transmission</th>\n",
       "    </tr>\n",
       "  </thead>\n",
       "  <tbody>\n",
       "    <tr>\n",
       "      <th>0</th>\n",
       "      <td>Ford</td>\n",
       "      <td>Utility Police Interceptor Base</td>\n",
       "      <td>2013</td>\n",
       "      <td>51,000 mi.</td>\n",
       "      <td>E85 Flex Fuel</td>\n",
       "      <td>300.0HP 3.7L V6 Cylinder Engine Flex Fuel Capa...</td>\n",
       "      <td>6 Speed Automatic</td>\n",
       "      <td>Black</td>\n",
       "      <td>Black</td>\n",
       "      <td>1</td>\n",
       "      <td>Yes</td>\n",
       "      <td>$10,300</td>\n",
       "      <td>300.0</td>\n",
       "      <td>3.7</td>\n",
       "      <td>6</td>\n",
       "      <td>6.0</td>\n",
       "      <td>automatic</td>\n",
       "    </tr>\n",
       "    <tr>\n",
       "      <th>1</th>\n",
       "      <td>Hyundai</td>\n",
       "      <td>Palisade SELl</td>\n",
       "      <td>2021</td>\n",
       "      <td>34,742 mi.</td>\n",
       "      <td>Gasoline</td>\n",
       "      <td>3.8L V6 24V GDI DOHC</td>\n",
       "      <td>8 Speed Automatic</td>\n",
       "      <td>Moonlight Cloud</td>\n",
       "      <td>Gray</td>\n",
       "      <td>1</td>\n",
       "      <td>Yes</td>\n",
       "      <td>$38,005</td>\n",
       "      <td>NaN</td>\n",
       "      <td>3.8</td>\n",
       "      <td>NaN</td>\n",
       "      <td>8.0</td>\n",
       "      <td>automatic</td>\n",
       "    </tr>\n",
       "    <tr>\n",
       "      <th>2</th>\n",
       "      <td>Lexus</td>\n",
       "      <td>RX 350 RX 350</td>\n",
       "      <td>2022</td>\n",
       "      <td>22,372 mi.</td>\n",
       "      <td>Gasoline</td>\n",
       "      <td>3.5 Liter DOHC</td>\n",
       "      <td>Automatic</td>\n",
       "      <td>Blue</td>\n",
       "      <td>Black</td>\n",
       "      <td>0</td>\n",
       "      <td>No</td>\n",
       "      <td>$54,598</td>\n",
       "      <td>NaN</td>\n",
       "      <td>3.5</td>\n",
       "      <td>NaN</td>\n",
       "      <td>NaN</td>\n",
       "      <td>automatic</td>\n",
       "    </tr>\n",
       "    <tr>\n",
       "      <th>3</th>\n",
       "      <td>INFINITI</td>\n",
       "      <td>Q50 Hybrid Sport</td>\n",
       "      <td>2015</td>\n",
       "      <td>88,900 mi.</td>\n",
       "      <td>Hybrid</td>\n",
       "      <td>354.0HP 3.5L V6 Cylinder Engine Gas/Electric H...</td>\n",
       "      <td>7 Speed Automatic</td>\n",
       "      <td>Black</td>\n",
       "      <td>Black</td>\n",
       "      <td>0</td>\n",
       "      <td>Yes</td>\n",
       "      <td>$15,500</td>\n",
       "      <td>354.0</td>\n",
       "      <td>3.5</td>\n",
       "      <td>6</td>\n",
       "      <td>7.0</td>\n",
       "      <td>automatic</td>\n",
       "    </tr>\n",
       "    <tr>\n",
       "      <th>4</th>\n",
       "      <td>Audi</td>\n",
       "      <td>Q3 45 S line Premium Plus</td>\n",
       "      <td>2021</td>\n",
       "      <td>9,835 mi.</td>\n",
       "      <td>Gasoline</td>\n",
       "      <td>2.0L I4 16V GDI DOHC Turbo</td>\n",
       "      <td>8 Speed Automatic</td>\n",
       "      <td>Glacier White Metallic</td>\n",
       "      <td>Black</td>\n",
       "      <td>0</td>\n",
       "      <td>No</td>\n",
       "      <td>$34,999</td>\n",
       "      <td>NaN</td>\n",
       "      <td>2.0</td>\n",
       "      <td>NaN</td>\n",
       "      <td>8.0</td>\n",
       "      <td>automatic</td>\n",
       "    </tr>\n",
       "  </tbody>\n",
       "</table>\n",
       "</div>"
      ],
      "text/plain": [
       "      brand                            model  model_year      milage  \\\n",
       "0      Ford  Utility Police Interceptor Base        2013  51,000 mi.   \n",
       "1   Hyundai                    Palisade SELl        2021  34,742 mi.   \n",
       "2     Lexus                    RX 350 RX 350        2022  22,372 mi.   \n",
       "3  INFINITI                 Q50 Hybrid Sport        2015  88,900 mi.   \n",
       "4      Audi        Q3 45 S line Premium Plus        2021   9,835 mi.   \n",
       "\n",
       "       fuel_type                                             engine  \\\n",
       "0  E85 Flex Fuel  300.0HP 3.7L V6 Cylinder Engine Flex Fuel Capa...   \n",
       "1       Gasoline                               3.8L V6 24V GDI DOHC   \n",
       "2       Gasoline                                     3.5 Liter DOHC   \n",
       "3         Hybrid  354.0HP 3.5L V6 Cylinder Engine Gas/Electric H...   \n",
       "4       Gasoline                         2.0L I4 16V GDI DOHC Turbo   \n",
       "\n",
       "        transmission                 ext_col int_col accident clean_title  \\\n",
       "0  6 Speed Automatic                   Black   Black        1         Yes   \n",
       "1  8 Speed Automatic         Moonlight Cloud    Gray        1         Yes   \n",
       "2          Automatic                    Blue   Black        0          No   \n",
       "3  7 Speed Automatic                   Black   Black        0         Yes   \n",
       "4  8 Speed Automatic  Glacier White Metallic   Black        0          No   \n",
       "\n",
       "     price horsepower  Displacement Cylinders  Gear Transmission  \n",
       "0  $10,300      300.0           3.7         6   6.0    automatic  \n",
       "1  $38,005        NaN           3.8       NaN   8.0    automatic  \n",
       "2  $54,598        NaN           3.5       NaN   NaN    automatic  \n",
       "3  $15,500      354.0           3.5         6   7.0    automatic  \n",
       "4  $34,999        NaN           2.0       NaN   8.0    automatic  "
      ]
     },
     "execution_count": 32,
     "metadata": {},
     "output_type": "execute_result"
    }
   ],
   "source": [
    "df_temp.head()"
   ]
  },
  {
   "cell_type": "code",
   "execution_count": 33,
   "metadata": {
    "id": "V9jv3cclLyNe"
   },
   "outputs": [],
   "source": [
    "df_temp['horsepower'].fillna(df['engine'],inplace=True)"
   ]
  },
  {
   "cell_type": "code",
   "execution_count": 34,
   "metadata": {
    "colab": {
     "base_uri": "https://localhost:8080/"
    },
    "id": "r0l2Bw6lLyJJ",
    "outputId": "05792321-bcda-43fd-9111-3d4272d0f9b2"
   },
   "outputs": [
    {
     "data": {
      "text/plain": [
       "horsepower\n",
       "300.0                          107\n",
       "400.0                           71\n",
       "420.0                           71\n",
       "355.0                           70\n",
       "240.0                           61\n",
       "                              ... \n",
       "294.0                            1\n",
       "2.0L I4 16V GDI DOHC Hybrid      1\n",
       "3.8L H6 24V MPFI DOHC            1\n",
       "Dual AC Electric Motors          1\n",
       "176.0                            1\n",
       "Name: count, Length: 563, dtype: int64"
      ]
     },
     "execution_count": 34,
     "metadata": {},
     "output_type": "execute_result"
    }
   ],
   "source": [
    "df_temp['horsepower'].value_counts(dropna=False)"
   ]
  },
  {
   "cell_type": "code",
   "execution_count": 35,
   "metadata": {
    "id": "qGdg1w4580Jp"
   },
   "outputs": [],
   "source": [
    "# After drived the information from google about the horsepower:\n",
    "df_temp['horsepower'].replace({\n",
    "\n",
    "            '3.8L V6 24V GDI DOHC':333.0,\n",
    "            '2.0L I4 16V GDI DOHC Turbo':416.0,\n",
    "            '3.5L V6 24V PDI DOHC Twin Turbo':450.0,\n",
    "            '2.0L I4 16V GDI DOHC Turbo Flexible Fuel':270.0,\n",
    "            '3.0L V6 Cylinder Engine Diesel Fuel':277.0,\n",
    "            '4.4 Liter DOHC Twin Turbo':617.0,\n",
    "            '5.3L V8 16V GDI OHV':355.0,\n",
    "            '2.4L I4 16V GDI DOHC':200.0,\n",
    "            '1.5L I3 12V GDI DOHC Turbo':181.0,\n",
    "            '5.2L V10 40V PDI DOHC':562.0,\n",
    "            '5.2L V 10 gasoline direct injection, DOHC, variable valve contro':800.0,\n",
    "            '1.6L I4 16V GDI DOHC Hybrid':138.0,\n",
    "            '5.2L V12 48V GDI DOHC Twin Turbo':690.0,\n",
    "            '5.7L V8 16V MPFI OHV':395.0,\n",
    "            '6.2L V8 16V GDI OHV Supercharged':650.0,\n",
    "            '5.0L V8 32V PDI DOHC':360.0,\n",
    "            '3.0L V6 24V GDI DOHC Twin Turbo':500.0,\n",
    "            '3.6L V6 24V MPFI DOHC': 350.0,\n",
    "            '5.3L V8 16V MPFI OHV Flexible Fuel':400.0,\n",
    "            '2.5L H4 16V GDI DOHC':300.0,\n",
    "            '2.0L I4 16V GDI SOHC Turbo':300.0,\n",
    "            '4.0L V6 24V MPFI DOHC':300.0,\n",
    "            '1.5L I4 16V GDI DOHC Turbo':200.0,\n",
    "            '4.0L V8 32V GDI DOHC Twin Turbo':600.0,\n",
    "            '1.3L I3 12V GDI DOHC Turbo': 200.0,\n",
    "            '3.8L H6 24V GDI DOHC Twin Turbo':450.0,\n",
    "            '2.3L I4 16V GDI DOHC Turbo':350.0,\n",
    "            '3.6L V6 24V GDI DOHC':350.0,\n",
    "            '2.5L I4 16V GDI DOHC Turbo':300.0,\n",
    "            '5.6L V8 32V GDI DOHC':350.0,\n",
    "            '5.8L V8 32V MPFI DOHC Supercharged':700.0,\n",
    "            '6.4L V8 16V MPFI OHV':500.0,\n",
    "            '8.0L W16 64V GDI DOHC Twin Turbo':1400.0,\n",
    "            '3.5L V6 24V PDI DOHC':350.0,\n",
    "            '2.0L I4 16V MPFI DOHC':300.0,\n",
    "            '2.9L V6 24V GDI DOHC Twin Turbo':500.0,\n",
    "            '1.2L I3 12V GDI DOHC Turbo':150.0,\n",
    "            '2.0 Liter DOHC Turbo':300.0,\n",
    "            '2.5L I4 16V PDI DOHC Hybrid':250.0,\n",
    "            '3.0L H6 24V GDI DOHC Twin Turbo':500.0,\n",
    "            '6.8L V12 48V GDI DOHC':700.0,\n",
    "            '2.5L I4 16V PDI DOHC':300.0,\n",
    "            'AMG 3L I 6 gasoline direct injection, DOHC, variable valve contr':450.0,\n",
    "            '1.6L I 4 gasoline direct injection, DOHC, variable valve control':200.0,\n",
    "            '3.0L V6 24V GDI DOHC Turbo':400.0,\n",
    "            '5.2L V10 40V GDI DOHC':600.0,\n",
    "            '3.0L I6 24V DDI DOHC Turbo Diesel':300.0,\n",
    "            '2.5L I4 16V GDI DOHC':300.0,\n",
    "            '3.0L V6 24V GDI DOHC Supercharged':500.0,\n",
    "            '6.2L V8 16V MPFI SOHC Flexible Fuel':500.0,\n",
    "            'HEMI 5.7L V 8 variable valve control, regular unleaded, engine w':400.0,\n",
    "            '3.6 Liter SIDI DOHC':350.0,\n",
    "            '3.0 Liter DOHC Twin Turbo':500.0,\n",
    "            '4.4L V8 32V GDI DOHC Twin Turbo':400.0,\n",
    "            '1.5L I3 12V PDI DOHC Turbo':200.0,\n",
    "            '6.6L V 12 gasoline direct injection, DOHC, variable valve contro':700.0,\n",
    "            '6.7L V12 48V GDI DOHC Twin Turbo':800.0,\n",
    "            '2.0L I4 16V GDI DOHC Turbo Hybrid':300.0,\n",
    "            '3.0L I6 24V GDI DOHC Turbo':400.0,\n",
    "            '5.7L V8 32V MPFI DOHC':350.0,\n",
    "            '3.5L 24V SOHC I VTEC V6':350.0,\n",
    "            '5L V 8 gasoline direct injection, DOHC, variable valve control,':500.0,\n",
    "            '3.2L H6 24V MPFI DOHC': 300.0,\n",
    "            '6.7L I6 24V DDI OHV Turbo Diesel':500.0,\n",
    "            'HEMI 6.2L V 8 intercooled supercharger, premium unleaded, engine':800.0,\n",
    "            '2.4L I4 16V MPFI SOHC':250.0,\n",
    "            '3.5L V6 24V GDI SOHC':350.0,\n",
    "            '6.0L W12 48V PDI DOHC Twin Turbo':650.0,\n",
    "            '2L I 4 DOHC, D CVVT variable valve control, engine with 147HP':147.0,\n",
    "            '3.4L V6 24V PDI DOHC Twin Turbo':500.0,\n",
    "            '3.5L V6 24V PDI DOHC Hybrid':400.0,\n",
    "            '4.4 Liter GDI DOHC Twin Turbo':600.0,\n",
    "            '3.3L V6 24V GDI DOHC':350.0,\n",
    "            '2.9L V 6 gasoline direct injection, DOHC, variable valve control':400.0,\n",
    "            '3L I 6 gasoline direct injection, DOHC, Double VANOS variable va':400.0,\n",
    "            '2.0L I4 16V GDI DOHC':300.0,\n",
    "            '3.5L V6 24V GDI DOHC Twin Turbo':500.0,\n",
    "            '2.5L I4 16V PDI DOHC Turbo':250.0,\n",
    "            '3.6L V6 24V MPFI DOHC Hybrid':400.0,\n",
    "            '2.4L I4 16V MPFI DOHC':250.0,\n",
    "            '1.6L I4 16V GDI DOHC Turbo':200.0,\n",
    "            '3.0L I6 24V GDI DOHC Twin Turbo':450.0,\n",
    "            '6.7L V8 32V DDI OHV Turbo Diesel':500.0,\n",
    "            '3.6L V6 24V MPFI DOHC Flexible Fuel':350.0,\n",
    "            '3.4L V6 24V PDI DOHC Twin Turbo Hybrid':500.0,\n",
    "            '2.5L I 4 DOHC, variable valve control, regular unleaded, engine':250.0,\n",
    "            '6.0L 8 Cylinder Engine Gasoline Fuel':500.0,\n",
    "            '6.0L V8 16V MPFI OHV':500.0,\n",
    "            '2L I 4 gasoline direct injection, DOHC, variable valve control,':250.0,\n",
    "            '2.0L I4 16V MPFI DOHC Hybrid':300.0,\n",
    "            '2.4L I4 16V PDI DOHC Turbo':300.0,\n",
    "            '6.2L V8 16V GDI OHV':700.0,\n",
    "            '6.4L V8 32V DDI OHV Twin Turbo Diesel':600.0,\n",
    "            '4.0L H6 24V GDI DOHC':500.0,\n",
    "            '3.4L H6 24V MPFI DOHC':400.0,\n",
    "            '6.6L V8 16V GDI OHV':600.0,\n",
    "            '2.0L I4 16V GDI DOHC Hybrid':300.0,\n",
    "            '3.8L H6 24V MPFI DOHC':500.0,\n",
    "            '5.0L V8 32V GDI DOHC Supercharged':700.0,\n",
    "            '3.5L V 6 port/direct injection, DOHC, VVT iE/VVT i variable valv':300.0,\n",
    "            'Intercooled Turbo Premium Unleaded I 4 2.0 L/122':250.0,\n",
    "            '6.5L V12 48V MPFI DOHC':800.0,\n",
    "            '3.9L V8 32V GDI DOHC Twin Turbo':750.0,\n",
    "            '3.0L V6 24V PDI DOHC Twin Turbo':500.0,\n",
    "            '2.7L V6 24V GDI DOHC Twin Turbo': 500.0,\n",
    "            '3.2L V6 18V MPFI SOHC':300.0,\n",
    "            '2.5L I4 16V MPFI DOHC':250.0,\n",
    "            '2.7L V6 24V PDI DOHC Twin Turbo':500.0,\n",
    "            '6.8L V12 48V GDI DOHC Twin Turbo':800.0,\n",
    "            '2L I 4 gasoline direct injection, MultiAir2 variable valve contr':300.0,\n",
    "            '6.3L V12 48V GDI DOHC': 800.0,\n",
    "            '6.6L V8 32V DDI OHV Turbo Diesel':500.0,\n",
    "            '4.6L V8 32V MPFI DOHC':400.0,\n",
    "            '4.2L V8 32V GDI DOHC':500.0,\n",
    "            '4.2L V8 32V GDI DOHC Twin Turbo':700.0,\n",
    "            '4.7L 8 Cylinder Engine Gasoline Fuel':400.0,\n",
    "            '3.5L V 6 port/direct injection, DOHC, VVT iE variable valve cont':400.0,\n",
    "            '6.5L V 12 DOHC, variable valve control, premium unleaded, engine':800.0,\n",
    "            '2L H 4 gasoline direct injection, DOHC, variable valve control,':300.0,\n",
    "            '4L V 8 gasoline direct injection, DOHC, variable valve control,':500.0,\n",
    "            '2.0 Liter DOHC T/C':250.0,\n",
    "            '3.5L V6 24V MPFI DOHC':400.0,\n",
    "            'LAMBDA II 3.8L V 6 gasoline direct injection, DOHC, D CVVT varia':350.0,\n",
    "            '2.0L I4 16V GDI DOHC Flexible Fuel':250.0,\n",
    "            '2L H 4 DOHC, variable valve control, regular unleaded, engine wi':250.0,\n",
    "            'Electric': '-',\n",
    "            '1.6L I4 16V GDI DOHC Turbo Hybrid':250.0,\n",
    "            '2.7L I4 16V GDI DOHC Turbo':350.0,\n",
    "            '3.5L V6 24V PDI DOHC Twin Turbo Hybrid':500.0,\n",
    "            '2.5L I4 16V MPFI DOHC Hybrid':250.0,\n",
    "            '3.8L V8 32V GDI DOHC Twin Turbo':600.0,\n",
    "            '2L I 4 gasoline direct injection, DOHC, intercooled turbo, engin':350.0,\n",
    "            '6.0L V8 16V MPFI OHV Flexible Fuel':450.0,\n",
    "            '3.8L V8 32V MPFI DOHC Twin Turbo':600.0,\n",
    "            '3.6L V6 GDI DOHC': 350.0,\n",
    "            '3.8L V6 24V MPFI DOHC Twin Turbo':500.0,\n",
    "            '4L V 6 DOHC, VVT i variable valve control, engine with 270HP':270.0,\n",
    "            '6L W 12 port/direct injection, DOHC, variable valve control, twi':800.0,\n",
    "            '3.5L V6 24V GDI DOHC':400.0,\n",
    "            '2.0L I4 16V PDI DOHC Turbo':350.0,\n",
    "            '4L V 6 DOHC, VVT i variable valve control, regular unleaded, eng':400.0,\n",
    "            '2.5L 4 Cylinder Engine Gasoline Fuel':250.0,\n",
    "            '1.3L I3 12V MPFI DOHC Turbo':200.0,\n",
    "            '6.2L V8 32V MPFI DOHC':700.0,\n",
    "            '3.8L V6 12V MPFI OHV':300.0,\n",
    "            '4L H 6 gasoline direct injection, DOHC, VarioCam Plus variable v':450.0,\n",
    "            '3.2L V6 24V MPFI DOHC':300.0,\n",
    "            '2.5L H4 16V MPFI DOHC':250.0,\n",
    "            '2.4L H4 16V GDI DOHC Turbo':350.0,\n",
    "            'Intercooled Turbo Diesel V 8 6.7 L/406':600.0,\n",
    "            '1.6L I4 16V GDI DOHC':200.0,\n",
    "            '2.7 Liter DOHC Turbo':350.0,\n",
    "            '3.3L V 6 gasoline direct injection, DOHC, D CVVT variable valve':400.0,\n",
    "            '1.6L I4 16V MPFI DOHC':200.0,\n",
    "            '1.4L I4 16V GDI DOHC Turbo':200.0,\n",
    "            '4.0L V8 32V MPFI DOHC Twin Turbo':600.0\n",
    "\n",
    "\n",
    "\n",
    "\n",
    "},inplace=True)"
   ]
  },
  {
   "cell_type": "code",
   "execution_count": 36,
   "metadata": {
    "colab": {
     "base_uri": "https://localhost:8080/"
    },
    "id": "7U9el2XUdc44",
    "outputId": "ab0dd92d-f8ce-4809-844a-8f4fee19e55d"
   },
   "outputs": [
    {
     "data": {
      "text/plain": [
       "horsepower\n",
       "300.0                   179\n",
       "350.0                   142\n",
       "400.0                   108\n",
       "355.0                    89\n",
       "500.0                    75\n",
       "                       ... \n",
       "294.0                     1\n",
       "6.6 Liter Twin Turbo      1\n",
       "620.0                     1\n",
       "691.0                     1\n",
       "176.0                     1\n",
       "Name: count, Length: 413, dtype: int64"
      ]
     },
     "execution_count": 36,
     "metadata": {},
     "output_type": "execute_result"
    }
   ],
   "source": [
    "df_temp['horsepower'].value_counts(dropna=False)"
   ]
  },
  {
   "cell_type": "code",
   "execution_count": 37,
   "metadata": {
    "id": "KxsYJTXkK5if"
   },
   "outputs": [],
   "source": [
    "# df_temp['horsepower'] = pd.to_numeric(df['horsepower'], errors='coerce')"
   ]
  },
  {
   "cell_type": "code",
   "execution_count": 38,
   "metadata": {
    "colab": {
     "base_uri": "https://localhost:8080/"
    },
    "id": "c8q_LiwvK5es",
    "outputId": "436ba637-b726-42b7-9352-4cda1fc169f4"
   },
   "outputs": [
    {
     "data": {
      "text/plain": [
       "0                300.0\n",
       "1                333.0\n",
       "2       3.5 Liter DOHC\n",
       "3                354.0\n",
       "4                416.0\n",
       "             ...      \n",
       "4004             650.0\n",
       "4005             349.0\n",
       "4006                 -\n",
       "4007             450.0\n",
       "4008             248.0\n",
       "Name: horsepower, Length: 3964, dtype: object"
      ]
     },
     "execution_count": 38,
     "metadata": {},
     "output_type": "execute_result"
    }
   ],
   "source": [
    "df_temp['horsepower']"
   ]
  },
  {
   "cell_type": "code",
   "execution_count": 39,
   "metadata": {
    "id": "kDQv95aoK5aW"
   },
   "outputs": [],
   "source": [
    "df=df_temp"
   ]
  },
  {
   "cell_type": "code",
   "execution_count": 40,
   "metadata": {
    "colab": {
     "base_uri": "https://localhost:8080/"
    },
    "id": "ZHGNaAHaK5We",
    "outputId": "e34cc721-f3cd-4d02-9584-558b0f9d8c2b"
   },
   "outputs": [
    {
     "data": {
      "text/plain": [
       "horsepower\n",
       "300.0                   179\n",
       "350.0                   142\n",
       "400.0                   108\n",
       "355.0                    89\n",
       "500.0                    75\n",
       "                       ... \n",
       "294.0                     1\n",
       "6.6 Liter Twin Turbo      1\n",
       "620.0                     1\n",
       "691.0                     1\n",
       "176.0                     1\n",
       "Name: count, Length: 413, dtype: int64"
      ]
     },
     "execution_count": 40,
     "metadata": {},
     "output_type": "execute_result"
    }
   ],
   "source": [
    "df['horsepower'].value_counts(dropna=False)"
   ]
  },
  {
   "cell_type": "code",
   "execution_count": 41,
   "metadata": {
    "colab": {
     "base_uri": "https://localhost:8080/"
    },
    "id": "gjKGODgpK5Op",
    "outputId": "a04c8758-4bb4-4f1a-d7f6-fa1edfbb7525"
   },
   "outputs": [
    {
     "data": {
      "text/plain": [
       "Index(['brand', 'model', 'model_year', 'milage', 'fuel_type', 'engine',\n",
       "       'transmission', 'ext_col', 'int_col', 'accident', 'clean_title',\n",
       "       'price', 'horsepower', 'Displacement', 'Cylinders', 'Gear',\n",
       "       'Transmission'],\n",
       "      dtype='object')"
      ]
     },
     "execution_count": 41,
     "metadata": {},
     "output_type": "execute_result"
    }
   ],
   "source": [
    "df.columns"
   ]
  },
  {
   "cell_type": "code",
   "execution_count": 42,
   "metadata": {
    "colab": {
     "base_uri": "https://localhost:8080/"
    },
    "id": "fUwweLVcK4qF",
    "outputId": "2b1020eb-9106-48f7-e635-26a11a3d22b9"
   },
   "outputs": [
    {
     "data": {
      "text/plain": [
       "0       51000\n",
       "1       34742\n",
       "2       22372\n",
       "3       88900\n",
       "4        9835\n",
       "        ...  \n",
       "4004      714\n",
       "4005    10900\n",
       "4006     2116\n",
       "4007    33000\n",
       "4008    43000\n",
       "Name: d_in_km, Length: 3964, dtype: object"
      ]
     },
     "execution_count": 42,
     "metadata": {},
     "output_type": "execute_result"
    }
   ],
   "source": [
    "# removing mi. and , from each element:\n",
    "df['d_in_km']=df['milage']\n",
    "df['d_in_km'] = df['d_in_km'].str.replace(' mi.', '')\n",
    "df['d_in_km'] = df['d_in_km'].str.replace(',', '')\n",
    "df['d_in_km']"
   ]
  },
  {
   "cell_type": "code",
   "execution_count": 43,
   "metadata": {
    "id": "mySeCcKjXp7V"
   },
   "outputs": [],
   "source": [
    "# converting it to nm type:\n",
    "df['d_in_km'] = pd.to_numeric(df['d_in_km'], errors='coerce')"
   ]
  },
  {
   "cell_type": "code",
   "execution_count": 44,
   "metadata": {
    "colab": {
     "base_uri": "https://localhost:8080/"
    },
    "id": "ieVxdrmnXp3d",
    "outputId": "72f72fdb-6c32-4a3d-cedd-598a833fa99c"
   },
   "outputs": [
    {
     "data": {
      "text/plain": [
       "0        81600.0\n",
       "1        55587.2\n",
       "2        35795.2\n",
       "3       142240.0\n",
       "4        15736.0\n",
       "          ...   \n",
       "4004      1142.4\n",
       "4005     17440.0\n",
       "4006      3385.6\n",
       "4007     52800.0\n",
       "4008     68800.0\n",
       "Name: d_in_km, Length: 3964, dtype: float64"
      ]
     },
     "execution_count": 44,
     "metadata": {},
     "output_type": "execute_result"
    }
   ],
   "source": [
    "# miles to km :\n",
    "df['d_in_km']=df['d_in_km']*1.6\n",
    "df['d_in_km']"
   ]
  },
  {
   "cell_type": "code",
   "execution_count": 45,
   "metadata": {
    "colab": {
     "base_uri": "https://localhost:8080/"
    },
    "id": "QKZmRZP9XpzO",
    "outputId": "3a1131a4-0c91-41e3-b243-5706cefa4e84"
   },
   "outputs": [
    {
     "data": {
      "text/plain": [
       "fuel_type\n",
       "Gasoline          3309\n",
       "Hybrid             194\n",
       "E85 Flex Fuel      139\n",
       "Diesel             116\n",
       "Plug In Hybrid      34\n",
       "not supported        2\n",
       "Name: count, dtype: int64"
      ]
     },
     "execution_count": 45,
     "metadata": {},
     "output_type": "execute_result"
    }
   ],
   "source": [
    "df['fuel_type'].value_counts()"
   ]
  },
  {
   "cell_type": "code",
   "execution_count": 46,
   "metadata": {
    "colab": {
     "base_uri": "https://localhost:8080/",
     "height": 271
    },
    "id": "oi1fLk8DXpvh",
    "outputId": "d2a4e430-0140-4623-a243-22ed8abeea84"
   },
   "outputs": [
    {
     "data": {
      "text/html": [
       "<div>\n",
       "<style scoped>\n",
       "    .dataframe tbody tr th:only-of-type {\n",
       "        vertical-align: middle;\n",
       "    }\n",
       "\n",
       "    .dataframe tbody tr th {\n",
       "        vertical-align: top;\n",
       "    }\n",
       "\n",
       "    .dataframe thead th {\n",
       "        text-align: right;\n",
       "    }\n",
       "</style>\n",
       "<table border=\"1\" class=\"dataframe\">\n",
       "  <thead>\n",
       "    <tr style=\"text-align: right;\">\n",
       "      <th></th>\n",
       "      <th>brand</th>\n",
       "      <th>model</th>\n",
       "      <th>model_year</th>\n",
       "      <th>milage</th>\n",
       "      <th>fuel_type</th>\n",
       "      <th>engine</th>\n",
       "      <th>transmission</th>\n",
       "      <th>ext_col</th>\n",
       "      <th>int_col</th>\n",
       "      <th>accident</th>\n",
       "      <th>clean_title</th>\n",
       "      <th>price</th>\n",
       "      <th>horsepower</th>\n",
       "      <th>Displacement</th>\n",
       "      <th>Cylinders</th>\n",
       "      <th>Gear</th>\n",
       "      <th>Transmission</th>\n",
       "      <th>d_in_km</th>\n",
       "    </tr>\n",
       "  </thead>\n",
       "  <tbody>\n",
       "    <tr>\n",
       "      <th>2894</th>\n",
       "      <td>Toyota</td>\n",
       "      <td>Mirai Limited</td>\n",
       "      <td>2021</td>\n",
       "      <td>44,000 mi.</td>\n",
       "      <td>not supported</td>\n",
       "      <td>182.0HP Electric Motor Hydrogen Fuel</td>\n",
       "      <td>Automatic</td>\n",
       "      <td>Gray</td>\n",
       "      <td>Black</td>\n",
       "      <td>0</td>\n",
       "      <td>Yes</td>\n",
       "      <td>$18,500</td>\n",
       "      <td>182.0</td>\n",
       "      <td>NaN</td>\n",
       "      <td>NaN</td>\n",
       "      <td>NaN</td>\n",
       "      <td>automatic</td>\n",
       "      <td>70400.0</td>\n",
       "    </tr>\n",
       "    <tr>\n",
       "      <th>3700</th>\n",
       "      <td>Toyota</td>\n",
       "      <td>Mirai Base</td>\n",
       "      <td>2016</td>\n",
       "      <td>40,000 mi.</td>\n",
       "      <td>not supported</td>\n",
       "      <td>151.0HP Electric Motor Hydrogen Fuel</td>\n",
       "      <td>Automatic</td>\n",
       "      <td>Silver</td>\n",
       "      <td>Black</td>\n",
       "      <td>0</td>\n",
       "      <td>Yes</td>\n",
       "      <td>$9,500</td>\n",
       "      <td>151.0</td>\n",
       "      <td>NaN</td>\n",
       "      <td>NaN</td>\n",
       "      <td>NaN</td>\n",
       "      <td>automatic</td>\n",
       "      <td>64000.0</td>\n",
       "    </tr>\n",
       "  </tbody>\n",
       "</table>\n",
       "</div>"
      ],
      "text/plain": [
       "       brand          model  model_year      milage      fuel_type  \\\n",
       "2894  Toyota  Mirai Limited        2021  44,000 mi.  not supported   \n",
       "3700  Toyota     Mirai Base        2016  40,000 mi.  not supported   \n",
       "\n",
       "                                    engine transmission ext_col int_col  \\\n",
       "2894  182.0HP Electric Motor Hydrogen Fuel    Automatic    Gray   Black   \n",
       "3700  151.0HP Electric Motor Hydrogen Fuel    Automatic  Silver   Black   \n",
       "\n",
       "     accident clean_title    price horsepower  Displacement Cylinders  Gear  \\\n",
       "2894        0         Yes  $18,500      182.0           NaN       NaN   NaN   \n",
       "3700        0         Yes   $9,500      151.0           NaN       NaN   NaN   \n",
       "\n",
       "     Transmission  d_in_km  \n",
       "2894    automatic  70400.0  \n",
       "3700    automatic  64000.0  "
      ]
     },
     "execution_count": 46,
     "metadata": {},
     "output_type": "execute_result"
    }
   ],
   "source": [
    "df[df['fuel_type']=='not supported']"
   ]
  },
  {
   "cell_type": "code",
   "execution_count": 47,
   "metadata": {
    "id": "P9QKn43Taafj"
   },
   "outputs": [],
   "source": [
    "df['fuel_type'].replace({\n",
    "    'not supported':'Hydrogen Fuel'\n",
    "\n",
    "\n",
    "},inplace=True)"
   ]
  },
  {
   "cell_type": "code",
   "execution_count": 48,
   "metadata": {
    "colab": {
     "base_uri": "https://localhost:8080/"
    },
    "id": "DCAeTO_TaaXP",
    "outputId": "c974af1a-fada-461c-8787-27084a9efd8b"
   },
   "outputs": [
    {
     "data": {
      "text/plain": [
       "fuel_type\n",
       "Gasoline          3309\n",
       "Hybrid             194\n",
       "NaN                170\n",
       "E85 Flex Fuel      139\n",
       "Diesel             116\n",
       "Plug In Hybrid      34\n",
       "Hydrogen Fuel        2\n",
       "Name: count, dtype: int64"
      ]
     },
     "execution_count": 48,
     "metadata": {},
     "output_type": "execute_result"
    }
   ],
   "source": [
    "df['fuel_type'].value_counts(dropna=False)"
   ]
  },
  {
   "cell_type": "code",
   "execution_count": 49,
   "metadata": {
    "colab": {
     "base_uri": "https://localhost:8080/",
     "height": 1000
    },
    "id": "C_WI0qoGaaTH",
    "outputId": "120d0e51-3e18-4538-b071-f44bd53056d3"
   },
   "outputs": [
    {
     "data": {
      "text/html": [
       "<div>\n",
       "<style scoped>\n",
       "    .dataframe tbody tr th:only-of-type {\n",
       "        vertical-align: middle;\n",
       "    }\n",
       "\n",
       "    .dataframe tbody tr th {\n",
       "        vertical-align: top;\n",
       "    }\n",
       "\n",
       "    .dataframe thead th {\n",
       "        text-align: right;\n",
       "    }\n",
       "</style>\n",
       "<table border=\"1\" class=\"dataframe\">\n",
       "  <thead>\n",
       "    <tr style=\"text-align: right;\">\n",
       "      <th></th>\n",
       "      <th>brand</th>\n",
       "      <th>model</th>\n",
       "      <th>model_year</th>\n",
       "      <th>milage</th>\n",
       "      <th>fuel_type</th>\n",
       "      <th>engine</th>\n",
       "      <th>transmission</th>\n",
       "      <th>ext_col</th>\n",
       "      <th>int_col</th>\n",
       "      <th>accident</th>\n",
       "      <th>clean_title</th>\n",
       "      <th>price</th>\n",
       "      <th>horsepower</th>\n",
       "      <th>Displacement</th>\n",
       "      <th>Cylinders</th>\n",
       "      <th>Gear</th>\n",
       "      <th>Transmission</th>\n",
       "      <th>d_in_km</th>\n",
       "    </tr>\n",
       "  </thead>\n",
       "  <tbody>\n",
       "    <tr>\n",
       "      <th>18</th>\n",
       "      <td>Nissan</td>\n",
       "      <td>350Z Enthusiast</td>\n",
       "      <td>2003</td>\n",
       "      <td>74,000 mi.</td>\n",
       "      <td>Gasoline</td>\n",
       "      <td>287.0HP 3.5L V6 Cylinder Engine Gasoline Fuel</td>\n",
       "      <td>6 Speed  Mannual</td>\n",
       "      <td>Purple</td>\n",
       "      <td></td>\n",
       "      <td>0</td>\n",
       "      <td>Yes</td>\n",
       "      <td>$11,000</td>\n",
       "      <td>287.0</td>\n",
       "      <td>3.5</td>\n",
       "      <td>6</td>\n",
       "      <td>6.0</td>\n",
       "      <td>NaN</td>\n",
       "      <td>118400.0</td>\n",
       "    </tr>\n",
       "    <tr>\n",
       "      <th>63</th>\n",
       "      <td>Toyota</td>\n",
       "      <td>C HR LE</td>\n",
       "      <td>2021</td>\n",
       "      <td>13,180 mi.</td>\n",
       "      <td>Gasoline</td>\n",
       "      <td>2.0 Liter</td>\n",
       "      <td>CVT F</td>\n",
       "      <td></td>\n",
       "      <td></td>\n",
       "      <td>0</td>\n",
       "      <td>No</td>\n",
       "      <td>$23,998</td>\n",
       "      <td>2.0 Liter</td>\n",
       "      <td>2.0</td>\n",
       "      <td>NaN</td>\n",
       "      <td>NaN</td>\n",
       "      <td>NaN</td>\n",
       "      <td>21088.0</td>\n",
       "    </tr>\n",
       "    <tr>\n",
       "      <th>81</th>\n",
       "      <td>Porsche</td>\n",
       "      <td>Cayman GTS</td>\n",
       "      <td>2015</td>\n",
       "      <td>11,500 mi.</td>\n",
       "      <td>Gasoline</td>\n",
       "      <td>340.0HP 3.4L Flat 6 Cylinder Engine Gasoline Fuel</td>\n",
       "      <td>7 Speed Automatic</td>\n",
       "      <td>Silver</td>\n",
       "      <td></td>\n",
       "      <td>0</td>\n",
       "      <td>Yes</td>\n",
       "      <td>$72,000</td>\n",
       "      <td>340.0</td>\n",
       "      <td>3.4</td>\n",
       "      <td>6</td>\n",
       "      <td>7.0</td>\n",
       "      <td>automatic</td>\n",
       "      <td>18400.0</td>\n",
       "    </tr>\n",
       "    <tr>\n",
       "      <th>158</th>\n",
       "      <td>Porsche</td>\n",
       "      <td>Panamera 2</td>\n",
       "      <td>2012</td>\n",
       "      <td>54,000 mi.</td>\n",
       "      <td>Gasoline</td>\n",
       "      <td>300.0HP 3.6L V6 Cylinder Engine Gasoline Fuel</td>\n",
       "      <td>Automatic</td>\n",
       "      <td>White</td>\n",
       "      <td></td>\n",
       "      <td>1</td>\n",
       "      <td>Yes</td>\n",
       "      <td>$26,000</td>\n",
       "      <td>300.0</td>\n",
       "      <td>3.6</td>\n",
       "      <td>6</td>\n",
       "      <td>NaN</td>\n",
       "      <td>automatic</td>\n",
       "      <td>86400.0</td>\n",
       "    </tr>\n",
       "    <tr>\n",
       "      <th>203</th>\n",
       "      <td>Ford</td>\n",
       "      <td>GT</td>\n",
       "      <td>2005</td>\n",
       "      <td>1,897 mi.</td>\n",
       "      <td>Gasoline</td>\n",
       "      <td>5.4 Liter SC DOHC</td>\n",
       "      <td>Manual</td>\n",
       "      <td>White</td>\n",
       "      <td></td>\n",
       "      <td>0</td>\n",
       "      <td>No</td>\n",
       "      <td>$429,998</td>\n",
       "      <td>5.4 Liter SC DOHC</td>\n",
       "      <td>5.4</td>\n",
       "      <td>NaN</td>\n",
       "      <td>NaN</td>\n",
       "      <td>manual</td>\n",
       "      <td>3035.2</td>\n",
       "    </tr>\n",
       "    <tr>\n",
       "      <th>...</th>\n",
       "      <td>...</td>\n",
       "      <td>...</td>\n",
       "      <td>...</td>\n",
       "      <td>...</td>\n",
       "      <td>...</td>\n",
       "      <td>...</td>\n",
       "      <td>...</td>\n",
       "      <td>...</td>\n",
       "      <td>...</td>\n",
       "      <td>...</td>\n",
       "      <td>...</td>\n",
       "      <td>...</td>\n",
       "      <td>...</td>\n",
       "      <td>...</td>\n",
       "      <td>...</td>\n",
       "      <td>...</td>\n",
       "      <td>...</td>\n",
       "      <td>...</td>\n",
       "    </tr>\n",
       "    <tr>\n",
       "      <th>3853</th>\n",
       "      <td>Audi</td>\n",
       "      <td>Q8 3.0T Premium</td>\n",
       "      <td>2019</td>\n",
       "      <td>51,984 mi.</td>\n",
       "      <td>Hybrid</td>\n",
       "      <td>335.0HP 3.0L V6 Cylinder Engine Gasoline/Mild ...</td>\n",
       "      <td>8 Speed Automatic</td>\n",
       "      <td>White</td>\n",
       "      <td></td>\n",
       "      <td>0</td>\n",
       "      <td>Yes</td>\n",
       "      <td>$44,870</td>\n",
       "      <td>335.0</td>\n",
       "      <td>3.0</td>\n",
       "      <td>6</td>\n",
       "      <td>8.0</td>\n",
       "      <td>automatic</td>\n",
       "      <td>83174.4</td>\n",
       "    </tr>\n",
       "    <tr>\n",
       "      <th>3872</th>\n",
       "      <td>Ford</td>\n",
       "      <td>F 150 XLT</td>\n",
       "      <td>2016</td>\n",
       "      <td>71,000 mi.</td>\n",
       "      <td>E85 Flex Fuel</td>\n",
       "      <td>385.0HP 5.0L 8 Cylinder Engine Flex Fuel Capab...</td>\n",
       "      <td>Automatic</td>\n",
       "      <td>Black</td>\n",
       "      <td></td>\n",
       "      <td>1</td>\n",
       "      <td>Yes</td>\n",
       "      <td>$24,350</td>\n",
       "      <td>385.0</td>\n",
       "      <td>5.0</td>\n",
       "      <td>8</td>\n",
       "      <td>NaN</td>\n",
       "      <td>automatic</td>\n",
       "      <td>113600.0</td>\n",
       "    </tr>\n",
       "    <tr>\n",
       "      <th>3903</th>\n",
       "      <td>Audi</td>\n",
       "      <td>Q5 2.0T Premium Plus</td>\n",
       "      <td>2019</td>\n",
       "      <td>24,500 mi.</td>\n",
       "      <td>Gasoline</td>\n",
       "      <td>248.0HP 2.0L 4 Cylinder Engine Gasoline Fuel</td>\n",
       "      <td>Automatic</td>\n",
       "      <td>Black</td>\n",
       "      <td></td>\n",
       "      <td>0</td>\n",
       "      <td>Yes</td>\n",
       "      <td>$31,000</td>\n",
       "      <td>248.0</td>\n",
       "      <td>2.0</td>\n",
       "      <td>4</td>\n",
       "      <td>NaN</td>\n",
       "      <td>automatic</td>\n",
       "      <td>39200.0</td>\n",
       "    </tr>\n",
       "    <tr>\n",
       "      <th>3924</th>\n",
       "      <td>Mercedes Benz</td>\n",
       "      <td>C Class C 300 4MATIC</td>\n",
       "      <td>2016</td>\n",
       "      <td>90,189 mi.</td>\n",
       "      <td>Gasoline</td>\n",
       "      <td>241.0HP 2.0L 4 Cylinder Engine Gasoline Fuel</td>\n",
       "      <td>Automatic</td>\n",
       "      <td>White</td>\n",
       "      <td></td>\n",
       "      <td>1</td>\n",
       "      <td>Yes</td>\n",
       "      <td>$17,995</td>\n",
       "      <td>241.0</td>\n",
       "      <td>2.0</td>\n",
       "      <td>4</td>\n",
       "      <td>NaN</td>\n",
       "      <td>automatic</td>\n",
       "      <td>144302.4</td>\n",
       "    </tr>\n",
       "    <tr>\n",
       "      <th>3946</th>\n",
       "      <td>Nissan</td>\n",
       "      <td>Rogue SL</td>\n",
       "      <td>2017</td>\n",
       "      <td>148,000 mi.</td>\n",
       "      <td>Gasoline</td>\n",
       "      <td>170.0HP 2.5L 4 Cylinder Engine Gasoline Fuel</td>\n",
       "      <td>Automatic</td>\n",
       "      <td>White</td>\n",
       "      <td></td>\n",
       "      <td>0</td>\n",
       "      <td>Yes</td>\n",
       "      <td>$13,000</td>\n",
       "      <td>170.0</td>\n",
       "      <td>2.5</td>\n",
       "      <td>4</td>\n",
       "      <td>NaN</td>\n",
       "      <td>automatic</td>\n",
       "      <td>236800.0</td>\n",
       "    </tr>\n",
       "  </tbody>\n",
       "</table>\n",
       "<p>129 rows × 18 columns</p>\n",
       "</div>"
      ],
      "text/plain": [
       "              brand                 model  model_year       milage  \\\n",
       "18           Nissan       350Z Enthusiast        2003   74,000 mi.   \n",
       "63           Toyota               C HR LE        2021   13,180 mi.   \n",
       "81          Porsche            Cayman GTS        2015   11,500 mi.   \n",
       "158         Porsche            Panamera 2        2012   54,000 mi.   \n",
       "203            Ford                    GT        2005    1,897 mi.   \n",
       "...             ...                   ...         ...          ...   \n",
       "3853           Audi       Q8 3.0T Premium        2019   51,984 mi.   \n",
       "3872           Ford             F 150 XLT        2016   71,000 mi.   \n",
       "3903           Audi  Q5 2.0T Premium Plus        2019   24,500 mi.   \n",
       "3924  Mercedes Benz  C Class C 300 4MATIC        2016   90,189 mi.   \n",
       "3946         Nissan              Rogue SL        2017  148,000 mi.   \n",
       "\n",
       "          fuel_type                                             engine  \\\n",
       "18         Gasoline      287.0HP 3.5L V6 Cylinder Engine Gasoline Fuel   \n",
       "63         Gasoline                                          2.0 Liter   \n",
       "81         Gasoline  340.0HP 3.4L Flat 6 Cylinder Engine Gasoline Fuel   \n",
       "158        Gasoline      300.0HP 3.6L V6 Cylinder Engine Gasoline Fuel   \n",
       "203        Gasoline                                  5.4 Liter SC DOHC   \n",
       "...             ...                                                ...   \n",
       "3853         Hybrid  335.0HP 3.0L V6 Cylinder Engine Gasoline/Mild ...   \n",
       "3872  E85 Flex Fuel  385.0HP 5.0L 8 Cylinder Engine Flex Fuel Capab...   \n",
       "3903       Gasoline       248.0HP 2.0L 4 Cylinder Engine Gasoline Fuel   \n",
       "3924       Gasoline       241.0HP 2.0L 4 Cylinder Engine Gasoline Fuel   \n",
       "3946       Gasoline       170.0HP 2.5L 4 Cylinder Engine Gasoline Fuel   \n",
       "\n",
       "           transmission ext_col int_col accident clean_title     price  \\\n",
       "18     6 Speed  Mannual  Purple                0         Yes   $11,000   \n",
       "63                CVT F                        0          No   $23,998   \n",
       "81    7 Speed Automatic  Silver                0         Yes   $72,000   \n",
       "158           Automatic   White                1         Yes   $26,000   \n",
       "203              Manual   White                0          No  $429,998   \n",
       "...                 ...     ...     ...      ...         ...       ...   \n",
       "3853  8 Speed Automatic   White                0         Yes   $44,870   \n",
       "3872          Automatic   Black                1         Yes   $24,350   \n",
       "3903          Automatic   Black                0         Yes   $31,000   \n",
       "3924          Automatic   White                1         Yes   $17,995   \n",
       "3946          Automatic   White                0         Yes   $13,000   \n",
       "\n",
       "             horsepower  Displacement Cylinders  Gear Transmission   d_in_km  \n",
       "18                287.0           3.5         6   6.0          NaN  118400.0  \n",
       "63            2.0 Liter           2.0       NaN   NaN          NaN   21088.0  \n",
       "81                340.0           3.4         6   7.0    automatic   18400.0  \n",
       "158               300.0           3.6         6   NaN    automatic   86400.0  \n",
       "203   5.4 Liter SC DOHC           5.4       NaN   NaN       manual    3035.2  \n",
       "...                 ...           ...       ...   ...          ...       ...  \n",
       "3853              335.0           3.0         6   8.0    automatic   83174.4  \n",
       "3872              385.0           5.0         8   NaN    automatic  113600.0  \n",
       "3903              248.0           2.0         4   NaN    automatic   39200.0  \n",
       "3924              241.0           2.0         4   NaN    automatic  144302.4  \n",
       "3946              170.0           2.5         4   NaN    automatic  236800.0  \n",
       "\n",
       "[129 rows x 18 columns]"
      ]
     },
     "execution_count": 49,
     "metadata": {},
     "output_type": "execute_result"
    }
   ],
   "source": [
    "df[df['int_col']==' ']"
   ]
  },
  {
   "cell_type": "code",
   "execution_count": 50,
   "metadata": {
    "id": "_5CNQU3PaaPf"
   },
   "outputs": [],
   "source": [
    "df['ext_col'].replace({\n",
    "    \" \":np.nan\n",
    "},inplace=True)"
   ]
  },
  {
   "cell_type": "code",
   "execution_count": 51,
   "metadata": {
    "id": "susePnZaaaLf"
   },
   "outputs": [],
   "source": [
    "df['int_col'].replace({\n",
    "    \" \":np.nan\n",
    "},inplace=True)"
   ]
  },
  {
   "cell_type": "code",
   "execution_count": 52,
   "metadata": {
    "colab": {
     "base_uri": "https://localhost:8080/"
    },
    "id": "zaUJdRxLohWv",
    "outputId": "7b1b6e9b-c4ac-485c-d988-45ace33f64c1"
   },
   "outputs": [
    {
     "data": {
      "text/plain": [
       "ext_col\n",
       "Black                     900\n",
       "White                     804\n",
       "Gray                      491\n",
       "Silver                    370\n",
       "Blue                      344\n",
       "                         ... \n",
       "Moonlight Cloud             1\n",
       "Silver Mist                 1\n",
       "Cirrus Silver Metallic      1\n",
       "Pink                        1\n",
       "C / C                       1\n",
       "Name: count, Length: 317, dtype: int64"
      ]
     },
     "execution_count": 52,
     "metadata": {},
     "output_type": "execute_result"
    }
   ],
   "source": [
    "df['ext_col'].value_counts(dropna=False)"
   ]
  },
  {
   "cell_type": "code",
   "execution_count": 53,
   "metadata": {
    "id": "x0DItZ2QYaoj"
   },
   "outputs": [],
   "source": [
    "# Now in this code we just converted non numeric value to nan:\n",
    "\n",
    "try:\n",
    "  df['horsepower'] = pd.to_numeric(df['horsepower'], errors='coerce')\n",
    "except:\n",
    "  df['horsepower']=np.nan\n",
    "\n"
   ]
  },
  {
   "cell_type": "code",
   "execution_count": 54,
   "metadata": {
    "colab": {
     "base_uri": "https://localhost:8080/"
    },
    "id": "kd8tzYcfYaj7",
    "outputId": "3a3db635-d1a8-4fd2-ced0-75a31a66d507"
   },
   "outputs": [
    {
     "data": {
      "text/plain": [
       "horsepower\n",
       "NaN      197\n",
       "300.0    179\n",
       "350.0    142\n",
       "400.0    108\n",
       "355.0     89\n",
       "        ... \n",
       "164.0      1\n",
       "422.0      1\n",
       "226.0      1\n",
       "353.0      1\n",
       "176.0      1\n",
       "Name: count, Length: 354, dtype: int64"
      ]
     },
     "execution_count": 54,
     "metadata": {},
     "output_type": "execute_result"
    }
   ],
   "source": [
    "df['horsepower'].value_counts(dropna=False)"
   ]
  },
  {
   "cell_type": "code",
   "execution_count": 55,
   "metadata": {},
   "outputs": [
    {
     "data": {
      "text/html": [
       "<div>\n",
       "<style scoped>\n",
       "    .dataframe tbody tr th:only-of-type {\n",
       "        vertical-align: middle;\n",
       "    }\n",
       "\n",
       "    .dataframe tbody tr th {\n",
       "        vertical-align: top;\n",
       "    }\n",
       "\n",
       "    .dataframe thead th {\n",
       "        text-align: right;\n",
       "    }\n",
       "</style>\n",
       "<table border=\"1\" class=\"dataframe\">\n",
       "  <thead>\n",
       "    <tr style=\"text-align: right;\">\n",
       "      <th></th>\n",
       "      <th>brand</th>\n",
       "      <th>model</th>\n",
       "      <th>model_year</th>\n",
       "      <th>milage</th>\n",
       "      <th>fuel_type</th>\n",
       "      <th>engine</th>\n",
       "      <th>transmission</th>\n",
       "      <th>ext_col</th>\n",
       "      <th>int_col</th>\n",
       "      <th>accident</th>\n",
       "      <th>clean_title</th>\n",
       "      <th>price</th>\n",
       "      <th>horsepower</th>\n",
       "      <th>Displacement</th>\n",
       "      <th>Cylinders</th>\n",
       "      <th>Gear</th>\n",
       "      <th>Transmission</th>\n",
       "      <th>d_in_km</th>\n",
       "    </tr>\n",
       "  </thead>\n",
       "  <tbody>\n",
       "    <tr>\n",
       "      <th>2</th>\n",
       "      <td>Lexus</td>\n",
       "      <td>RX 350 RX 350</td>\n",
       "      <td>2022</td>\n",
       "      <td>22,372 mi.</td>\n",
       "      <td>Gasoline</td>\n",
       "      <td>3.5 Liter DOHC</td>\n",
       "      <td>Automatic</td>\n",
       "      <td>Blue</td>\n",
       "      <td>Black</td>\n",
       "      <td>0</td>\n",
       "      <td>No</td>\n",
       "      <td>$54,598</td>\n",
       "      <td>NaN</td>\n",
       "      <td>3.5</td>\n",
       "      <td>NaN</td>\n",
       "      <td>NaN</td>\n",
       "      <td>automatic</td>\n",
       "      <td>35795.2</td>\n",
       "    </tr>\n",
       "    <tr>\n",
       "      <th>5</th>\n",
       "      <td>Acura</td>\n",
       "      <td>ILX 2.4L</td>\n",
       "      <td>2016</td>\n",
       "      <td>136,397 mi.</td>\n",
       "      <td>Gasoline</td>\n",
       "      <td>2.4 Liter</td>\n",
       "      <td>F</td>\n",
       "      <td>Silver</td>\n",
       "      <td>Ebony.</td>\n",
       "      <td>0</td>\n",
       "      <td>No</td>\n",
       "      <td>$14,798</td>\n",
       "      <td>NaN</td>\n",
       "      <td>2.4</td>\n",
       "      <td>NaN</td>\n",
       "      <td>NaN</td>\n",
       "      <td>NaN</td>\n",
       "      <td>218235.2</td>\n",
       "    </tr>\n",
       "    <tr>\n",
       "      <th>10</th>\n",
       "      <td>Land</td>\n",
       "      <td>Rover Range Rover Sport 3.0 Supercharged HST</td>\n",
       "      <td>2021</td>\n",
       "      <td>27,608 mi.</td>\n",
       "      <td>Gasoline</td>\n",
       "      <td>V6</td>\n",
       "      <td>Automatic</td>\n",
       "      <td>Fuji White</td>\n",
       "      <td>Pimento / Ebony</td>\n",
       "      <td>0</td>\n",
       "      <td>No</td>\n",
       "      <td>$73,897</td>\n",
       "      <td>NaN</td>\n",
       "      <td>NaN</td>\n",
       "      <td>NaN</td>\n",
       "      <td>NaN</td>\n",
       "      <td>automatic</td>\n",
       "      <td>44172.8</td>\n",
       "    </tr>\n",
       "    <tr>\n",
       "      <th>14</th>\n",
       "      <td>Jaguar</td>\n",
       "      <td>F TYPE</td>\n",
       "      <td>2020</td>\n",
       "      <td>15,903 mi.</td>\n",
       "      <td>Gasoline</td>\n",
       "      <td>2.0 Liter Supercharged</td>\n",
       "      <td>Automatic</td>\n",
       "      <td>Silver</td>\n",
       "      <td>Black</td>\n",
       "      <td>0</td>\n",
       "      <td>No</td>\n",
       "      <td>$47,998</td>\n",
       "      <td>NaN</td>\n",
       "      <td>2.0</td>\n",
       "      <td>NaN</td>\n",
       "      <td>NaN</td>\n",
       "      <td>automatic</td>\n",
       "      <td>25444.8</td>\n",
       "    </tr>\n",
       "    <tr>\n",
       "      <th>22</th>\n",
       "      <td>BMW</td>\n",
       "      <td>440 Gran Coupe 440i xDrive</td>\n",
       "      <td>2020</td>\n",
       "      <td>25,990 mi.</td>\n",
       "      <td>Gasoline</td>\n",
       "      <td>3.0 Liter Turbo</td>\n",
       "      <td>Automatic</td>\n",
       "      <td>White</td>\n",
       "      <td>Beige</td>\n",
       "      <td>0</td>\n",
       "      <td>No</td>\n",
       "      <td>$38,598</td>\n",
       "      <td>NaN</td>\n",
       "      <td>3.0</td>\n",
       "      <td>NaN</td>\n",
       "      <td>NaN</td>\n",
       "      <td>automatic</td>\n",
       "      <td>41584.0</td>\n",
       "    </tr>\n",
       "    <tr>\n",
       "      <th>...</th>\n",
       "      <td>...</td>\n",
       "      <td>...</td>\n",
       "      <td>...</td>\n",
       "      <td>...</td>\n",
       "      <td>...</td>\n",
       "      <td>...</td>\n",
       "      <td>...</td>\n",
       "      <td>...</td>\n",
       "      <td>...</td>\n",
       "      <td>...</td>\n",
       "      <td>...</td>\n",
       "      <td>...</td>\n",
       "      <td>...</td>\n",
       "      <td>...</td>\n",
       "      <td>...</td>\n",
       "      <td>...</td>\n",
       "      <td>...</td>\n",
       "      <td>...</td>\n",
       "    </tr>\n",
       "    <tr>\n",
       "      <th>3886</th>\n",
       "      <td>Volkswagen</td>\n",
       "      <td>Passat 2.0T R Line</td>\n",
       "      <td>2021</td>\n",
       "      <td>16,538 mi.</td>\n",
       "      <td>Gasoline</td>\n",
       "      <td>2.0 Liter TSI</td>\n",
       "      <td>Automatic</td>\n",
       "      <td>Reflex Silver</td>\n",
       "      <td>Titan Black</td>\n",
       "      <td>0</td>\n",
       "      <td>No</td>\n",
       "      <td>$25,998</td>\n",
       "      <td>NaN</td>\n",
       "      <td>2.0</td>\n",
       "      <td>NaN</td>\n",
       "      <td>NaN</td>\n",
       "      <td>automatic</td>\n",
       "      <td>26460.8</td>\n",
       "    </tr>\n",
       "    <tr>\n",
       "      <th>3891</th>\n",
       "      <td>Mercedes Benz</td>\n",
       "      <td>GLA 250 Base 4MATIC</td>\n",
       "      <td>2019</td>\n",
       "      <td>60,854 mi.</td>\n",
       "      <td>Gasoline</td>\n",
       "      <td>2.0 Liter Turbo</td>\n",
       "      <td>Automatic</td>\n",
       "      <td>White</td>\n",
       "      <td>Black</td>\n",
       "      <td>0</td>\n",
       "      <td>No</td>\n",
       "      <td>$25,498</td>\n",
       "      <td>NaN</td>\n",
       "      <td>2.0</td>\n",
       "      <td>NaN</td>\n",
       "      <td>NaN</td>\n",
       "      <td>automatic</td>\n",
       "      <td>97366.4</td>\n",
       "    </tr>\n",
       "    <tr>\n",
       "      <th>3908</th>\n",
       "      <td>Tesla</td>\n",
       "      <td>Model Y Long Range</td>\n",
       "      <td>2021</td>\n",
       "      <td>49,252 mi.</td>\n",
       "      <td>NaN</td>\n",
       "      <td>Electric</td>\n",
       "      <td>1 Speed Automatic</td>\n",
       "      <td>Deep Blue Metallic</td>\n",
       "      <td>Black</td>\n",
       "      <td>0</td>\n",
       "      <td>No</td>\n",
       "      <td>$37,999</td>\n",
       "      <td>NaN</td>\n",
       "      <td>NaN</td>\n",
       "      <td>NaN</td>\n",
       "      <td>1.0</td>\n",
       "      <td>automatic</td>\n",
       "      <td>78803.2</td>\n",
       "    </tr>\n",
       "    <tr>\n",
       "      <th>3961</th>\n",
       "      <td>Tesla</td>\n",
       "      <td>Model 3 Long Range</td>\n",
       "      <td>2021</td>\n",
       "      <td>23,749 mi.</td>\n",
       "      <td>NaN</td>\n",
       "      <td>Electric</td>\n",
       "      <td>1 Speed Automatic</td>\n",
       "      <td>White</td>\n",
       "      <td>Black</td>\n",
       "      <td>0</td>\n",
       "      <td>No</td>\n",
       "      <td>$35,999</td>\n",
       "      <td>NaN</td>\n",
       "      <td>NaN</td>\n",
       "      <td>NaN</td>\n",
       "      <td>1.0</td>\n",
       "      <td>automatic</td>\n",
       "      <td>37998.4</td>\n",
       "    </tr>\n",
       "    <tr>\n",
       "      <th>4006</th>\n",
       "      <td>Porsche</td>\n",
       "      <td>Taycan</td>\n",
       "      <td>2022</td>\n",
       "      <td>2,116 mi.</td>\n",
       "      <td>NaN</td>\n",
       "      <td>Electric</td>\n",
       "      <td>Automatic</td>\n",
       "      <td>Black</td>\n",
       "      <td>Black</td>\n",
       "      <td>0</td>\n",
       "      <td>No</td>\n",
       "      <td>$90,998</td>\n",
       "      <td>NaN</td>\n",
       "      <td>NaN</td>\n",
       "      <td>NaN</td>\n",
       "      <td>NaN</td>\n",
       "      <td>automatic</td>\n",
       "      <td>3385.6</td>\n",
       "    </tr>\n",
       "  </tbody>\n",
       "</table>\n",
       "<p>197 rows × 18 columns</p>\n",
       "</div>"
      ],
      "text/plain": [
       "              brand                                         model  model_year  \\\n",
       "2             Lexus                                 RX 350 RX 350        2022   \n",
       "5             Acura                                      ILX 2.4L        2016   \n",
       "10             Land  Rover Range Rover Sport 3.0 Supercharged HST        2021   \n",
       "14           Jaguar                                        F TYPE        2020   \n",
       "22              BMW                    440 Gran Coupe 440i xDrive        2020   \n",
       "...             ...                                           ...         ...   \n",
       "3886     Volkswagen                            Passat 2.0T R Line        2021   \n",
       "3891  Mercedes Benz                           GLA 250 Base 4MATIC        2019   \n",
       "3908          Tesla                            Model Y Long Range        2021   \n",
       "3961          Tesla                            Model 3 Long Range        2021   \n",
       "4006        Porsche                                        Taycan        2022   \n",
       "\n",
       "           milage fuel_type                  engine       transmission  \\\n",
       "2      22,372 mi.  Gasoline          3.5 Liter DOHC          Automatic   \n",
       "5     136,397 mi.  Gasoline               2.4 Liter                  F   \n",
       "10     27,608 mi.  Gasoline                      V6          Automatic   \n",
       "14     15,903 mi.  Gasoline  2.0 Liter Supercharged          Automatic   \n",
       "22     25,990 mi.  Gasoline         3.0 Liter Turbo          Automatic   \n",
       "...           ...       ...                     ...                ...   \n",
       "3886   16,538 mi.  Gasoline           2.0 Liter TSI          Automatic   \n",
       "3891   60,854 mi.  Gasoline         2.0 Liter Turbo          Automatic   \n",
       "3908   49,252 mi.       NaN                Electric  1 Speed Automatic   \n",
       "3961   23,749 mi.       NaN                Electric  1 Speed Automatic   \n",
       "4006    2,116 mi.       NaN                Electric          Automatic   \n",
       "\n",
       "                 ext_col          int_col accident clean_title    price  \\\n",
       "2                   Blue            Black        0          No  $54,598   \n",
       "5                 Silver           Ebony.        0          No  $14,798   \n",
       "10            Fuji White  Pimento / Ebony        0          No  $73,897   \n",
       "14                Silver            Black        0          No  $47,998   \n",
       "22                 White            Beige        0          No  $38,598   \n",
       "...                  ...              ...      ...         ...      ...   \n",
       "3886       Reflex Silver      Titan Black        0          No  $25,998   \n",
       "3891               White            Black        0          No  $25,498   \n",
       "3908  Deep Blue Metallic            Black        0          No  $37,999   \n",
       "3961               White            Black        0          No  $35,999   \n",
       "4006               Black            Black        0          No  $90,998   \n",
       "\n",
       "      horsepower  Displacement Cylinders  Gear Transmission   d_in_km  \n",
       "2            NaN           3.5       NaN   NaN    automatic   35795.2  \n",
       "5            NaN           2.4       NaN   NaN          NaN  218235.2  \n",
       "10           NaN           NaN       NaN   NaN    automatic   44172.8  \n",
       "14           NaN           2.0       NaN   NaN    automatic   25444.8  \n",
       "22           NaN           3.0       NaN   NaN    automatic   41584.0  \n",
       "...          ...           ...       ...   ...          ...       ...  \n",
       "3886         NaN           2.0       NaN   NaN    automatic   26460.8  \n",
       "3891         NaN           2.0       NaN   NaN    automatic   97366.4  \n",
       "3908         NaN           NaN       NaN   1.0    automatic   78803.2  \n",
       "3961         NaN           NaN       NaN   1.0    automatic   37998.4  \n",
       "4006         NaN           NaN       NaN   NaN    automatic    3385.6  \n",
       "\n",
       "[197 rows x 18 columns]"
      ]
     },
     "execution_count": 55,
     "metadata": {},
     "output_type": "execute_result"
    }
   ],
   "source": [
    "df[df['horsepower'].isnull()]"
   ]
  },
  {
   "cell_type": "code",
   "execution_count": 56,
   "metadata": {},
   "outputs": [
    {
     "data": {
      "text/plain": [
       "(3964, 18)"
      ]
     },
     "execution_count": 56,
     "metadata": {},
     "output_type": "execute_result"
    }
   ],
   "source": [
    "a=df[df['fuel_type']=='Electric'].index\n",
    "df.drop(index=a,inplace=True)\n",
    "df.shape"
   ]
  },
  {
   "cell_type": "code",
   "execution_count": 57,
   "metadata": {
    "id": "xam_FZ-_uR21"
   },
   "outputs": [],
   "source": [
    "df['Price'] = df['price'].replace('[\\$,]', '', regex=True).astype(int)\n"
   ]
  },
  {
   "cell_type": "code",
   "execution_count": 58,
   "metadata": {
    "colab": {
     "base_uri": "https://localhost:8080/"
    },
    "id": "uFNeFKTNanyY",
    "outputId": "243dd72c-994b-4067-c6a4-2a37b751148b"
   },
   "outputs": [
    {
     "name": "stdout",
     "output_type": "stream",
     "text": [
      "brand\n",
      "Ford             381\n",
      "BMW              375\n",
      "Mercedes Benz    313\n",
      "Chevrolet        289\n",
      "Audi             200\n",
      "                ... \n",
      "Bugatti            1\n",
      "Plymouth           1\n",
      "smart              1\n",
      "Maybach            1\n",
      "Suzuki             1\n",
      "Name: count, Length: 57, dtype: int64\n",
      "-----------------------------------------\n",
      "model\n",
      "M3 Base                    30\n",
      "F 150 XLT                  24\n",
      "Corvette Base              22\n",
      "1500 Laramie               18\n",
      "Model Y Long Range         17\n",
      "                           ..\n",
      "911 Carrera 4 Cabriolet     1\n",
      "488 GTB Base                1\n",
      "Navigator Premiere          1\n",
      "Corolla Hybrid LE           1\n",
      "Taycan                      1\n",
      "Name: count, Length: 1875, dtype: int64\n",
      "-----------------------------------------\n",
      "model_year\n",
      "2022    354\n",
      "2021    350\n",
      "2020    322\n",
      "2018    314\n",
      "2019    295\n",
      "       ... \n",
      "1999     15\n",
      "1998     11\n",
      "1997      9\n",
      "2024      6\n",
      "1996      5\n",
      "Name: count, Length: 29, dtype: int64\n",
      "-----------------------------------------\n",
      "fuel_type\n",
      "Gasoline          3309\n",
      "Hybrid             194\n",
      "NaN                170\n",
      "E85 Flex Fuel      139\n",
      "Diesel             116\n",
      "Plug In Hybrid      34\n",
      "Hydrogen Fuel        2\n",
      "Name: count, dtype: int64\n",
      "-----------------------------------------\n",
      "ext_col\n",
      "Black                     900\n",
      "White                     804\n",
      "Gray                      491\n",
      "Silver                    370\n",
      "Blue                      344\n",
      "                         ... \n",
      "Moonlight Cloud             1\n",
      "Silver Mist                 1\n",
      "Cirrus Silver Metallic      1\n",
      "Pink                        1\n",
      "C / C                       1\n",
      "Name: count, Length: 317, dtype: int64\n",
      "-----------------------------------------\n",
      "int_col\n",
      "Black               2010\n",
      "Beige                534\n",
      "Gray                 458\n",
      "Brown                156\n",
      "NaN                  129\n",
      "                    ... \n",
      "Almond Beige           1\n",
      "Kyalami Orange         1\n",
      "Sakhir Orange          1\n",
      "Tan/Ebony              1\n",
      "Black / Graphite       1\n",
      "Name: count, Length: 155, dtype: int64\n",
      "-----------------------------------------\n",
      "clean_title\n",
      "Yes    3369\n",
      "No      595\n",
      "Name: count, dtype: int64\n",
      "-----------------------------------------\n",
      "Transmission\n",
      "automatic    3118\n",
      "NaN           435\n",
      "dual          396\n",
      "manual         15\n",
      "Name: count, dtype: int64\n",
      "-----------------------------------------\n"
     ]
    }
   ],
   "source": [
    "columns=['brand','model','model_year','fuel_type','ext_col','int_col','clean_title','Transmission']\n",
    "for col in columns:\n",
    "  print(df[col].value_counts(dropna=False))\n",
    "  print('-----------------------------------------')"
   ]
  },
  {
   "cell_type": "code",
   "execution_count": 59,
   "metadata": {
    "colab": {
     "base_uri": "https://localhost:8080/"
    },
    "id": "ORxygvO1EVSL",
    "outputId": "57135a7f-3915-4966-f453-dfb76e830bd1"
   },
   "outputs": [
    {
     "data": {
      "text/plain": [
       "29"
      ]
     },
     "execution_count": 59,
     "metadata": {},
     "output_type": "execute_result"
    }
   ],
   "source": [
    "df['model_year'].nunique()"
   ]
  },
  {
   "cell_type": "code",
   "execution_count": 60,
   "metadata": {
    "colab": {
     "base_uri": "https://localhost:8080/"
    },
    "id": "ZGJKevkrjirN",
    "outputId": "8fee9ab2-bc1e-44f5-bf47-54d3fc473fa5"
   },
   "outputs": [],
   "source": [
    "df.drop(columns=['milage','engine','transmission','price'],inplace=True)"
   ]
  },
  {
   "cell_type": "code",
   "execution_count": 61,
   "metadata": {},
   "outputs": [],
   "source": [
    "df.to_csv(\"Cars1.csv\")"
   ]
  },
  {
   "cell_type": "markdown",
   "metadata": {},
   "source": [
    "## After preprocessing\n"
   ]
  },
  {
   "cell_type": "code",
   "execution_count": 63,
   "metadata": {
    "colab": {
     "base_uri": "https://localhost:8080/",
     "height": 1000
    },
    "id": "PK2Fqt1djhuB",
    "outputId": "a86236b4-1600-4234-e20f-dd2e388865ca"
   },
   "outputs": [
    {
     "data": {
      "image/png": "[encoded data removed]",
      "text/plain": [
       "<Figure size 1000x1000 with 20 Axes>"
      ]
     },
     "metadata": {},
     "output_type": "display_data"
    }
   ],
   "source": [
    "# Scatter plot for numerical features\n",
    "import seaborn as sns\n",
    "num_features = [\"Price\", \"d_in_km\", \"model_year\",\"horsepower\"]\n",
    "sns.pairplot(df[num_features], size = 2.5)\n",
    "plt.show();\n"
   ]
  },
  {
   "cell_type": "code",
   "execution_count": 64,
   "metadata": {
    "colab": {
     "base_uri": "https://localhost:8080/"
    },
    "id": "RFec8ip8si1H",
    "outputId": "2def9102-1776-43cb-e966-f5a2d3054163"
   },
   "outputs": [
    {
     "name": "stdout",
     "output_type": "stream",
     "text": [
      "<class 'pandas.core.frame.DataFrame'>\n",
      "Index: 3964 entries, 0 to 4008\n",
      "Data columns (total 15 columns):\n",
      " #   Column        Non-Null Count  Dtype  \n",
      "---  ------        --------------  -----  \n",
      " 0   brand         3964 non-null   object \n",
      " 1   model         3964 non-null   object \n",
      " 2   model_year    3964 non-null   int64  \n",
      " 3   fuel_type     3794 non-null   object \n",
      " 4   ext_col       3949 non-null   object \n",
      " 5   int_col       3835 non-null   object \n",
      " 6   accident      3964 non-null   object \n",
      " 7   clean_title   3964 non-null   object \n",
      " 8   horsepower    3767 non-null   float64\n",
      " 9   Displacement  3771 non-null   float64\n",
      " 10  Cylinders     3064 non-null   object \n",
      " 11  Gear          2536 non-null   float64\n",
      " 12  Transmission  3529 non-null   object \n",
      " 13  d_in_km       3964 non-null   float64\n",
      " 14  Price         3964 non-null   int32  \n",
      "dtypes: float64(4), int32(1), int64(1), object(9)\n",
      "memory usage: 480.0+ KB\n"
     ]
    }
   ],
   "source": [
    "df.info()"
   ]
  },
  {
   "cell_type": "code",
   "execution_count": 65,
   "metadata": {
    "colab": {
     "base_uri": "https://localhost:8080/",
     "height": 734
    },
    "id": "rv79lr-nsGlU",
    "outputId": "fc70eac1-974e-43ab-b590-0950aed55ab1"
   },
   "outputs": [
    {
     "data": {
      "text/plain": [
       "Text(0, 0.5, 'Price')"
      ]
     },
     "execution_count": 65,
     "metadata": {},
     "output_type": "execute_result"
    },
    {
     "data": {
      "image/png": "[encoded data removed]",
      "text/plain": [
       "<Figure size 1000x800 with 1 Axes>"
      ]
     },
     "metadata": {},
     "output_type": "display_data"
    }
   ],
   "source": [
    "\n",
    "plt.figure(figsize=(10,8))\n",
    "sns.regplot(x='model_year',y='Price',data=df,color='#5F220D')\n",
    "plt.xlabel(\"HP\",size=16)\n",
    "plt.ylabel(\"Price\",size=16)"
   ]
  },
  {
   "cell_type": "code",
   "execution_count": 66,
   "metadata": {
    "colab": {
     "base_uri": "https://localhost:8080/",
     "height": 1000
    },
    "id": "YKpxbAEXgbPi",
    "outputId": "84ae6f76-c6c5-4a3b-9d5f-2ae4b0c953c2"
   },
   "outputs": [
    {
     "data": {
      "image/png": "[encoded data removed]",
      "text/plain": [
       "<Figure size 1000x600 with 1 Axes>"
      ]
     },
     "metadata": {},
     "output_type": "display_data"
    },
    {
     "data": {
      "image/png": "[encoded data removed]",
      "text/plain": [
       "<Figure size 1000x600 with 1 Axes>"
      ]
     },
     "metadata": {},
     "output_type": "display_data"
    },
    {
     "data": {
      "image/png": "[encoded data removed]",
      "text/plain": [
       "<Figure size 1000x600 with 1 Axes>"
      ]
     },
     "metadata": {},
     "output_type": "display_data"
    }
   ],
   "source": [
    "import seaborn as sns\n",
    "import matplotlib.pyplot as plt\n",
    "\n",
    "# Assuming X_train is your training dataset\n",
    "\n",
    "graph = [\"ext_col\", \"int_col\", \"Transmission\"]\n",
    "\n",
    "for col in graph:\n",
    "    top_values = df[col].value_counts(dropna=False).head(10)\n",
    "\n",
    "    # Create subplots for better visualization\n",
    "    plt.figure(figsize=(10, 6))\n",
    "    sns.countplot(x=col, data=df, order=top_values.index)\n",
    "    plt.title(f'Top 10 {col} values')\n",
    "    plt.show()"
   ]
  },
  {
   "cell_type": "code",
   "execution_count": 67,
   "metadata": {
    "id": "LfCmqF80Y6Uv"
   },
   "outputs": [],
   "source": [
    "# we are handiling null values of these 3 columns before spliting because of encoding part:\n",
    "\n",
    "columns=['ext_col','int_col']\n",
    "for col in columns:\n",
    "  df[col].fillna(\"Black\",inplace=True)\n",
    "\n",
    "df['Transmission'].fillna(\"automatic\",inplace=True)\n"
   ]
  },
  {
   "cell_type": "code",
   "execution_count": 68,
   "metadata": {
    "colab": {
     "base_uri": "https://localhost:8080/"
    },
    "id": "Z4i8pmS6abAj",
    "outputId": "27e364ba-a6ce-46f9-cba7-c6193d0e6933"
   },
   "outputs": [
    {
     "data": {
      "text/plain": [
       "Transmission\n",
       "automatic    3553\n",
       "dual          396\n",
       "manual         15\n",
       "Name: count, dtype: int64"
      ]
     },
     "execution_count": 68,
     "metadata": {},
     "output_type": "execute_result"
    }
   ],
   "source": [
    "df['Transmission'].value_counts(dropna=False)"
   ]
  },
  {
   "cell_type": "code",
   "execution_count": 69,
   "metadata": {
    "colab": {
     "base_uri": "https://localhost:8080/"
    },
    "id": "n5gRviGsZ33G",
    "outputId": "375f3de9-d9de-4fe7-a34e-3f9457f58297"
   },
   "outputs": [
    {
     "data": {
      "text/plain": [
       "ext_col\n",
       "Black                       915\n",
       "White                       804\n",
       "Gray                        491\n",
       "Silver                      370\n",
       "Blue                        344\n",
       "                           ... \n",
       "Sangria Red                   1\n",
       "designo Diamond White         1\n",
       "Anthracite Blue Metallic      1\n",
       "Moonlight Cloud               1\n",
       "C / C                         1\n",
       "Name: count, Length: 316, dtype: int64"
      ]
     },
     "execution_count": 69,
     "metadata": {},
     "output_type": "execute_result"
    }
   ],
   "source": [
    "df['ext_col'].value_counts(dropna=False)"
   ]
  },
  {
   "cell_type": "markdown",
   "metadata": {},
   "source": [
    "## Encoding "
   ]
  },
  {
   "cell_type": "code",
   "execution_count": 70,
   "metadata": {
    "id": "C01sGwwRRWy4"
   },
   "outputs": [],
   "source": [
    "from sklearn.preprocessing import OrdinalEncoder\n",
    "\n",
    "# Define the categories for the OrdinalEncoder\n",
    "categories = [1996, 1997, 1998, 1999, 2000, 2001, 2002, 2003, 2004, 2005, 2006,\n",
    "              2007, 2008, 2009, 2010, 2011, 2012, 2013, 2014, 2015, 2016, 2017,\n",
    "              2018, 2019, 2020, 2021, 2022, 2023, 2024]\n",
    "transmission_categories = ['automatic', 'dual', 'manual']\n",
    "\n",
    "brand_categories=['Acura', 'Alfa', 'Aston', 'Audi', 'BMW', 'Bentley', 'Bugatti',\n",
    "       'Buick', 'Cadillac', 'Chevrolet', 'Chrysler', 'Dodge', 'FIAT',\n",
    "       'Ferrari', 'Ford', 'GMC', 'Genesis', 'Honda', 'Hummer', 'Hyundai',\n",
    "       'INFINITI', 'Jaguar', 'Jeep', 'Karma', 'Kia', 'Lamborghini',\n",
    "       'Land', 'Lexus', 'Lincoln', 'Lotus', 'Lucid', 'MINI', 'Maserati',\n",
    "       'Maybach', 'Mazda', 'McLaren', 'Mercedes Benz', 'Mercury',\n",
    "       'Mitsubishi', 'Nissan', 'Plymouth', 'Polestar', 'Pontiac',\n",
    "       'Porsche', 'RAM', 'Rivian', 'Rolls Royce', 'Saab', 'Saturn',\n",
    "       'Scion', 'Subaru', 'Suzuki', 'Tesla', 'Toyota', 'Volkswagen',\n",
    "       'Volvo', 'smart']\n",
    "\n",
    "oe = OrdinalEncoder(categories=[categories, transmission_categories, brand_categories], handle_unknown=\"use_encoded_value\", unknown_value = -1)\n",
    "oe_data = oe.fit_transform(df[[\"model_year\",'Transmission','brand']])\n",
    "df[[\"model_year\",'Transmission','brand']] = oe_data\n"
   ]
  },
  {
   "cell_type": "code",
   "execution_count": 71,
   "metadata": {
    "id": "7ys5r78FLgYm"
   },
   "outputs": [],
   "source": [
    "from sklearn.preprocessing import LabelEncoder\n",
    "\n",
    "target_columns = ['clean_title', 'fuel_type', 'model','ext_col', 'int_col']\n",
    "\n",
    "le = LabelEncoder()\n",
    "\n",
    "# Apply label encoding\n",
    "for col in target_columns:\n",
    "    df[col] = le.fit_transform(df[col])"
   ]
  },
  {
   "cell_type": "code",
   "execution_count": 72,
   "metadata": {
    "id": "Di89Ho5-rvLN"
   },
   "outputs": [],
   "source": [
    "# from sklearn.preprocessing import OneHotEncoder\n",
    "\n",
    "# ohe = OneHotEncoder(sparse_output = False, drop = \"first\")\n",
    "\n",
    "# arr = ohe.fit_transform(df[['brand']])\n",
    "\n",
    "\n"
   ]
  },
  {
   "cell_type": "code",
   "execution_count": 73,
   "metadata": {},
   "outputs": [],
   "source": [
    "# from sklearn.preprocessing import OneHotEncoder\n",
    "\n",
    "# ohe = OneHotEncoder(sparse=False, drop=\"first\")\n",
    "\n",
    "# arr = ohe.fit_transform(df[['brand']])\n",
    "# df_encoded = pd.DataFrame(arr, columns=ohe.get_feature_names_out(['brand']))\n",
    "\n",
    "# # Concatenate the new one-hot encoded columns to the original DataFrame\n",
    "# df = pd.concat([df, df_encoded], axis=1)"
   ]
  },
  {
   "cell_type": "code",
   "execution_count": 74,
   "metadata": {
    "id": "gDKPz6rheaSv"
   },
   "outputs": [],
   "source": [
    "# one_hot_df=pd.DataFrame(data = arr, columns = ohe.get_feature_names_out(), index = df.index)\n",
    "# df = pd.concat([df, one_hot_df], axis=1)\n",
    "# df"
   ]
  },
  {
   "cell_type": "code",
   "execution_count": 75,
   "metadata": {
    "id": "alKYzfBLs69y"
   },
   "outputs": [],
   "source": [
    "df['accident'] = df['accident'].astype(int)"
   ]
  },
  {
   "cell_type": "code",
   "execution_count": 76,
   "metadata": {
    "colab": {
     "base_uri": "https://localhost:8080/"
    },
    "id": "k7fsHUpNtHUs",
    "outputId": "3054312f-d333-46fe-d7ea-49d92ee77b2b"
   },
   "outputs": [
    {
     "data": {
      "text/plain": [
       "(3964, 15)"
      ]
     },
     "execution_count": 76,
     "metadata": {},
     "output_type": "execute_result"
    }
   ],
   "source": [
    "df.shape"
   ]
  },
  {
   "cell_type": "code",
   "execution_count": 77,
   "metadata": {
    "scrolled": true
   },
   "outputs": [
    {
     "data": {
      "text/plain": [
       "horsepower       197\n",
       "Displacement     193\n",
       "Cylinders        900\n",
       "Gear            1428\n",
       "dtype: int64"
      ]
     },
     "execution_count": 77,
     "metadata": {},
     "output_type": "execute_result"
    }
   ],
   "source": [
    "df.isnull().sum()[df.isnull().sum()>0] "
   ]
  },
  {
   "cell_type": "code",
   "execution_count": 78,
   "metadata": {},
   "outputs": [
    {
     "data": {
      "text/plain": [
       "horsepower       197\n",
       "Displacement     193\n",
       "Cylinders        900\n",
       "Gear            1428\n",
       "dtype: int64"
      ]
     },
     "execution_count": 78,
     "metadata": {},
     "output_type": "execute_result"
    }
   ],
   "source": [
    "df.isnull().sum()[df.isnull().sum()>0]\n"
   ]
  },
  {
   "cell_type": "markdown",
   "metadata": {
    "jp-MarkdownHeadingCollapsed": true
   },
   "source": [
    " ## Outlier Detector"
   ]
  },
  {
   "cell_type": "code",
   "execution_count": 79,
   "metadata": {},
   "outputs": [],
   "source": [
    "# plt.boxplot(df['Price'], vert=False)\n",
    "# plt.title(\"Detecting outliers using Boxplot\")\n",
    "# plt.xlabel('Sample')\n",
    "# plt.show()"
   ]
  },
  {
   "cell_type": "code",
   "execution_count": 80,
   "metadata": {},
   "outputs": [
    {
     "name": "stdout",
     "output_type": "stream",
     "text": [
      "Outliers from Z-scores method:  [7.7406644019172415, 12.942039823273047, 12.971535836496138, 14.483850056813651, 13.099872339568797, 7.600902459542082, 13.016991750573663, 13.45166712454693, 14.898698839173656, 13.384726103409099, 13.102150465953114, 13.10011776845701, 13.527761816623505, 13.303016877097587, 13.060275185090907, 12.89896979483491, 13.0169828615465, 13.081530966163154, 14.284888991816091, 12.959844447906553, 7.7406644019172415, 13.105900606573208, 12.899094818276968]\n"
     ]
    },
    {
     "data": {
      "text/plain": [
       "23"
      ]
     },
     "execution_count": 80,
     "metadata": {},
     "output_type": "execute_result"
    }
   ],
   "source": [
    "outliers = []\n",
    "def detect_outliers_zscore(data):\n",
    "    thres = 3\n",
    "    mean = np.mean(data)\n",
    "    std = np.std(data)\n",
    "    # print(mean, std)\n",
    "    for i in data:\n",
    "        z_score = (i-mean)/std\n",
    "        if (np.abs(z_score) > thres):\n",
    "            outliers.append(i)\n",
    "    return outliers# Driver code\n",
    "sample_outliers = detect_outliers_zscore(np.log(df['Price']))\n",
    "print(\"Outliers from Z-scores method: \", sample_outliers)\n",
    "len(sample_outliers)"
   ]
  },
  {
   "cell_type": "code",
   "execution_count": 81,
   "metadata": {},
   "outputs": [
    {
     "name": "stdout",
     "output_type": "stream",
     "text": [
      "Outliers from Z-scores method:  [7.7406644019172415, 12.942039823273047, 12.971535836496138, 14.483850056813651, 13.099872339568797, 7.600902459542082, 13.016991750573663, 13.45166712454693, 14.898698839173656, 13.384726103409099, 13.102150465953114, 13.10011776845701, 13.527761816623505, 13.303016877097587, 13.060275185090907, 12.89896979483491, 13.0169828615465, 13.081530966163154, 14.284888991816091, 12.959844447906553, 7.7406644019172415, 13.105900606573208, 12.899094818276968]\n"
     ]
    }
   ],
   "source": [
    "def detect_outliers_zscore(data):\n",
    "    outliers = []\n",
    "    thres = 3\n",
    "    mean = np.mean(data)\n",
    "    std = np.std(data)\n",
    "    for i in data:\n",
    "        z_score = (i - mean) / std\n",
    "        if np.abs(z_score) > thres:\n",
    "            outliers.append(i)\n",
    "    return outliers\n",
    "\n",
    "sample_outliers = detect_outliers_zscore(np.log(df['Price']))\n",
    "print(\"Outliers from Z-scores method: \", sample_outliers)\n",
    "\n",
    "mean_price = np.mean(df['Price'])\n",
    "\n",
    "# Replace outliers with the mean\n",
    "for outlier in sample_outliers:\n",
    "    df.loc[df['Price'] == outlier, 'Price'] = mean_price"
   ]
  },
  {
   "cell_type": "code",
   "execution_count": 82,
   "metadata": {},
   "outputs": [
    {
     "name": "stdout",
     "output_type": "stream",
     "text": [
      "10.30931833841053\n"
     ]
    },
    {
     "data": {
      "text/plain": [
       "0.8451084936081167"
      ]
     },
     "execution_count": 82,
     "metadata": {},
     "output_type": "execute_result"
    }
   ],
   "source": [
    "print((np.log(df['Price'])).mean())\n",
    "(np.log(df['Price'])).std()"
   ]
  },
  {
   "cell_type": "code",
   "execution_count": 83,
   "metadata": {},
   "outputs": [
    {
     "data": {
      "text/plain": [
       "<Axes: xlabel='d_in_km', ylabel='Density'>"
      ]
     },
     "execution_count": 83,
     "metadata": {},
     "output_type": "execute_result"
    },
    {
     "data": {
      "image/png": "[encoded data removed]",
      "text/plain": [
       "<Figure size 640x480 with 1 Axes>"
      ]
     },
     "metadata": {},
     "output_type": "display_data"
    }
   ],
   "source": [
    "sns.kdeplot(np.sqrt(df['d_in_km']))"
   ]
  },
  {
   "cell_type": "code",
   "execution_count": 84,
   "metadata": {},
   "outputs": [],
   "source": [
    "# outliers = []\n",
    "# def detect_outliers_iqr(data):\n",
    "#     data = sorted(data)\n",
    "#     q1 = np.percentile(data, 25)\n",
    "#     q3 = np.percentile(data, 75)\n",
    "#     # print(q1, q3)\n",
    "#     IQR = q3-q1\n",
    "#     lwr_bound = q1-(1.5*IQR)\n",
    "#     upr_bound = q3+(1.5*IQR)\n",
    "#     # print(lwr_bound, upr_bound)\n",
    "#     for i in data: \n",
    "#         if (i<lwr_bound or i>upr_bound):\n",
    "#             outliers.append(i)\n",
    "#     return outliers# Driver code\n",
    "# sample_outliers = detect_outliers_iqr(df['Price'])\n",
    "# print(\"Outliers from IQR method: \", sample_outliers)\n",
    "# len(sample_outliers)"
   ]
  },
  {
   "cell_type": "code",
   "execution_count": 85,
   "metadata": {},
   "outputs": [],
   "source": [
    "# sns.kdeplot(df['Price'])"
   ]
  },
  {
   "cell_type": "code",
   "execution_count": 86,
   "metadata": {},
   "outputs": [],
   "source": [
    "# sns.kdeplot(np.sqrt(df[\"Price\"]))"
   ]
  },
  {
   "cell_type": "code",
   "execution_count": 87,
   "metadata": {},
   "outputs": [],
   "source": [
    "# df[\"Price_bin\"] = pd.cut(df['Price'], bins=np.arange(1000, 3000000, 250))\n",
    "# df['Price_bin'] = df['Price_bin'].astype(str).str.split(',').str[1].str.replace(']', '').astype(float)\n",
    "# len(df['Price_bin'].value_counts())"
   ]
  },
  {
   "cell_type": "code",
   "execution_count": 88,
   "metadata": {},
   "outputs": [],
   "source": [
    "# sns.boxplot(np.log(df[\"Price\"]))"
   ]
  },
  {
   "cell_type": "code",
   "execution_count": 89,
   "metadata": {},
   "outputs": [],
   "source": [
    "# sns.kdeplot(np.log(df[\"Price\"]))"
   ]
  },
  {
   "cell_type": "code",
   "execution_count": 90,
   "metadata": {},
   "outputs": [],
   "source": [
    "# outliers = []\n",
    "# def detect_outliers_zscore(data):\n",
    "#     thres = 3\n",
    "#     mean = np.mean(data)\n",
    "#     std = np.std(data)\n",
    "#     # print(mean, std)\n",
    "#     for i in data:\n",
    "#         z_score = (i-mean)/std\n",
    "#         if (np.abs(z_score) > thres):\n",
    "#             outliers.append(i)\n",
    "#     return outliers# Driver code\n",
    "# sample_outliers = detect_outliers_zscore(np.log(df[\"Price\"]))\n",
    "# print(\"Outliers from Z-scores method: \", sample_outliers)\n",
    "# len(sample_outliers)"
   ]
  },
  {
   "cell_type": "code",
   "execution_count": 91,
   "metadata": {},
   "outputs": [],
   "source": [
    "# np.mean(df['Price'])"
   ]
  },
  {
   "cell_type": "code",
   "execution_count": 92,
   "metadata": {},
   "outputs": [],
   "source": [
    "# np.log(df[\"Price\"]).mean()"
   ]
  },
  {
   "cell_type": "code",
   "execution_count": 93,
   "metadata": {},
   "outputs": [],
   "source": [
    "# median = np.median(np.log(df[\"Price\"]))\n",
    "# # Replace with median\n",
    "# for i in sample_outliers:     \n",
    "#     c = np.where(sample==i, 14, sample) \n",
    "#     print(\"Sample: \", np.log(df[\"Price\"]))) \n",
    "#     print(\"New array: \",c) # print(x.dtype)"
   ]
  },
  {
   "cell_type": "code",
   "execution_count": null,
   "metadata": {},
   "outputs": [],
   "source": []
  },
  {
   "cell_type": "markdown",
   "metadata": {},
   "source": [
    "## LOG Transform "
   ]
  },
  {
   "cell_type": "code",
   "execution_count": 103,
   "metadata": {},
   "outputs": [
    {
     "data": {
      "text/html": [
       "<div>\n",
       "<style scoped>\n",
       "    .dataframe tbody tr th:only-of-type {\n",
       "        vertical-align: middle;\n",
       "    }\n",
       "\n",
       "    .dataframe tbody tr th {\n",
       "        vertical-align: top;\n",
       "    }\n",
       "\n",
       "    .dataframe thead th {\n",
       "        text-align: right;\n",
       "    }\n",
       "</style>\n",
       "<table border=\"1\" class=\"dataframe\">\n",
       "  <thead>\n",
       "    <tr style=\"text-align: right;\">\n",
       "      <th></th>\n",
       "      <th>brand</th>\n",
       "      <th>model</th>\n",
       "      <th>model_year</th>\n",
       "      <th>fuel_type</th>\n",
       "      <th>ext_col</th>\n",
       "      <th>int_col</th>\n",
       "      <th>accident</th>\n",
       "      <th>clean_title</th>\n",
       "      <th>horsepower</th>\n",
       "      <th>Displacement</th>\n",
       "      <th>Cylinders</th>\n",
       "      <th>Gear</th>\n",
       "      <th>Transmission</th>\n",
       "      <th>d_in_km</th>\n",
       "      <th>Price</th>\n",
       "    </tr>\n",
       "  </thead>\n",
       "  <tbody>\n",
       "    <tr>\n",
       "      <th>0</th>\n",
       "      <td>14.0</td>\n",
       "      <td>1722</td>\n",
       "      <td>17.0</td>\n",
       "      <td>1</td>\n",
       "      <td>29</td>\n",
       "      <td>14</td>\n",
       "      <td>1</td>\n",
       "      <td>1</td>\n",
       "      <td>300.0</td>\n",
       "      <td>3.7</td>\n",
       "      <td>6</td>\n",
       "      <td>6.0</td>\n",
       "      <td>0.0</td>\n",
       "      <td>81600.0</td>\n",
       "      <td>9.239899</td>\n",
       "    </tr>\n",
       "    <tr>\n",
       "      <th>1</th>\n",
       "      <td>19.0</td>\n",
       "      <td>1166</td>\n",
       "      <td>25.0</td>\n",
       "      <td>2</td>\n",
       "      <td>184</td>\n",
       "      <td>70</td>\n",
       "      <td>1</td>\n",
       "      <td>1</td>\n",
       "      <td>333.0</td>\n",
       "      <td>3.8</td>\n",
       "      <td>NaN</td>\n",
       "      <td>8.0</td>\n",
       "      <td>0.0</td>\n",
       "      <td>55587.2</td>\n",
       "      <td>10.545473</td>\n",
       "    </tr>\n",
       "    <tr>\n",
       "      <th>2</th>\n",
       "      <td>27.0</td>\n",
       "      <td>1307</td>\n",
       "      <td>26.0</td>\n",
       "      <td>2</td>\n",
       "      <td>38</td>\n",
       "      <td>14</td>\n",
       "      <td>0</td>\n",
       "      <td>0</td>\n",
       "      <td>NaN</td>\n",
       "      <td>3.5</td>\n",
       "      <td>NaN</td>\n",
       "      <td>NaN</td>\n",
       "      <td>0.0</td>\n",
       "      <td>35795.2</td>\n",
       "      <td>10.907753</td>\n",
       "    </tr>\n",
       "    <tr>\n",
       "      <th>3</th>\n",
       "      <td>20.0</td>\n",
       "      <td>1224</td>\n",
       "      <td>19.0</td>\n",
       "      <td>3</td>\n",
       "      <td>29</td>\n",
       "      <td>14</td>\n",
       "      <td>0</td>\n",
       "      <td>1</td>\n",
       "      <td>354.0</td>\n",
       "      <td>3.5</td>\n",
       "      <td>6</td>\n",
       "      <td>7.0</td>\n",
       "      <td>0.0</td>\n",
       "      <td>142240.0</td>\n",
       "      <td>9.648595</td>\n",
       "    </tr>\n",
       "    <tr>\n",
       "      <th>4</th>\n",
       "      <td>3.0</td>\n",
       "      <td>1207</td>\n",
       "      <td>25.0</td>\n",
       "      <td>2</td>\n",
       "      <td>119</td>\n",
       "      <td>14</td>\n",
       "      <td>0</td>\n",
       "      <td>0</td>\n",
       "      <td>416.0</td>\n",
       "      <td>2.0</td>\n",
       "      <td>NaN</td>\n",
       "      <td>8.0</td>\n",
       "      <td>0.0</td>\n",
       "      <td>15736.0</td>\n",
       "      <td>10.463075</td>\n",
       "    </tr>\n",
       "    <tr>\n",
       "      <th>...</th>\n",
       "      <td>...</td>\n",
       "      <td>...</td>\n",
       "      <td>...</td>\n",
       "      <td>...</td>\n",
       "      <td>...</td>\n",
       "      <td>...</td>\n",
       "      <td>...</td>\n",
       "      <td>...</td>\n",
       "      <td>...</td>\n",
       "      <td>...</td>\n",
       "      <td>...</td>\n",
       "      <td>...</td>\n",
       "      <td>...</td>\n",
       "      <td>...</td>\n",
       "      <td>...</td>\n",
       "    </tr>\n",
       "    <tr>\n",
       "      <th>4004</th>\n",
       "      <td>5.0</td>\n",
       "      <td>475</td>\n",
       "      <td>27.0</td>\n",
       "      <td>2</td>\n",
       "      <td>50</td>\n",
       "      <td>74</td>\n",
       "      <td>0</td>\n",
       "      <td>1</td>\n",
       "      <td>650.0</td>\n",
       "      <td>6.0</td>\n",
       "      <td>NaN</td>\n",
       "      <td>8.0</td>\n",
       "      <td>0.0</td>\n",
       "      <td>1142.4</td>\n",
       "      <td>12.765546</td>\n",
       "    </tr>\n",
       "    <tr>\n",
       "      <th>4005</th>\n",
       "      <td>3.0</td>\n",
       "      <td>1445</td>\n",
       "      <td>26.0</td>\n",
       "      <td>2</td>\n",
       "      <td>29</td>\n",
       "      <td>14</td>\n",
       "      <td>0</td>\n",
       "      <td>1</td>\n",
       "      <td>349.0</td>\n",
       "      <td>3.0</td>\n",
       "      <td>6</td>\n",
       "      <td>1.0</td>\n",
       "      <td>1.0</td>\n",
       "      <td>17440.0</td>\n",
       "      <td>10.894886</td>\n",
       "    </tr>\n",
       "    <tr>\n",
       "      <th>4006</th>\n",
       "      <td>43.0</td>\n",
       "      <td>1656</td>\n",
       "      <td>26.0</td>\n",
       "      <td>6</td>\n",
       "      <td>29</td>\n",
       "      <td>14</td>\n",
       "      <td>0</td>\n",
       "      <td>0</td>\n",
       "      <td>NaN</td>\n",
       "      <td>NaN</td>\n",
       "      <td>NaN</td>\n",
       "      <td>NaN</td>\n",
       "      <td>0.0</td>\n",
       "      <td>3385.6</td>\n",
       "      <td>11.418593</td>\n",
       "    </tr>\n",
       "    <tr>\n",
       "      <th>4007</th>\n",
       "      <td>14.0</td>\n",
       "      <td>654</td>\n",
       "      <td>24.0</td>\n",
       "      <td>2</td>\n",
       "      <td>38</td>\n",
       "      <td>14</td>\n",
       "      <td>0</td>\n",
       "      <td>1</td>\n",
       "      <td>450.0</td>\n",
       "      <td>3.5</td>\n",
       "      <td>6</td>\n",
       "      <td>NaN</td>\n",
       "      <td>0.0</td>\n",
       "      <td>52800.0</td>\n",
       "      <td>11.050874</td>\n",
       "    </tr>\n",
       "    <tr>\n",
       "      <th>4008</th>\n",
       "      <td>4.0</td>\n",
       "      <td>1768</td>\n",
       "      <td>24.0</td>\n",
       "      <td>2</td>\n",
       "      <td>127</td>\n",
       "      <td>31</td>\n",
       "      <td>1</td>\n",
       "      <td>1</td>\n",
       "      <td>248.0</td>\n",
       "      <td>2.0</td>\n",
       "      <td>4</td>\n",
       "      <td>NaN</td>\n",
       "      <td>0.0</td>\n",
       "      <td>68800.0</td>\n",
       "      <td>10.596635</td>\n",
       "    </tr>\n",
       "  </tbody>\n",
       "</table>\n",
       "<p>3964 rows × 15 columns</p>\n",
       "</div>"
      ],
      "text/plain": [
       "      brand  model  model_year  fuel_type  ext_col  int_col  accident  \\\n",
       "0      14.0   1722        17.0          1       29       14         1   \n",
       "1      19.0   1166        25.0          2      184       70         1   \n",
       "2      27.0   1307        26.0          2       38       14         0   \n",
       "3      20.0   1224        19.0          3       29       14         0   \n",
       "4       3.0   1207        25.0          2      119       14         0   \n",
       "...     ...    ...         ...        ...      ...      ...       ...   \n",
       "4004    5.0    475        27.0          2       50       74         0   \n",
       "4005    3.0   1445        26.0          2       29       14         0   \n",
       "4006   43.0   1656        26.0          6       29       14         0   \n",
       "4007   14.0    654        24.0          2       38       14         0   \n",
       "4008    4.0   1768        24.0          2      127       31         1   \n",
       "\n",
       "      clean_title  horsepower  Displacement Cylinders  Gear  Transmission  \\\n",
       "0               1       300.0           3.7         6   6.0           0.0   \n",
       "1               1       333.0           3.8       NaN   8.0           0.0   \n",
       "2               0         NaN           3.5       NaN   NaN           0.0   \n",
       "3               1       354.0           3.5         6   7.0           0.0   \n",
       "4               0       416.0           2.0       NaN   8.0           0.0   \n",
       "...           ...         ...           ...       ...   ...           ...   \n",
       "4004            1       650.0           6.0       NaN   8.0           0.0   \n",
       "4005            1       349.0           3.0         6   1.0           1.0   \n",
       "4006            0         NaN           NaN       NaN   NaN           0.0   \n",
       "4007            1       450.0           3.5         6   NaN           0.0   \n",
       "4008            1       248.0           2.0         4   NaN           0.0   \n",
       "\n",
       "       d_in_km      Price  \n",
       "0      81600.0   9.239899  \n",
       "1      55587.2  10.545473  \n",
       "2      35795.2  10.907753  \n",
       "3     142240.0   9.648595  \n",
       "4      15736.0  10.463075  \n",
       "...        ...        ...  \n",
       "4004    1142.4  12.765546  \n",
       "4005   17440.0  10.894886  \n",
       "4006    3385.6  11.418593  \n",
       "4007   52800.0  11.050874  \n",
       "4008   68800.0  10.596635  \n",
       "\n",
       "[3964 rows x 15 columns]"
      ]
     },
     "execution_count": 103,
     "metadata": {},
     "output_type": "execute_result"
    }
   ],
   "source": [
    "df_nw = df.copy()\n",
    "df_nw['Price'] = np.log(df[\"Price\"])\n",
    "\n",
    "df_nw['Price']\n",
    "df_nw"
   ]
  },
  {
   "cell_type": "markdown",
   "metadata": {},
   "source": [
    "## ** Splitting the data **"
   ]
  },
  {
   "cell_type": "code",
   "execution_count": 104,
   "metadata": {
    "colab": {
     "base_uri": "https://localhost:8080/",
     "height": 424
    },
    "id": "0nx5XbQDpkBe",
    "outputId": "ecaa2223-2490-4422-c5a1-825083e22b71"
   },
   "outputs": [
    {
     "data": {
      "text/html": [
       "<div>\n",
       "<style scoped>\n",
       "    .dataframe tbody tr th:only-of-type {\n",
       "        vertical-align: middle;\n",
       "    }\n",
       "\n",
       "    .dataframe tbody tr th {\n",
       "        vertical-align: top;\n",
       "    }\n",
       "\n",
       "    .dataframe thead th {\n",
       "        text-align: right;\n",
       "    }\n",
       "</style>\n",
       "<table border=\"1\" class=\"dataframe\">\n",
       "  <thead>\n",
       "    <tr style=\"text-align: right;\">\n",
       "      <th></th>\n",
       "      <th>brand</th>\n",
       "      <th>model</th>\n",
       "      <th>model_year</th>\n",
       "      <th>fuel_type</th>\n",
       "      <th>ext_col</th>\n",
       "      <th>int_col</th>\n",
       "      <th>accident</th>\n",
       "      <th>clean_title</th>\n",
       "      <th>horsepower</th>\n",
       "      <th>Displacement</th>\n",
       "      <th>Cylinders</th>\n",
       "      <th>Gear</th>\n",
       "      <th>Transmission</th>\n",
       "      <th>d_in_km</th>\n",
       "      <th>Price</th>\n",
       "    </tr>\n",
       "  </thead>\n",
       "  <tbody>\n",
       "    <tr>\n",
       "      <th>0</th>\n",
       "      <td>14.0</td>\n",
       "      <td>1722</td>\n",
       "      <td>17.0</td>\n",
       "      <td>1</td>\n",
       "      <td>29</td>\n",
       "      <td>14</td>\n",
       "      <td>1</td>\n",
       "      <td>1</td>\n",
       "      <td>300.0</td>\n",
       "      <td>3.7</td>\n",
       "      <td>6</td>\n",
       "      <td>6.0</td>\n",
       "      <td>0.0</td>\n",
       "      <td>81600.0</td>\n",
       "      <td>9.239899</td>\n",
       "    </tr>\n",
       "    <tr>\n",
       "      <th>1</th>\n",
       "      <td>19.0</td>\n",
       "      <td>1166</td>\n",
       "      <td>25.0</td>\n",
       "      <td>2</td>\n",
       "      <td>184</td>\n",
       "      <td>70</td>\n",
       "      <td>1</td>\n",
       "      <td>1</td>\n",
       "      <td>333.0</td>\n",
       "      <td>3.8</td>\n",
       "      <td>NaN</td>\n",
       "      <td>8.0</td>\n",
       "      <td>0.0</td>\n",
       "      <td>55587.2</td>\n",
       "      <td>10.545473</td>\n",
       "    </tr>\n",
       "    <tr>\n",
       "      <th>2</th>\n",
       "      <td>27.0</td>\n",
       "      <td>1307</td>\n",
       "      <td>26.0</td>\n",
       "      <td>2</td>\n",
       "      <td>38</td>\n",
       "      <td>14</td>\n",
       "      <td>0</td>\n",
       "      <td>0</td>\n",
       "      <td>NaN</td>\n",
       "      <td>3.5</td>\n",
       "      <td>NaN</td>\n",
       "      <td>NaN</td>\n",
       "      <td>0.0</td>\n",
       "      <td>35795.2</td>\n",
       "      <td>10.907753</td>\n",
       "    </tr>\n",
       "    <tr>\n",
       "      <th>3</th>\n",
       "      <td>20.0</td>\n",
       "      <td>1224</td>\n",
       "      <td>19.0</td>\n",
       "      <td>3</td>\n",
       "      <td>29</td>\n",
       "      <td>14</td>\n",
       "      <td>0</td>\n",
       "      <td>1</td>\n",
       "      <td>354.0</td>\n",
       "      <td>3.5</td>\n",
       "      <td>6</td>\n",
       "      <td>7.0</td>\n",
       "      <td>0.0</td>\n",
       "      <td>142240.0</td>\n",
       "      <td>9.648595</td>\n",
       "    </tr>\n",
       "    <tr>\n",
       "      <th>4</th>\n",
       "      <td>3.0</td>\n",
       "      <td>1207</td>\n",
       "      <td>25.0</td>\n",
       "      <td>2</td>\n",
       "      <td>119</td>\n",
       "      <td>14</td>\n",
       "      <td>0</td>\n",
       "      <td>0</td>\n",
       "      <td>416.0</td>\n",
       "      <td>2.0</td>\n",
       "      <td>NaN</td>\n",
       "      <td>8.0</td>\n",
       "      <td>0.0</td>\n",
       "      <td>15736.0</td>\n",
       "      <td>10.463075</td>\n",
       "    </tr>\n",
       "    <tr>\n",
       "      <th>...</th>\n",
       "      <td>...</td>\n",
       "      <td>...</td>\n",
       "      <td>...</td>\n",
       "      <td>...</td>\n",
       "      <td>...</td>\n",
       "      <td>...</td>\n",
       "      <td>...</td>\n",
       "      <td>...</td>\n",
       "      <td>...</td>\n",
       "      <td>...</td>\n",
       "      <td>...</td>\n",
       "      <td>...</td>\n",
       "      <td>...</td>\n",
       "      <td>...</td>\n",
       "      <td>...</td>\n",
       "    </tr>\n",
       "    <tr>\n",
       "      <th>4004</th>\n",
       "      <td>5.0</td>\n",
       "      <td>475</td>\n",
       "      <td>27.0</td>\n",
       "      <td>2</td>\n",
       "      <td>50</td>\n",
       "      <td>74</td>\n",
       "      <td>0</td>\n",
       "      <td>1</td>\n",
       "      <td>650.0</td>\n",
       "      <td>6.0</td>\n",
       "      <td>NaN</td>\n",
       "      <td>8.0</td>\n",
       "      <td>0.0</td>\n",
       "      <td>1142.4</td>\n",
       "      <td>12.765546</td>\n",
       "    </tr>\n",
       "    <tr>\n",
       "      <th>4005</th>\n",
       "      <td>3.0</td>\n",
       "      <td>1445</td>\n",
       "      <td>26.0</td>\n",
       "      <td>2</td>\n",
       "      <td>29</td>\n",
       "      <td>14</td>\n",
       "      <td>0</td>\n",
       "      <td>1</td>\n",
       "      <td>349.0</td>\n",
       "      <td>3.0</td>\n",
       "      <td>6</td>\n",
       "      <td>1.0</td>\n",
       "      <td>1.0</td>\n",
       "      <td>17440.0</td>\n",
       "      <td>10.894886</td>\n",
       "    </tr>\n",
       "    <tr>\n",
       "      <th>4006</th>\n",
       "      <td>43.0</td>\n",
       "      <td>1656</td>\n",
       "      <td>26.0</td>\n",
       "      <td>6</td>\n",
       "      <td>29</td>\n",
       "      <td>14</td>\n",
       "      <td>0</td>\n",
       "      <td>0</td>\n",
       "      <td>NaN</td>\n",
       "      <td>NaN</td>\n",
       "      <td>NaN</td>\n",
       "      <td>NaN</td>\n",
       "      <td>0.0</td>\n",
       "      <td>3385.6</td>\n",
       "      <td>11.418593</td>\n",
       "    </tr>\n",
       "    <tr>\n",
       "      <th>4007</th>\n",
       "      <td>14.0</td>\n",
       "      <td>654</td>\n",
       "      <td>24.0</td>\n",
       "      <td>2</td>\n",
       "      <td>38</td>\n",
       "      <td>14</td>\n",
       "      <td>0</td>\n",
       "      <td>1</td>\n",
       "      <td>450.0</td>\n",
       "      <td>3.5</td>\n",
       "      <td>6</td>\n",
       "      <td>NaN</td>\n",
       "      <td>0.0</td>\n",
       "      <td>52800.0</td>\n",
       "      <td>11.050874</td>\n",
       "    </tr>\n",
       "    <tr>\n",
       "      <th>4008</th>\n",
       "      <td>4.0</td>\n",
       "      <td>1768</td>\n",
       "      <td>24.0</td>\n",
       "      <td>2</td>\n",
       "      <td>127</td>\n",
       "      <td>31</td>\n",
       "      <td>1</td>\n",
       "      <td>1</td>\n",
       "      <td>248.0</td>\n",
       "      <td>2.0</td>\n",
       "      <td>4</td>\n",
       "      <td>NaN</td>\n",
       "      <td>0.0</td>\n",
       "      <td>68800.0</td>\n",
       "      <td>10.596635</td>\n",
       "    </tr>\n",
       "  </tbody>\n",
       "</table>\n",
       "<p>3964 rows × 15 columns</p>\n",
       "</div>"
      ],
      "text/plain": [
       "      brand  model  model_year  fuel_type  ext_col  int_col  accident  \\\n",
       "0      14.0   1722        17.0          1       29       14         1   \n",
       "1      19.0   1166        25.0          2      184       70         1   \n",
       "2      27.0   1307        26.0          2       38       14         0   \n",
       "3      20.0   1224        19.0          3       29       14         0   \n",
       "4       3.0   1207        25.0          2      119       14         0   \n",
       "...     ...    ...         ...        ...      ...      ...       ...   \n",
       "4004    5.0    475        27.0          2       50       74         0   \n",
       "4005    3.0   1445        26.0          2       29       14         0   \n",
       "4006   43.0   1656        26.0          6       29       14         0   \n",
       "4007   14.0    654        24.0          2       38       14         0   \n",
       "4008    4.0   1768        24.0          2      127       31         1   \n",
       "\n",
       "      clean_title  horsepower  Displacement Cylinders  Gear  Transmission  \\\n",
       "0               1       300.0           3.7         6   6.0           0.0   \n",
       "1               1       333.0           3.8       NaN   8.0           0.0   \n",
       "2               0         NaN           3.5       NaN   NaN           0.0   \n",
       "3               1       354.0           3.5         6   7.0           0.0   \n",
       "4               0       416.0           2.0       NaN   8.0           0.0   \n",
       "...           ...         ...           ...       ...   ...           ...   \n",
       "4004            1       650.0           6.0       NaN   8.0           0.0   \n",
       "4005            1       349.0           3.0         6   1.0           1.0   \n",
       "4006            0         NaN           NaN       NaN   NaN           0.0   \n",
       "4007            1       450.0           3.5         6   NaN           0.0   \n",
       "4008            1       248.0           2.0         4   NaN           0.0   \n",
       "\n",
       "       d_in_km      Price  \n",
       "0      81600.0   9.239899  \n",
       "1      55587.2  10.545473  \n",
       "2      35795.2  10.907753  \n",
       "3     142240.0   9.648595  \n",
       "4      15736.0  10.463075  \n",
       "...        ...        ...  \n",
       "4004    1142.4  12.765546  \n",
       "4005   17440.0  10.894886  \n",
       "4006    3385.6  11.418593  \n",
       "4007   52800.0  11.050874  \n",
       "4008   68800.0  10.596635  \n",
       "\n",
       "[3964 rows x 15 columns]"
      ]
     },
     "execution_count": 104,
     "metadata": {},
     "output_type": "execute_result"
    }
   ],
   "source": [
    "# df_nw=df.drop(columns=['price','milage','engine','transmission'])\n",
    "df_nw"
   ]
  },
  {
   "cell_type": "code",
   "execution_count": 105,
   "metadata": {
    "id": "UCLbvLOwqWKg"
   },
   "outputs": [],
   "source": [
    "X = df_nw.drop(columns=[\"Price\"])\n",
    "y = df_nw[\"Price\"]"
   ]
  },
  {
   "cell_type": "code",
   "execution_count": 106,
   "metadata": {},
   "outputs": [],
   "source": [
    "# df[df[\"Price_bin\"].isnull()>0]\n",
    "# df['Price_bin'] = np.where(df['Price'] == 2000, 2000, np.where(df['Price'] == 2954083, 2954083, df['Price_bin']))"
   ]
  },
  {
   "cell_type": "code",
   "execution_count": 107,
   "metadata": {
    "id": "OmGD0DMDqWF2"
   },
   "outputs": [],
   "source": [
    "train, test, target, target_test = train_test_split(X, y, test_size=0.2, random_state=0)"
   ]
  },
  {
   "cell_type": "code",
   "execution_count": 108,
   "metadata": {},
   "outputs": [],
   "source": [
    "scaler = StandardScaler()\n",
    "train = pd.DataFrame(scaler.fit_transform(train), columns = train.columns)"
   ]
  },
  {
   "cell_type": "code",
   "execution_count": 109,
   "metadata": {},
   "outputs": [
    {
     "name": "stdout",
     "output_type": "stream",
     "text": [
      "shape of X: (3964, 14)\n",
      "shape of X_train: (2536, 14)\n",
      "shape of X_test: (635, 14)\n",
      "shape of y_train: (2536,)\n",
      "shape of y_test: (635,)\n"
     ]
    }
   ],
   "source": [
    "X_train, X_test, y_train, y_test = train_test_split(train, target, test_size=0.2, random_state=0)\n",
    "print(f\"shape of X: {X.shape}\")\n",
    "print(f\"shape of X_train: {X_train.shape}\")\n",
    "print(f\"shape of X_test: {X_test.shape}\")\n",
    "print(f\"shape of y_train: {y_train.shape}\")\n",
    "print(f\"shape of y_test: {y_test.shape}\")"
   ]
  },
  {
   "cell_type": "code",
   "execution_count": 110,
   "metadata": {},
   "outputs": [
    {
     "name": "stdout",
     "output_type": "stream",
     "text": [
      "<class 'pandas.core.frame.DataFrame'>\n",
      "Index: 2536 entries, 1922 to 2732\n",
      "Data columns (total 14 columns):\n",
      " #   Column        Non-Null Count  Dtype  \n",
      "---  ------        --------------  -----  \n",
      " 0   brand         2536 non-null   float64\n",
      " 1   model         2536 non-null   float64\n",
      " 2   model_year    2536 non-null   float64\n",
      " 3   fuel_type     2536 non-null   float64\n",
      " 4   ext_col       2536 non-null   float64\n",
      " 5   int_col       2536 non-null   float64\n",
      " 6   accident      2536 non-null   float64\n",
      " 7   clean_title   2536 non-null   float64\n",
      " 8   horsepower    2403 non-null   float64\n",
      " 9   Displacement  2405 non-null   float64\n",
      " 10  Cylinders     1930 non-null   float64\n",
      " 11  Gear          1617 non-null   float64\n",
      " 12  Transmission  2536 non-null   float64\n",
      " 13  d_in_km       2536 non-null   float64\n",
      "dtypes: float64(14)\n",
      "memory usage: 297.2 KB\n"
     ]
    }
   ],
   "source": [
    "X_train.info()"
   ]
  },
  {
   "cell_type": "code",
   "execution_count": 111,
   "metadata": {},
   "outputs": [
    {
     "name": "stdout",
     "output_type": "stream",
     "text": [
      "<class 'pandas.core.series.Series'>\n",
      "Index: 2536 entries, 1854 to 3245\n",
      "Series name: Price\n",
      "Non-Null Count  Dtype  \n",
      "--------------  -----  \n",
      "2536 non-null   float64\n",
      "dtypes: float64(1)\n",
      "memory usage: 39.6 KB\n"
     ]
    }
   ],
   "source": [
    "y_train.info()"
   ]
  },
  {
   "cell_type": "code",
   "execution_count": 112,
   "metadata": {},
   "outputs": [],
   "source": [
    "# handling missing values\n",
    "from sklearn.impute import SimpleImputer\n",
    "missing_values=[\"horsepower\",\"Displacement\",\"Cylinders\",\"Gear\"]\n",
    "si=SimpleImputer(strategy='median')\n",
    "X_train[missing_values] = si.fit_transform(X_train[missing_values])\n",
    "X_test[missing_values] = si.transform(X_test[missing_values])"
   ]
  },
  {
   "cell_type": "code",
   "execution_count": 113,
   "metadata": {},
   "outputs": [],
   "source": [
    "# scaler = StandardScaler()\n",
    "# X_train = pd.DataFrame(scaler.fit_transform(X_train), columns = X_train.columns)"
   ]
  },
  {
   "cell_type": "code",
   "execution_count": 114,
   "metadata": {},
   "outputs": [
    {
     "data": {
      "text/plain": [
       "Series([], dtype: int64)"
      ]
     },
     "execution_count": 114,
     "metadata": {},
     "output_type": "execute_result"
    }
   ],
   "source": [
    "X_train.isnull().sum()[X_train.isnull().sum()>0]"
   ]
  },
  {
   "cell_type": "code",
   "execution_count": 115,
   "metadata": {
    "id": "ItCkf6NCqVyV"
   },
   "outputs": [],
   "source": [
    "acc_train_r2 = []\n",
    "acc_test_r2 = []\n",
    "acc_train_d = []\n",
    "acc_test_d = []\n",
    "acc_train_rmse = []\n",
    "acc_test_rmse = []\n",
    "def acc_d(y_meas, y_pred):\n",
    "    # Relative error between predicted y_pred and measured y_meas values\n",
    "    return mean_absolute_error(y_meas, y_pred)*len(y_meas)/sum(abs(y_meas))\n",
    "\n",
    "def acc_rmse(y_meas, y_pred):\n",
    "    # RMSE between predicted y_pred and measured y_meas values\n",
    "    return (mean_squared_error(y_meas, y_pred))**0.5"
   ]
  },
  {
   "cell_type": "code",
   "execution_count": 116,
   "metadata": {
    "id": "qE4d74OEqVpt"
   },
   "outputs": [],
   "source": [
    "def acc_model(num,model,train,test):\n",
    "    # Calculation of accuracy of model акщь Sklearn by different metrics   \n",
    "  \n",
    "    global acc_train_r2, acc_test_r2, acc_train_d, acc_test_d, acc_train_rmse, acc_test_rmse\n",
    "    \n",
    "    ytrain = model.predict(X_train)  \n",
    "    ytest = model.predict(X_test)\n",
    "\n",
    "    print('y_train= ', y_train[:5].values)\n",
    "    print('ytrain = ', ytrain[:5])\n",
    "\n",
    "    acc_train_r2_num = round(r2_score(y_train, ytrain) * 100, 2)\n",
    "    print('acc(r2_score) for train =', acc_train_r2_num)   \n",
    "    acc_train_r2.insert(num, acc_train_r2_num)\n",
    "\n",
    "    acc_train_d_num = round(acc_d(y_train, ytrain) * 100, 2)\n",
    "    print('acc(relative error) for train =', acc_train_d_num)   \n",
    "    acc_train_d.insert(num, acc_train_d_num)\n",
    "\n",
    "    acc_train_rmse_num = round(acc_rmse(y_train, ytrain), 2)\n",
    "    print('acc(rmse) for train =', acc_train_rmse_num)  \n",
    "    print(\"--------------------------------------------\")\n",
    "    acc_train_rmse.insert(num, acc_train_rmse_num)\n",
    "\n",
    "    print('y_test =', y_test[:5].values)\n",
    "    print('ytest =', ytest[:5])\n",
    "    \n",
    "    acc_test_r2_num = round(r2_score(y_test, ytest) * 100, 2)\n",
    "    print('acc(r2_score) for test =', acc_test_r2_num)\n",
    "    acc_test_r2.insert(num, acc_test_r2_num)\n",
    "    \n",
    "    acc_test_d_num = round(acc_d(y_test, ytest) * 100, 2)\n",
    "    print('acc(relative error) for test =', acc_test_d_num)\n",
    "    acc_test_d.insert(num, acc_test_d_num)\n",
    "    \n",
    "    acc_test_rmse_num = round(acc_rmse(y_test, ytest), 2)\n",
    "    print('acc(rmse) for test =', acc_test_rmse_num)\n",
    "    acc_test_rmse.insert(num, acc_test_rmse_num)"
   ]
  },
  {
   "cell_type": "code",
   "execution_count": 117,
   "metadata": {},
   "outputs": [],
   "source": [
    "# def important_features(model):\n",
    "#     imp_df = pd.DataFrame({\n",
    "#         \"Varname\": X_train.columns,\n",
    "#         \"Imp\": model.feature_importances_\n",
    "#     })\n",
    "    \n",
    "#     imp_df.sort_values(by = [\"Imp\"], ascending = False, inplace = True)\n",
    "    \n",
    "    \n",
    "#     sns.barplot(data=imp_df.sort_values(by=\"Imp\", ascending=False), x=\"Imp\", y=\"Varname\")"
   ]
  },
  {
   "cell_type": "code",
   "execution_count": 118,
   "metadata": {
    "scrolled": true
   },
   "outputs": [],
   "source": [
    "# model = LinearRegression(random_state=42)\n",
    "# feature_selector = SelectFromModel(model)\n",
    "# model.fit(X_train, y_train)\n",
    "\n",
    "# important_features = X_train.columns[feature_selector.get_support()]\n",
    "# print(\"Important Features:\", important_features)"
   ]
  },
  {
   "cell_type": "code",
   "execution_count": 119,
   "metadata": {},
   "outputs": [
    {
     "data": {
      "text/html": [
       "<div>\n",
       "<style scoped>\n",
       "    .dataframe tbody tr th:only-of-type {\n",
       "        vertical-align: middle;\n",
       "    }\n",
       "\n",
       "    .dataframe tbody tr th {\n",
       "        vertical-align: top;\n",
       "    }\n",
       "\n",
       "    .dataframe thead th {\n",
       "        text-align: right;\n",
       "    }\n",
       "</style>\n",
       "<table border=\"1\" class=\"dataframe\">\n",
       "  <thead>\n",
       "    <tr style=\"text-align: right;\">\n",
       "      <th></th>\n",
       "      <th>brand</th>\n",
       "      <th>model</th>\n",
       "      <th>model_year</th>\n",
       "      <th>fuel_type</th>\n",
       "      <th>ext_col</th>\n",
       "      <th>int_col</th>\n",
       "      <th>accident</th>\n",
       "      <th>clean_title</th>\n",
       "      <th>horsepower</th>\n",
       "      <th>Displacement</th>\n",
       "      <th>Cylinders</th>\n",
       "      <th>Gear</th>\n",
       "      <th>Transmission</th>\n",
       "      <th>d_in_km</th>\n",
       "    </tr>\n",
       "  </thead>\n",
       "  <tbody>\n",
       "    <tr>\n",
       "      <th>1922</th>\n",
       "      <td>-0.908030</td>\n",
       "      <td>1.414006</td>\n",
       "      <td>1.080050</td>\n",
       "      <td>-0.150143</td>\n",
       "      <td>0.272651</td>\n",
       "      <td>1.174088</td>\n",
       "      <td>-0.577472</td>\n",
       "      <td>0.421823</td>\n",
       "      <td>-1.122708</td>\n",
       "      <td>-1.684154</td>\n",
       "      <td>-0.155902</td>\n",
       "      <td>1.126658</td>\n",
       "      <td>-0.334196</td>\n",
       "      <td>-0.415032</td>\n",
       "    </tr>\n",
       "    <tr>\n",
       "      <th>491</th>\n",
       "      <td>-1.455553</td>\n",
       "      <td>1.287176</td>\n",
       "      <td>0.737378</td>\n",
       "      <td>-0.150143</td>\n",
       "      <td>1.323378</td>\n",
       "      <td>2.218372</td>\n",
       "      <td>-0.577472</td>\n",
       "      <td>0.421823</td>\n",
       "      <td>-1.075986</td>\n",
       "      <td>-0.909529</td>\n",
       "      <td>-1.342030</td>\n",
       "      <td>0.029720</td>\n",
       "      <td>-0.334196</td>\n",
       "      <td>-0.605908</td>\n",
       "    </tr>\n",
       "    <tr>\n",
       "      <th>1824</th>\n",
       "      <td>1.890422</td>\n",
       "      <td>1.627228</td>\n",
       "      <td>0.394705</td>\n",
       "      <td>2.921496</td>\n",
       "      <td>-1.128317</td>\n",
       "      <td>-0.539609</td>\n",
       "      <td>-0.577472</td>\n",
       "      <td>0.421823</td>\n",
       "      <td>0.434691</td>\n",
       "      <td>-1.191211</td>\n",
       "      <td>-1.342030</td>\n",
       "      <td>-1.798510</td>\n",
       "      <td>2.773532</td>\n",
       "      <td>-0.462450</td>\n",
       "    </tr>\n",
       "    <tr>\n",
       "      <th>1837</th>\n",
       "      <td>0.430360</td>\n",
       "      <td>-0.756813</td>\n",
       "      <td>-0.290639</td>\n",
       "      <td>-0.150143</td>\n",
       "      <td>1.323378</td>\n",
       "      <td>-0.539609</td>\n",
       "      <td>-0.577472</td>\n",
       "      <td>0.421823</td>\n",
       "      <td>-1.270661</td>\n",
       "      <td>-1.472893</td>\n",
       "      <td>-1.342030</td>\n",
       "      <td>0.029720</td>\n",
       "      <td>-0.334196</td>\n",
       "      <td>0.124773</td>\n",
       "    </tr>\n",
       "    <tr>\n",
       "      <th>1432</th>\n",
       "      <td>-1.212210</td>\n",
       "      <td>1.588628</td>\n",
       "      <td>-0.461975</td>\n",
       "      <td>-0.150143</td>\n",
       "      <td>1.323378</td>\n",
       "      <td>-0.539609</td>\n",
       "      <td>-0.577472</td>\n",
       "      <td>0.421823</td>\n",
       "      <td>0.434691</td>\n",
       "      <td>0.498880</td>\n",
       "      <td>1.030225</td>\n",
       "      <td>0.761012</td>\n",
       "      <td>-0.334196</td>\n",
       "      <td>-0.118150</td>\n",
       "    </tr>\n",
       "    <tr>\n",
       "      <th>...</th>\n",
       "      <td>...</td>\n",
       "      <td>...</td>\n",
       "      <td>...</td>\n",
       "      <td>...</td>\n",
       "      <td>...</td>\n",
       "      <td>...</td>\n",
       "      <td>...</td>\n",
       "      <td>...</td>\n",
       "      <td>...</td>\n",
       "      <td>...</td>\n",
       "      <td>...</td>\n",
       "      <td>...</td>\n",
       "      <td>...</td>\n",
       "      <td>...</td>\n",
       "    </tr>\n",
       "    <tr>\n",
       "      <th>763</th>\n",
       "      <td>-0.968866</td>\n",
       "      <td>-0.604249</td>\n",
       "      <td>0.737378</td>\n",
       "      <td>-0.150143</td>\n",
       "      <td>-1.128317</td>\n",
       "      <td>-0.539609</td>\n",
       "      <td>-0.577472</td>\n",
       "      <td>0.421823</td>\n",
       "      <td>0.590430</td>\n",
       "      <td>1.766448</td>\n",
       "      <td>1.030225</td>\n",
       "      <td>1.492304</td>\n",
       "      <td>-0.334196</td>\n",
       "      <td>1.067772</td>\n",
       "    </tr>\n",
       "    <tr>\n",
       "      <th>835</th>\n",
       "      <td>1.768750</td>\n",
       "      <td>0.026226</td>\n",
       "      <td>-3.203353</td>\n",
       "      <td>-0.150143</td>\n",
       "      <td>1.323378</td>\n",
       "      <td>-0.646715</td>\n",
       "      <td>-0.577472</td>\n",
       "      <td>0.421823</td>\n",
       "      <td>-1.029264</td>\n",
       "      <td>0.569300</td>\n",
       "      <td>-0.155902</td>\n",
       "      <td>-0.701572</td>\n",
       "      <td>-0.334196</td>\n",
       "      <td>2.846655</td>\n",
       "    </tr>\n",
       "    <tr>\n",
       "      <th>1653</th>\n",
       "      <td>1.221227</td>\n",
       "      <td>-1.679550</td>\n",
       "      <td>0.566041</td>\n",
       "      <td>-0.150143</td>\n",
       "      <td>-0.248222</td>\n",
       "      <td>0.959876</td>\n",
       "      <td>-0.577472</td>\n",
       "      <td>0.421823</td>\n",
       "      <td>0.395756</td>\n",
       "      <td>1.414345</td>\n",
       "      <td>1.030225</td>\n",
       "      <td>0.761012</td>\n",
       "      <td>-0.334196</td>\n",
       "      <td>-0.989114</td>\n",
       "    </tr>\n",
       "    <tr>\n",
       "      <th>2607</th>\n",
       "      <td>-0.603851</td>\n",
       "      <td>-0.481095</td>\n",
       "      <td>0.908714</td>\n",
       "      <td>-0.150143</td>\n",
       "      <td>-0.248222</td>\n",
       "      <td>-0.539609</td>\n",
       "      <td>-0.577472</td>\n",
       "      <td>0.421823</td>\n",
       "      <td>0.824040</td>\n",
       "      <td>-0.134904</td>\n",
       "      <td>-0.155902</td>\n",
       "      <td>1.492304</td>\n",
       "      <td>-0.334196</td>\n",
       "      <td>-0.742633</td>\n",
       "    </tr>\n",
       "    <tr>\n",
       "      <th>2732</th>\n",
       "      <td>0.187016</td>\n",
       "      <td>-0.016051</td>\n",
       "      <td>-1.318656</td>\n",
       "      <td>-0.150143</td>\n",
       "      <td>-1.128317</td>\n",
       "      <td>-0.646715</td>\n",
       "      <td>-0.577472</td>\n",
       "      <td>0.421823</td>\n",
       "      <td>0.278951</td>\n",
       "      <td>0.639720</td>\n",
       "      <td>1.030225</td>\n",
       "      <td>0.761012</td>\n",
       "      <td>-0.334196</td>\n",
       "      <td>0.701820</td>\n",
       "    </tr>\n",
       "  </tbody>\n",
       "</table>\n",
       "<p>2536 rows × 14 columns</p>\n",
       "</div>"
      ],
      "text/plain": [
       "         brand     model  model_year  fuel_type   ext_col   int_col  accident  \\\n",
       "1922 -0.908030  1.414006    1.080050  -0.150143  0.272651  1.174088 -0.577472   \n",
       "491  -1.455553  1.287176    0.737378  -0.150143  1.323378  2.218372 -0.577472   \n",
       "1824  1.890422  1.627228    0.394705   2.921496 -1.128317 -0.539609 -0.577472   \n",
       "1837  0.430360 -0.756813   -0.290639  -0.150143  1.323378 -0.539609 -0.577472   \n",
       "1432 -1.212210  1.588628   -0.461975  -0.150143  1.323378 -0.539609 -0.577472   \n",
       "...        ...       ...         ...        ...       ...       ...       ...   \n",
       "763  -0.968866 -0.604249    0.737378  -0.150143 -1.128317 -0.539609 -0.577472   \n",
       "835   1.768750  0.026226   -3.203353  -0.150143  1.323378 -0.646715 -0.577472   \n",
       "1653  1.221227 -1.679550    0.566041  -0.150143 -0.248222  0.959876 -0.577472   \n",
       "2607 -0.603851 -0.481095    0.908714  -0.150143 -0.248222 -0.539609 -0.577472   \n",
       "2732  0.187016 -0.016051   -1.318656  -0.150143 -1.128317 -0.646715 -0.577472   \n",
       "\n",
       "      clean_title  horsepower  Displacement  Cylinders      Gear  \\\n",
       "1922     0.421823   -1.122708     -1.684154  -0.155902  1.126658   \n",
       "491      0.421823   -1.075986     -0.909529  -1.342030  0.029720   \n",
       "1824     0.421823    0.434691     -1.191211  -1.342030 -1.798510   \n",
       "1837     0.421823   -1.270661     -1.472893  -1.342030  0.029720   \n",
       "1432     0.421823    0.434691      0.498880   1.030225  0.761012   \n",
       "...           ...         ...           ...        ...       ...   \n",
       "763      0.421823    0.590430      1.766448   1.030225  1.492304   \n",
       "835      0.421823   -1.029264      0.569300  -0.155902 -0.701572   \n",
       "1653     0.421823    0.395756      1.414345   1.030225  0.761012   \n",
       "2607     0.421823    0.824040     -0.134904  -0.155902  1.492304   \n",
       "2732     0.421823    0.278951      0.639720   1.030225  0.761012   \n",
       "\n",
       "      Transmission   d_in_km  \n",
       "1922     -0.334196 -0.415032  \n",
       "491      -0.334196 -0.605908  \n",
       "1824      2.773532 -0.462450  \n",
       "1837     -0.334196  0.124773  \n",
       "1432     -0.334196 -0.118150  \n",
       "...            ...       ...  \n",
       "763      -0.334196  1.067772  \n",
       "835      -0.334196  2.846655  \n",
       "1653     -0.334196 -0.989114  \n",
       "2607     -0.334196 -0.742633  \n",
       "2732     -0.334196  0.701820  \n",
       "\n",
       "[2536 rows x 14 columns]"
      ]
     },
     "execution_count": 119,
     "metadata": {},
     "output_type": "execute_result"
    }
   ],
   "source": [
    "X_train"
   ]
  },
  {
   "cell_type": "code",
   "execution_count": 120,
   "metadata": {
    "colab": {
     "base_uri": "https://localhost:8080/",
     "height": 442
    },
    "id": "Ok5Y0a3eqVlT",
    "outputId": "5cb7bfc2-74c0-40b7-c267-a5df7379c387",
    "scrolled": true
   },
   "outputs": [
    {
     "name": "stdout",
     "output_type": "stream",
     "text": [
      "y_train=  [10.25748391 10.37349118 10.6454249   9.66459564  9.79255599]\n",
      "ytrain =  [10.2081664  10.21284066 10.55694758  9.67649436 10.42875876]\n",
      "acc(r2_score) for train = 76.73\n",
      "acc(relative error) for train = 2.91\n",
      "acc(rmse) for train = 0.41\n",
      "--------------------------------------------\n",
      "y_test = [10.76848499 10.16585182 10.73639668 10.63344871 10.47728798]\n",
      "ytest = [10.97749707 10.46883523 11.26562475 10.67947095 10.383984  ]\n",
      "acc(r2_score) for test = 80.12\n",
      "acc(relative error) for test = 2.86\n",
      "acc(rmse) for test = 0.39\n"
     ]
    }
   ],
   "source": [
    " linreg = LinearRegression()\n",
    "linreg.fit(X_train, y_train)\n",
    "acc_model(0,linreg,X_train,X_test)"
   ]
  },
  {
   "cell_type": "code",
   "execution_count": 121,
   "metadata": {
    "id": "5-SMosoxqVgK"
   },
   "outputs": [
    {
     "name": "stdout",
     "output_type": "stream",
     "text": [
      "y_train=  [10.25748391 10.37349118 10.6454249   9.66459564  9.79255599]\n",
      "ytrain =  [10.28183671 10.30720449 10.74564418  9.48471809 10.25564801]\n",
      "acc(r2_score) for train = 88.15\n",
      "acc(relative error) for train = 1.95\n",
      "acc(rmse) for train = 0.29\n",
      "--------------------------------------------\n",
      "y_test = [10.76848499 10.16585182 10.73639668 10.63344871 10.47728798]\n",
      "ytest = [10.94481909 10.11599012 11.11363151 10.59542468 10.35724959]\n",
      "acc(r2_score) for test = 84.91\n",
      "acc(relative error) for test = 2.44\n",
      "acc(rmse) for test = 0.34\n"
     ]
    }
   ],
   "source": [
    "# Support Vector Machines\n",
    "svr = SVR()\n",
    "svr.fit(X_train,y_train )\n",
    "acc_model(1,svr,X_train,X_test)"
   ]
  },
  {
   "cell_type": "code",
   "execution_count": 122,
   "metadata": {
    "id": "x41Y5YgYqVbo"
   },
   "outputs": [
    {
     "name": "stdout",
     "output_type": "stream",
     "text": [
      "y_train=  [10.25748391 10.37349118 10.6454249   9.66459564  9.79255599]\n",
      "ytrain =  [10.27089557 10.2921516  10.56624878  9.64062094 10.43690492]\n",
      "acc(r2_score) for train = 76.05\n",
      "acc(relative error) for train = 2.86\n",
      "acc(rmse) for train = 0.41\n",
      "--------------------------------------------\n",
      "y_test = [10.76848499 10.16585182 10.73639668 10.63344871 10.47728798]\n",
      "ytest = [10.98012427 10.36482607 11.25382635 10.60234735 10.41816721]\n",
      "acc(r2_score) for test = 79.93\n",
      "acc(relative error) for test = 2.79\n",
      "acc(rmse) for test = 0.39\n"
     ]
    }
   ],
   "source": [
    "# Linear SVR\n",
    "\n",
    "linear_svr = LinearSVR()\n",
    "linear_svr.fit(X_train, y_train)\n",
    "acc_model(2,linear_svr,X_train,X_test)"
   ]
  },
  {
   "cell_type": "code",
   "execution_count": 123,
   "metadata": {
    "id": "51R0RnxEqVRr"
   },
   "outputs": [
    {
     "name": "stdout",
     "output_type": "stream",
     "text": [
      "y_train=  [10.25748391 10.37349118 10.6454249   9.66459564  9.79255599]\n",
      "ytrain =  [10.23956773 10.24949622 10.55499118  9.68783458 10.42617935]\n",
      "acc(r2_score) for train = 76.69\n",
      "acc(relative error) for train = 2.91\n",
      "acc(rmse) for train = 0.41\n",
      "--------------------------------------------\n",
      "y_test = [10.76848499 10.16585182 10.73639668 10.63344871 10.47728798]\n",
      "ytest = [10.99115523 10.43352366 11.25298131 10.692635   10.36154931]\n",
      "acc(r2_score) for test = 80.19\n",
      "acc(relative error) for test = 2.85\n",
      "acc(rmse) for test = 0.39\n"
     ]
    }
   ],
   "source": [
    "# Stochastic Gradient Descent\n",
    "\n",
    "sgd = SGDRegressor(random_state=42)\n",
    "sgd.fit(X_train, y_train)\n",
    "acc_model(3,sgd,X_train,X_test)"
   ]
  },
  {
   "cell_type": "code",
   "execution_count": 124,
   "metadata": {
    "id": "0Drbt3WyqVMk",
    "scrolled": true
   },
   "outputs": [
    {
     "name": "stdout",
     "output_type": "stream",
     "text": [
      "y_train=  [10.25748391 10.37349118 10.6454249   9.66459564  9.79255599]\n",
      "ytrain =  [10.25748391 10.37349118 10.6454249   9.66459564  9.79255599]\n",
      "acc(r2_score) for train = 100.0\n",
      "acc(relative error) for train = 0.0\n",
      "acc(rmse) for train = 0.0\n",
      "--------------------------------------------\n",
      "y_test = [10.76848499 10.16585182 10.73639668 10.63344871 10.47728798]\n",
      "ytest = [10.40423254 10.20359214 10.58405595 10.79957558 10.20173858]\n",
      "acc(r2_score) for test = 76.69\n",
      "acc(relative error) for test = 3.01\n",
      "acc(rmse) for test = 0.42\n"
     ]
    }
   ],
   "source": [
    "# Decision Tree Regression\n",
    "\n",
    "decision_tree = DecisionTreeRegressor(random_state=42)\n",
    "decision_tree.fit(X_train, y_train)\n",
    "acc_model(4,decision_tree,train,test)\n",
    "# important_features(decision_tree)"
   ]
  },
  {
   "cell_type": "code",
   "execution_count": 125,
   "metadata": {},
   "outputs": [
    {
     "name": "stdout",
     "output_type": "stream",
     "text": [
      "y_train=  [10.25748391 10.37349118 10.6454249   9.66459564  9.79255599]\n",
      "ytrain =  [10.2644199  10.38819457 10.72982242  9.58658731  9.96780332]\n",
      "acc(r2_score) for train = 97.89\n",
      "acc(relative error) for train = 0.84\n",
      "acc(rmse) for train = 0.12\n",
      "--------------------------------------------\n",
      "y_test = [10.76848499 10.16585182 10.73639668 10.63344871 10.47728798]\n",
      "ytest = [10.88560916 10.1032368  10.86318864 10.67900412 10.31388244]\n",
      "acc(r2_score) for test = 88.96\n",
      "acc(relative error) for test = 2.03\n",
      "acc(rmse) for test = 0.29\n"
     ]
    }
   ],
   "source": [
    "# Random Forest\n",
    "\n",
    "#random_forest = GridSearchCV(estimator=RandomForestRegressor(), param_grid={'n_estimators': [100, 1000]}, cv=5)\n",
    "random_forest = RandomForestRegressor(random_state=0)\n",
    "random_forest.fit(X_train, y_train)\n",
    "acc_model(5,random_forest,X_train,X_test)\n",
    "# important_features(random_forest)"
   ]
  },
  {
   "cell_type": "code",
   "execution_count": 126,
   "metadata": {
    "scrolled": true
   },
   "outputs": [],
   "source": [
    "# y_pred = random_forest.predict(X_test)"
   ]
  },
  {
   "cell_type": "code",
   "execution_count": 127,
   "metadata": {},
   "outputs": [],
   "source": [
    "# from sklearn.metrics import r2_score\n",
    "\n",
    "# # Calculate R-squared\n",
    "# r_squared = r2_score(y_test, y_pred)\n",
    "\n",
    "# # Calculate Adjusted R-squared (assuming n_features is the number of features in your model)\n",
    "# n_features = X.shape[1]  # Replace with the actual number of features\n",
    "# adjusted_r2 = 1 - ((1 - r_squared) * (len(y_test) - 1) / (len(y_test) - n_features - 1))\n",
    "\n",
    "# print(f\"R-squared: {r_squared}\")\n",
    "# print(f\"Adjusted R-squared: {adjusted_r2}\")\n"
   ]
  },
  {
   "cell_type": "code",
   "execution_count": 128,
   "metadata": {},
   "outputs": [],
   "source": [
    "# print('Training Score: ', random_forest.score(X_train, y_train))\n",
    "# print('Testing Score: ', random_forest.score(X_test, y_test))\n",
    "# print('RMSE: ', np.sqrt(mean_squared_error(y_test, random_forest.predict(X_test))))"
   ]
  },
  {
   "cell_type": "code",
   "execution_count": 129,
   "metadata": {},
   "outputs": [],
   "source": [
    "# from sklearn.model_selection import RandomizedSearchCV\n",
    "\n",
    "# # Number of trees in random forest\n",
    "# n_estimators = [int(x) for x in np.linspace(start = 200, stop = 2000, num = 10)]\n",
    "# # Number of features to consider at every split\n",
    "# max_features = ['auto', 'sqrt']\n",
    "# # Maximum number of levels in tree\n",
    "# max_depth = [int(x) for x in np.linspace(10, 140, num = 11)]\n",
    "# max_depth.append(None)\n",
    "# # Minimum number of samples required to split a node\n",
    "# min_samples_split = [2, 5, 10, 20, 50]\n",
    "# # Minimum number of samples required at each leaf node\n",
    "# min_samples_leaf = [1, 2, 4, 8, 16]\n",
    "# # Method of selecting samples for training each tree\n",
    "# bootstrap = [True, False]\n",
    "\n",
    "# Create the random grid\n",
    "# random_grid = {'n_estimators': n_estimators,\n",
    "#                'max_features': max_features,\n",
    "#                'max_depth': max_depth,\n",
    "#                'min_samples_split': min_samples_split,\n",
    "#                'min_samples_leaf': min_samples_leaf,\n",
    "#                'bootstrap': bootstrap}\n",
    "\n",
    "# print(random_grid)"
   ]
  },
  {
   "cell_type": "code",
   "execution_count": 130,
   "metadata": {},
   "outputs": [],
   "source": [
    "# from sklearn.model_selection import RandomizedSearchCV\n",
    "# # Use the random grid to search for best hyperparameters\n",
    "# # First create the base model to tune\n",
    "# rf = RandomForestRegressor(random_state = 42)\n",
    "# # Random search of parameters, using 3 fold cross validation, \n",
    "# # search across 100 different combinations, and use all available cores\n",
    "# rf_random = RandomizedSearchCV(estimator=rf, param_distributions=random_grid,\n",
    "#                               n_iter = 100, scoring='neg_mean_absolute_error', \n",
    "#                               cv = 3, verbose=2, random_state=42, n_jobs=-1,\n",
    "#                               return_train_score=True)\n",
    "\n",
    "# # Fit the random search model\n",
    "# rf_random.fit(X_train, y_train);"
   ]
  },
  {
   "cell_type": "code",
   "execution_count": 131,
   "metadata": {
    "scrolled": true
   },
   "outputs": [],
   "source": [
    "# rf_random.best_params_"
   ]
  },
  {
   "cell_type": "code",
   "execution_count": 132,
   "metadata": {},
   "outputs": [],
   "source": [
    "# random_forest = RandomForestRegressor(n_estimators = 800,\n",
    "#  min_samples_split = 2,\n",
    "#  min_samples_leaf = 1,\n",
    "#  max_features = 'sqrt',\n",
    "#  max_depth = 114,\n",
    "#  bootstrap = False)\n",
    "# random_forest.fit(X_train, y_train)\n",
    "# acc_model(5,random_forest,X_train,X_test)\n",
    "# important_features(random_forest)"
   ]
  },
  {
   "cell_type": "code",
   "execution_count": 133,
   "metadata": {
    "scrolled": true
   },
   "outputs": [],
   "source": [
    "# Random Forest\n",
    "\n",
    "# #random_forest = GridSearchCV(estimator=RandomForestRegressor(), param_grid={'n_estimators': [100, 1000]}, cv=5)\n",
    "# random_forest = RandomForestRegressor(random_state=42, n_jobs=-1, max_depth=20,min_samples_leaf=1,\n",
    "#                                        n_estimators=100, oob_score=True)\n",
    "# random_forest.fit(X_train, y_train)\n",
    "# acc_model(10,random_forest,X_train,X_test)\n",
    "# important_features(random_forest)"
   ]
  },
  {
   "cell_type": "code",
   "execution_count": 134,
   "metadata": {},
   "outputs": [
    {
     "name": "stdout",
     "output_type": "stream",
     "text": [
      "y_train=  [10.25748391 10.37349118 10.6454249   9.66459564  9.79255599]\n",
      "ytrain =  [10.23678049 10.35922921 10.65859945  9.67902614 10.44331033]\n",
      "acc(r2_score) for train = 77.58\n",
      "acc(relative error) for train = 3.07\n",
      "acc(rmse) for train = 0.4\n",
      "--------------------------------------------\n",
      "y_test = [10.76848499 10.16585182 10.73639668 10.63344871 10.47728798]\n",
      "ytest = [11.11580656 10.37766701 11.58437892 10.56606345 10.25907889]\n",
      "acc(r2_score) for test = 79.33\n",
      "acc(relative error) for test = 3.03\n",
      "acc(rmse) for test = 0.4\n"
     ]
    }
   ],
   "source": [
    " # AdaBoost Regression\n",
    "\n",
    "Ada_Boost = AdaBoostRegressor()\n",
    "Ada_Boost.fit(X_train, y_train)\n",
    "acc_model(6,Ada_Boost,X_train,X_test)"
   ]
  },
  {
   "cell_type": "code",
   "execution_count": 135,
   "metadata": {},
   "outputs": [
    {
     "name": "stdout",
     "output_type": "stream",
     "text": [
      "y_train=  [10.25748391 10.37349118 10.6454249   9.66459564  9.79255599]\n",
      "ytrain =  [10.25748391 10.37349118 10.6454249   9.66459564  9.79255599]\n",
      "acc(r2_score) for train = 100.0\n",
      "acc(relative error) for train = 0.0\n",
      "acc(rmse) for train = 0.0\n",
      "--------------------------------------------\n",
      "y_test = [10.76848499 10.16585182 10.73639668 10.63344871 10.47728798]\n",
      "ytest = [10.91573593 10.16904065 10.95556432 10.59462995 10.26556288]\n",
      "acc(r2_score) for test = 89.13\n",
      "acc(relative error) for test = 2.05\n",
      "acc(rmse) for test = 0.29\n"
     ]
    }
   ],
   "source": [
    "# Extra Trees Regressor\n",
    "etr = ExtraTreesRegressor(random_state=0)\n",
    "etr.fit(X_train, y_train)\n",
    "acc_model(7,etr,X_train,X_test)"
   ]
  },
  {
   "cell_type": "code",
   "execution_count": 136,
   "metadata": {},
   "outputs": [
    {
     "name": "stdout",
     "output_type": "stream",
     "text": [
      "y_train=  [10.25748391 10.37349118 10.6454249   9.66459564  9.79255599]\n",
      "ytrain =  [10.16869704 10.42118456 10.61470119  9.50086936  9.91203977]\n",
      "acc(r2_score) for train = 96.86\n",
      "acc(relative error) for train = 0.97\n",
      "acc(rmse) for train = 0.15\n",
      "--------------------------------------------\n",
      "y_test = [10.76848499 10.16585182 10.73639668 10.63344871 10.47728798]\n",
      "ytest = [10.81719813 10.0027276  10.70811782 10.70316534 10.31837579]\n",
      "acc(r2_score) for test = 87.76\n",
      "acc(relative error) for test = 2.14\n",
      "acc(rmse) for test = 0.31\n"
     ]
    }
   ],
   "source": [
    "# Bagging Regressor\n",
    "\n",
    "bagging = BaggingRegressor(random_state=0)\n",
    "bagging.fit(X_train, y_train)\n",
    "acc_model(8,bagging,X_train,X_test)"
   ]
  },
  {
   "cell_type": "code",
   "execution_count": 137,
   "metadata": {},
   "outputs": [
    {
     "name": "stdout",
     "output_type": "stream",
     "text": [
      "y_train=  [10.25748391 10.37349118 10.6454249   9.66459564  9.79255599]\n",
      "ytrain =  [10.21051631 10.21260376 10.55769297  9.67692466 10.42942497]\n",
      "acc(r2_score) for train = 76.73\n",
      "acc(relative error) for train = 2.91\n",
      "acc(rmse) for train = 0.41\n",
      "--------------------------------------------\n",
      "y_test = [10.76848499 10.16585182 10.73639668 10.63344871 10.47728798]\n",
      "ytest = [10.97789033 10.46960596 11.26289701 10.67670737 10.38593916]\n",
      "acc(r2_score) for test = 80.12\n",
      "acc(relative error) for test = 2.86\n",
      "acc(rmse) for test = 0.39\n"
     ]
    }
   ],
   "source": [
    "# Ridge Regressor\n",
    "\n",
    "ridge = RidgeCV(cv=5)\n",
    "ridge.fit(X_train, y_train)\n",
    "acc_model(9,ridge,X_train,X_test)"
   ]
  },
  {
   "cell_type": "code",
   "execution_count": 138,
   "metadata": {
    "scrolled": true
   },
   "outputs": [],
   "source": [
    "# print('Training Score: ', random_forest.score(train, target))\n",
    "# print('Testing Score: ', random_forest.score(test, target_test))\n",
    "# print('RMSE: ', np.sqrt(mean_squared_error(target_test, random_forest.predict(test))))"
   ]
  },
  {
   "cell_type": "code",
   "execution_count": 139,
   "metadata": {
    "id": "5TjzpTA4qU2Z",
    "scrolled": true
   },
   "outputs": [],
   "source": [
    "models = pd.DataFrame({\n",
    "    'Model': ['Linear Regression', 'Support Vector Machines', 'Linear SVR', \n",
    "               'Stochastic Gradient Decent', 'Decision Tree Regressor', 'Random Forest','AdaBoost Regression',\n",
    "               'Extra Trees Regressor','Bagging Regressor',\n",
    "             'Ridge Regressor'],\n",
    "    \n",
    "    'r2_train': acc_train_r2,\n",
    "    'r2_test': acc_test_r2,\n",
    "    'rmse_train': acc_train_rmse,\n",
    "    'rmse_test': acc_test_rmse\n",
    "                     })"
   ]
  },
  {
   "cell_type": "code",
   "execution_count": 140,
   "metadata": {},
   "outputs": [],
   "source": [
    "pd.options.display.float_format = '{:,.2f}'.format"
   ]
  },
  {
   "cell_type": "code",
   "execution_count": 141,
   "metadata": {
    "id": "Ed8ynYlzqUx9"
   },
   "outputs": [
    {
     "name": "stdout",
     "output_type": "stream",
     "text": [
      "Prediction accuracy for models by R2 criterion - r2_test\n"
     ]
    },
    {
     "data": {
      "text/html": [
       "<div>\n",
       "<style scoped>\n",
       "    .dataframe tbody tr th:only-of-type {\n",
       "        vertical-align: middle;\n",
       "    }\n",
       "\n",
       "    .dataframe tbody tr th {\n",
       "        vertical-align: top;\n",
       "    }\n",
       "\n",
       "    .dataframe thead th {\n",
       "        text-align: right;\n",
       "    }\n",
       "</style>\n",
       "<table border=\"1\" class=\"dataframe\">\n",
       "  <thead>\n",
       "    <tr style=\"text-align: right;\">\n",
       "      <th></th>\n",
       "      <th>Model</th>\n",
       "      <th>r2_train</th>\n",
       "      <th>r2_test</th>\n",
       "      <th>rmse_train</th>\n",
       "      <th>rmse_test</th>\n",
       "    </tr>\n",
       "  </thead>\n",
       "  <tbody>\n",
       "    <tr>\n",
       "      <th>7</th>\n",
       "      <td>Extra Trees Regressor</td>\n",
       "      <td>100.00</td>\n",
       "      <td>89.13</td>\n",
       "      <td>0.00</td>\n",
       "      <td>0.29</td>\n",
       "    </tr>\n",
       "    <tr>\n",
       "      <th>5</th>\n",
       "      <td>Random Forest</td>\n",
       "      <td>97.89</td>\n",
       "      <td>88.96</td>\n",
       "      <td>0.12</td>\n",
       "      <td>0.29</td>\n",
       "    </tr>\n",
       "    <tr>\n",
       "      <th>8</th>\n",
       "      <td>Bagging Regressor</td>\n",
       "      <td>96.86</td>\n",
       "      <td>87.76</td>\n",
       "      <td>0.15</td>\n",
       "      <td>0.31</td>\n",
       "    </tr>\n",
       "    <tr>\n",
       "      <th>1</th>\n",
       "      <td>Support Vector Machines</td>\n",
       "      <td>88.15</td>\n",
       "      <td>84.91</td>\n",
       "      <td>0.29</td>\n",
       "      <td>0.34</td>\n",
       "    </tr>\n",
       "    <tr>\n",
       "      <th>3</th>\n",
       "      <td>Stochastic Gradient Decent</td>\n",
       "      <td>76.69</td>\n",
       "      <td>80.19</td>\n",
       "      <td>0.41</td>\n",
       "      <td>0.39</td>\n",
       "    </tr>\n",
       "    <tr>\n",
       "      <th>0</th>\n",
       "      <td>Linear Regression</td>\n",
       "      <td>76.73</td>\n",
       "      <td>80.12</td>\n",
       "      <td>0.41</td>\n",
       "      <td>0.39</td>\n",
       "    </tr>\n",
       "    <tr>\n",
       "      <th>9</th>\n",
       "      <td>Ridge Regressor</td>\n",
       "      <td>76.73</td>\n",
       "      <td>80.12</td>\n",
       "      <td>0.41</td>\n",
       "      <td>0.39</td>\n",
       "    </tr>\n",
       "    <tr>\n",
       "      <th>2</th>\n",
       "      <td>Linear SVR</td>\n",
       "      <td>76.05</td>\n",
       "      <td>79.93</td>\n",
       "      <td>0.41</td>\n",
       "      <td>0.39</td>\n",
       "    </tr>\n",
       "    <tr>\n",
       "      <th>6</th>\n",
       "      <td>AdaBoost Regression</td>\n",
       "      <td>77.58</td>\n",
       "      <td>79.33</td>\n",
       "      <td>0.40</td>\n",
       "      <td>0.40</td>\n",
       "    </tr>\n",
       "    <tr>\n",
       "      <th>4</th>\n",
       "      <td>Decision Tree Regressor</td>\n",
       "      <td>100.00</td>\n",
       "      <td>76.69</td>\n",
       "      <td>0.00</td>\n",
       "      <td>0.42</td>\n",
       "    </tr>\n",
       "  </tbody>\n",
       "</table>\n",
       "</div>"
      ],
      "text/plain": [
       "                        Model  r2_train  r2_test  rmse_train  rmse_test\n",
       "7       Extra Trees Regressor    100.00    89.13        0.00       0.29\n",
       "5               Random Forest     97.89    88.96        0.12       0.29\n",
       "8           Bagging Regressor     96.86    87.76        0.15       0.31\n",
       "1     Support Vector Machines     88.15    84.91        0.29       0.34\n",
       "3  Stochastic Gradient Decent     76.69    80.19        0.41       0.39\n",
       "0           Linear Regression     76.73    80.12        0.41       0.39\n",
       "9             Ridge Regressor     76.73    80.12        0.41       0.39\n",
       "2                  Linear SVR     76.05    79.93        0.41       0.39\n",
       "6         AdaBoost Regression     77.58    79.33        0.40       0.40\n",
       "4     Decision Tree Regressor    100.00    76.69        0.00       0.42"
      ]
     },
     "execution_count": 141,
     "metadata": {},
     "output_type": "execute_result"
    }
   ],
   "source": [
    "print('Prediction accuracy for models by R2 criterion - r2_test')\n",
    "models.sort_values(by=['r2_test', 'r2_train'], ascending=False)"
   ]
  },
  {
   "cell_type": "markdown",
   "metadata": {},
   "source": [
    "## gridsearch_cv "
   ]
  },
  {
   "cell_type": "markdown",
   "metadata": {
    "id": "egUzHx6eqUtG"
   },
   "source": [
    "<!-- # # Assuming y_train is a continuous target variable for regression\n",
    "# rf = RandomForestRegressor(random_state=42, n_jobs=-1)\n",
    "\n",
    "# params = {\n",
    "#     'max_depth': [2, 3, 5, 10, 20, 25,30],\n",
    "#     'min_samples_leaf': [5, 10, 20, 50, 100],\n",
    "#     'n_estimators': [10, 25, 30, 50, 100, 200]\n",
    "# }\n",
    "\n",
    "# # Instantiate the grid search model\n",
    "# grid_search = GridSearchCV(estimator=rf,\n",
    "#                            param_grid=params,\n",
    "#                            cv=4,\n",
    "#                            n_jobs=-1, verbose=1, scoring=\"r2\")\n",
    "# # Use \"neg_mean_squared_error\" for regression problems\n",
    "# # If you're interested in another metric, replace it accordingly\n",
    "\n",
    "# grid_search.fit(train,target) -->"
   ]
  },
  {
   "cell_type": "code",
   "execution_count": null,
   "metadata": {},
   "outputs": [],
   "source": [
    "# grid_search.best_score_"
   ]
  },
  {
   "cell_type": "code",
   "execution_count": null,
   "metadata": {},
   "outputs": [],
   "source": [
    "# rf_best = grid_search.best_estimator_\n",
    "# rf_best"
   ]
  },
  {
   "cell_type": "code",
   "execution_count": null,
   "metadata": {},
   "outputs": [],
   "source": [
    "# rf_best.fit(train,target)"
   ]
  },
  {
   "cell_type": "code",
   "execution_count": null,
   "metadata": {
    "scrolled": true
   },
   "outputs": [],
   "source": [
    "# # Random Forest Regressor\n",
    "\n",
    "# from sklearn.ensemble import RandomForestRegressor\n",
    "\n",
    "# rf = RandomForestRegressor(random_state=42, n_jobs=-1, max_depth=20,min_samples_leaf=5,\n",
    "#                                        n_estimators=50, oob_score=True)\n",
    "\n",
    "# rf.fit(train, target)\n",
    "\n",
    "# print('Training Score: ', rf.score(train, target))\n",
    "# print('Testing Score: ', rf.score(test, target_test))\n",
    "# print('RMSE: ', np.sqrt(mean_squared_error(target_test, rf.predict(test))))"
   ]
  },
  {
   "cell_type": "markdown",
   "metadata": {
    "id": "ZSk45FEgg7FX"
   },
   "source": [
    "## **Splitting the data 2.0**"
   ]
  },
  {
   "cell_type": "code",
   "execution_count": null,
   "metadata": {
    "id": "0NbX36xhaaDy"
   },
   "outputs": [],
   "source": [
    "# X=df.drop(columns=['price','milage','engine','transmission','Price','brand'])\n",
    "# y=df['Price']\n"
   ]
  },
  {
   "cell_type": "code",
   "execution_count": null,
   "metadata": {
    "colab": {
     "base_uri": "https://localhost:8080/"
    },
    "id": "vuSD9cZ1aZ89",
    "outputId": "f06ed6d9-dd70-42f4-9b6e-f161fbdfae1e"
   },
   "outputs": [],
   "source": [
    "# from sklearn.model_selection import train_test_split\n",
    "\n",
    "# X_train, X_test, y_train, y_test = train_test_split(X,\n",
    "#                                                     y,\n",
    "#                                                     test_size = 0.20,\n",
    "#                                                    random_state = 42)\n",
    "# print(f\"shape of X: {X.shape}\")\n",
    "# print(f\"shape of X_train: {X_train.shape}\")\n",
    "# print(f\"shape of X_test: {X_test.shape}\")\n",
    "# print(f\"shape of y_train: {y_train.shape}\")\n",
    "# print(f\"shape of y_test: {y_test.shape}\")"
   ]
  },
  {
   "cell_type": "code",
   "execution_count": null,
   "metadata": {
    "colab": {
     "base_uri": "https://localhost:8080/"
    },
    "id": "CzdY-MulTFVg",
    "outputId": "2164b55e-ae37-43a8-dcdf-1dfa19e978b0"
   },
   "outputs": [],
   "source": [
    "# X_train.isnull().sum()[X_train.isnull().sum()>0]"
   ]
  },
  {
   "cell_type": "code",
   "execution_count": null,
   "metadata": {
    "colab": {
     "base_uri": "https://localhost:8080/"
    },
    "id": "jzXZBUGkUfYq",
    "outputId": "4f6fbca0-90f9-4c26-f326-9865ebd957ac"
   },
   "outputs": [],
   "source": [
    "train.info()"
   ]
  },
  {
   "cell_type": "code",
   "execution_count": null,
   "metadata": {
    "id": "E_kTEHOVaZ4m"
   },
   "outputs": [],
   "source": [
    "# # handling missing values\n",
    "# from sklearn.impute import SimpleImputer\n",
    "# missing_values=[\"horsepower\",\"Displacement\",\"Cylinders\",\"Gear\"]\n",
    "# si=SimpleImputer(strategy='median')\n",
    "# X_train[missing_values] = si.fit_transform(X_train[missing_values])\n",
    "# X_test[missing_values] = si.transform(X_test[missing_values])"
   ]
  },
  {
   "cell_type": "code",
   "execution_count": null,
   "metadata": {
    "colab": {
     "base_uri": "https://localhost:8080/"
    },
    "id": "8jmQ3lojVi0e",
    "outputId": "ba4425de-95c3-46cd-8c78-2417a47c0aa8"
   },
   "outputs": [],
   "source": [
    "train.isnull().sum()[train.isnull().sum()>0]\n",
    "# with this null values are handelled:"
   ]
  },
  {
   "cell_type": "code",
   "execution_count": null,
   "metadata": {
    "id": "DZmBrB1cnN4n"
   },
   "outputs": [],
   "source": [
    "# from sklearn.preprocessing import MinMaxScaler\n",
    "# mms = MinMaxScaler()\n",
    "# X_train_scaled = pd.DataFrame(mms.fit_transform(X_train), index = X_train.index, columns = X_train.columns)\n",
    "# X_test_scaled = pd.DataFrame(mms.transform(X_test), index = X_test.index, columns = X_test.columns)"
   ]
  },
  {
   "cell_type": "code",
   "execution_count": null,
   "metadata": {
    "colab": {
     "base_uri": "https://localhost:8080/",
     "height": 424
    },
    "id": "PSak7AUYx_M1",
    "outputId": "d40c488e-a952-44d4-d4d7-90c9d8a5b964"
   },
   "outputs": [],
   "source": [
    "train"
   ]
  },
  {
   "cell_type": "code",
   "execution_count": null,
   "metadata": {
    "colab": {
     "base_uri": "https://localhost:8080/",
     "height": 331
    },
    "id": "jEj_ZOYQnpS7",
    "outputId": "3eaf5937-d324-4780-fb54-f5d6d820c549"
   },
   "outputs": [],
   "source": [
    "from sklearn.linear_model import LinearRegression\n",
    "linreg = LinearRegression()\n",
    "linreg.fit(train, target)\n",
    "acc_model(0,linreg,train,test)"
   ]
  },
  {
   "cell_type": "code",
   "execution_count": null,
   "metadata": {
    "colab": {
     "base_uri": "https://localhost:8080/"
    },
    "id": "8fB5Mszs6U-P",
    "outputId": "e6ab485f-0a80-4611-b7fd-a6812765f3c5"
   },
   "outputs": [],
   "source": [
    "# Linear Regression\n",
    "\n",
    "from sklearn.linear_model import LinearRegression\n",
    "from sklearn.metrics import mean_squared_error\n",
    "\n",
    "lr = LinearRegression()\n",
    "lr.fit(X_train, y_train)\n",
    "\n",
    "print('Training Score: ', lr.score(X_train, y_train))\n",
    "print('Testing Score: ', lr.score(X_test, y_test))\n",
    "print('RMSE: ', np.sqrt(mean_squared_error(y_test, lr.predict(X_test))))"
   ]
  },
  {
   "cell_type": "code",
   "execution_count": null,
   "metadata": {
    "colab": {
     "base_uri": "https://localhost:8080/",
     "height": 424
    },
    "id": "E8kDY9Kq8F-J",
    "outputId": "b4bba84d-05f1-4507-fcbe-86c103e37e96"
   },
   "outputs": [],
   "source": [
    "X_train"
   ]
  },
  {
   "cell_type": "code",
   "execution_count": null,
   "metadata": {
    "id": "27HsQj308CyA"
   },
   "outputs": [],
   "source": [
    "numerical_cols=['model_year','horsepower','Displacement','Cylinders','Gear','Transmission','d_in_km']"
   ]
  },
  {
   "cell_type": "code",
   "execution_count": null,
   "metadata": {
    "id": "kmUPhjBv7udh"
   },
   "outputs": [],
   "source": [
    "# Standardize numerical columns\n",
    "\n",
    "scaler = MinMaxScaler()\n",
    "#scaler = StandardScaler()\n",
    "X_train[numerical_cols] = scaler.fit_transform(X_train[numerical_cols])\n",
    "X_test[numerical_cols] = scaler.transform(X_test[numerical_cols])"
   ]
  },
  {
   "cell_type": "code",
   "execution_count": null,
   "metadata": {
    "colab": {
     "base_uri": "https://localhost:8080/"
    },
    "id": "bOw8lKoHLLiE",
    "outputId": "3b3cc712-4f93-4504-da95-e265f7503999"
   },
   "outputs": [],
   "source": [
    "from sklearn.tree import DecisionTreeRegressor\n",
    "from sklearn.metrics import mean_squared_error\n",
    "import numpy as np\n",
    "\n",
    "dt = DecisionTreeRegressor(random_state=42)\n",
    "\n",
    "dt.fit(X_train, y_train)\n",
    "\n",
    "print('Training Score: ', dt.score(X_train, y_train))\n",
    "print('Testing Score: ', dt.score(X_test, y_test))\n",
    "print('RMSE: ', np.sqrt(mean_squared_error(y_test, dt.predict(X_test))))\n"
   ]
  },
  {
   "cell_type": "code",
   "execution_count": null,
   "metadata": {
    "colab": {
     "base_uri": "https://localhost:8080/"
    },
    "id": "yT4IYvkm6iNU",
    "outputId": "a3b1bda6-b9b6-480d-ab8b-de89f8424612"
   },
   "outputs": [],
   "source": [
    "# Random Forest Regressor\n",
    "\n",
    "from sklearn.ensemble import RandomForestRegressor\n",
    "\n",
    "rf = RandomForestRegressor(random_state=42, n_jobs=-1, max_depth=10,n_estimators=10000, oob_score=True)\n",
    "\n",
    "rf.fit(X_train, y_train)\n",
    "\n",
    "print('Training Score: ', rf.score(X_train,y_train))\n",
    "print('Testing Score: ', rf.score(X_test, y_test))\n",
    "print('RMSE: ', np.sqrt(mean_squared_error(y_test, rf.predict(X_test))))"
   ]
  },
  {
   "cell_type": "code",
   "execution_count": null,
   "metadata": {
    "colab": {
     "base_uri": "https://localhost:8080/",
     "height": 135
    },
    "id": "n6s_Ub69e7lz",
    "outputId": "7249f4d7-c95d-40cb-e7e2-1981fa2c7d11"
   },
   "outputs": [],
   "source": [
    "from sklearn.ensemble import RandomForestRegressor\n",
    "from sklearn.model_selection import GridSearchCV\n",
    "import numpy as np\n",
    "\n",
    "# Assuming y_train is a continuous target variable for regression\n",
    "rf = RandomForestRegressor(random_state=42, n_jobs=-1)\n",
    "\n",
    "params = {\n",
    "    'max_depth': [2, 3, 5, 10, 20, 25,30],\n",
    "    'min_samples_leaf': [5, 10, 20, 50, 100],\n",
    "    'n_estimators': [10, 25, 30, 50, 100, 200]\n",
    "}\n",
    "\n",
    "# Instantiate the grid search model\n",
    "grid_search = GridSearchCV(estimator=rf,\n",
    "                           param_grid=params,\n",
    "                           cv=4,\n",
    "                           n_jobs=-1, verbose=1, scoring=\"r2\")\n",
    "# Use \"neg_mean_squared_error\" for regression problems\n",
    "# If you're interested in another metric, replace it accordingly\n",
    "\n",
    "grid_search.fit(X_train, y_train)"
   ]
  },
  {
   "cell_type": "code",
   "execution_count": null,
   "metadata": {
    "colab": {
     "base_uri": "https://localhost:8080/"
    },
    "id": "liO_VMshehVX",
    "outputId": "617cc2cd-fed0-4549-afc0-8150bc865d50"
   },
   "outputs": [],
   "source": [
    "grid_search.best_score_"
   ]
  },
  {
   "cell_type": "code",
   "execution_count": null,
   "metadata": {
    "colab": {
     "base_uri": "https://localhost:8080/",
     "height": 92
    },
    "id": "H4183ZSZehR0",
    "outputId": "5b16179e-11d1-438d-a936-3ce463acfc8f"
   },
   "outputs": [],
   "source": [
    "rf_best = grid_search.best_estimator_\n",
    "rf_best"
   ]
  },
  {
   "cell_type": "code",
   "execution_count": null,
   "metadata": {
    "colab": {
     "base_uri": "https://localhost:8080/",
     "height": 92
    },
    "id": "4DiLMnvZehP0",
    "outputId": "7d1abb19-478f-4e20-80d0-545cded9965c"
   },
   "outputs": [],
   "source": [
    "rf_best.fit(X_train,y_train)"
   ]
  },
  {
   "cell_type": "code",
   "execution_count": null,
   "metadata": {
    "colab": {
     "base_uri": "https://localhost:8080/"
    },
    "id": "kvQgAGx2ibtV",
    "outputId": "104c6b73-d30f-4dff-a6f1-d7886aea097f"
   },
   "outputs": [],
   "source": [
    "rf_best.score(X_train,y_train)"
   ]
  },
  {
   "cell_type": "code",
   "execution_count": null,
   "metadata": {
    "colab": {
     "base_uri": "https://localhost:8080/"
    },
    "id": "KU_EVLkMgB9d",
    "outputId": "9d2528fc-a035-4090-83a3-387122448e03"
   },
   "outputs": [],
   "source": [
    "print(rf_best.score(X_test,y_test))\n",
    "print('RMSE: ', np.sqrt(mean_squared_error(y_test, rf_best.predict(X_test))))"
   ]
  },
  {
   "cell_type": "code",
   "execution_count": null,
   "metadata": {
    "colab": {
     "base_uri": "https://localhost:8080/"
    },
    "id": "_mphVz98k_vn",
    "outputId": "e0f125a4-b9b3-4542-d4f4-fdf996232c7a"
   },
   "outputs": [],
   "source": [
    "# Random Forest Regressor\n",
    "\n",
    "from sklearn.ensemble import RandomForestRegressor\n",
    "\n",
    "rf = RandomForestRegressor(random_state=42, n_jobs=-1, max_depth=20,min_samples_leaf=5,\n",
    "                                       n_estimators=10, oob_score=True)\n",
    "\n",
    "rf.fit(X_train, y_train)\n",
    "\n",
    "print('Training Score: ', rf.score(X_train, y_train))\n",
    "print('Testing Score: ', rf.score(X_test, y_test))\n",
    "print('RMSE: ', np.sqrt(mean_squared_error(y_test, rf.predict(X_test))))"
   ]
  },
  {
   "cell_type": "code",
   "execution_count": null,
   "metadata": {
    "colab": {
     "base_uri": "https://localhost:8080/",
     "height": 466
    },
    "id": "TATENtB6oCh_",
    "outputId": "ba6399de-6a1e-4a2c-dea0-bc910461522f"
   },
   "outputs": [],
   "source": [
    "imp_df = pd.DataFrame({\n",
    "    \"Varname\": X_train.columns,\n",
    "    \"Imp\": rf.feature_importances_\n",
    "})\n",
    "\n",
    "imp_df.sort_values(by = [\"Imp\"], ascending = False, inplace = True)\n",
    "\n",
    "\n",
    "sns.barplot(data=imp_df.sort_values(by=\"Imp\", ascending=False), x=\"Imp\", y=\"Varname\")"
   ]
  },
  {
   "cell_type": "code",
   "execution_count": null,
   "metadata": {
    "colab": {
     "base_uri": "https://localhost:8080/",
     "height": 75
    },
    "id": "e-dfS4Z8IJHb",
    "outputId": "28b3bc94-9117-474d-f8bc-dc4bd7b1d25f"
   },
   "outputs": [],
   "source": [
    "from sklearn.neighbors import KNeighborsRegressor\n",
    "\n",
    "knn = KNeighborsRegressor(n_neighbors= 10, weights= 'distance')\n",
    "knn.fit(X_train,y_train)"
   ]
  },
  {
   "cell_type": "code",
   "execution_count": null,
   "metadata": {
    "colab": {
     "base_uri": "https://localhost:8080/"
    },
    "id": "G_yU55GWII2O",
    "outputId": "d7119abf-e185-48e6-c2c9-a4a3a87bed73"
   },
   "outputs": [],
   "source": [
    "knn.score(X_train, y_train)\n",
    "knn.score(X_test, y_test)"
   ]
  },
  {
   "cell_type": "code",
   "execution_count": null,
   "metadata": {
    "colab": {
     "base_uri": "https://localhost:8080/",
     "height": 75
    },
    "id": "PapbLpymnD-9",
    "outputId": "ccbcf2e3-1fec-4a60-93c9-6333f9215a4a"
   },
   "outputs": [],
   "source": [
    "from sklearn.ensemble import AdaBoostRegressor\n",
    "\n",
    "ada=AdaBoostRegressor()\n",
    "ada.fit(X_train, y_train)"
   ]
  },
  {
   "cell_type": "code",
   "execution_count": null,
   "metadata": {
    "colab": {
     "base_uri": "https://localhost:8080/"
    },
    "id": "jIqMafBPnD6g",
    "outputId": "b53f5ed4-f6b7-4a75-d029-8779e3875766"
   },
   "outputs": [],
   "source": [
    "ada.score(X_train,y_train)"
   ]
  },
  {
   "cell_type": "code",
   "execution_count": null,
   "metadata": {
    "colab": {
     "base_uri": "https://localhost:8080/"
    },
    "id": "HkJlWqc0nD2S",
    "outputId": "2463ffd6-26d0-4396-cac3-7362dd3d4d26"
   },
   "outputs": [],
   "source": [
    "ada.score(X_test,y_test)"
   ]
  },
  {
   "cell_type": "code",
   "execution_count": null,
   "metadata": {
    "colab": {
     "base_uri": "https://localhost:8080/"
    },
    "id": "1ey2CvEonDyF",
    "outputId": "e8dfe2e1-beaf-43d9-d709-d25ad683ad43"
   },
   "outputs": [],
   "source": [
    "print('RMSE: ', np.sqrt(mean_squared_error(y_test, ada.predict(X_test))))"
   ]
  },
  {
   "cell_type": "code",
   "execution_count": null,
   "metadata": {
    "id": "fw2x94-nnDXg"
   },
   "outputs": [],
   "source": [
    "from sklearn.ensemble import BaggingRegressor\n",
    "#Bagging Models\n",
    "knn_bag = BaggingRegressor(base_estimator = knn,n_estimators = 3,random_state = 0)"
   ]
  },
  {
   "cell_type": "code",
   "execution_count": null,
   "metadata": {
    "colab": {
     "base_uri": "https://localhost:8080/",
     "height": 172
    },
    "id": "05WK2ZasnDTU",
    "outputId": "0678bb36-8926-4ef5-b4b4-0994a4784674"
   },
   "outputs": [],
   "source": [
    "knn_bag.fit(X_train, y_train)"
   ]
  },
  {
   "cell_type": "code",
   "execution_count": null,
   "metadata": {
    "colab": {
     "base_uri": "https://localhost:8080/"
    },
    "id": "7buKZYXnI7Sx",
    "outputId": "ad6ed0cd-50b2-490b-8692-ea5219ecbb86"
   },
   "outputs": [],
   "source": [
    "knn_bag.score(X_train,y_train)"
   ]
  },
  {
   "cell_type": "code",
   "execution_count": null,
   "metadata": {
    "colab": {
     "base_uri": "https://localhost:8080/"
    },
    "id": "vEddy8yOI7PY",
    "outputId": "c599a0c7-ae54-43fc-9839-2ac3b4a5dea1"
   },
   "outputs": [],
   "source": [
    "knn_bag.score(X_test,y_test)"
   ]
  },
  {
   "cell_type": "code",
   "execution_count": null,
   "metadata": {
    "colab": {
     "base_uri": "https://localhost:8080/",
     "height": 887
    },
    "id": "qqFKweUgpgUu",
    "outputId": "27ef8990-60fc-45c9-8cb5-fffdda42a51d"
   },
   "outputs": [],
   "source": [
    "f, ax = plt.subplots(figsize=(10, 8))\n",
    "corr = df.corr()\n",
    "sns.heatmap(corr, mask=np.zeros_like(corr, dtype=np.bool),\n",
    "            cmap=sns.diverging_palette(220, 10, as_cmap=True),\n",
    "            square=True,ax=ax,annot=True)"
   ]
  },
  {
   "cell_type": "markdown",
   "metadata": {},
   "source": [
    "##  after getting accuraccy "
   ]
  },
  {
   "cell_type": "code",
   "execution_count": null,
   "metadata": {},
   "outputs": [],
   "source": [
    "'''important columns for input:\n",
    "1.horsepower\n",
    "2. d_in_km\n",
    "3. model_year\n",
    "4. displacement\n",
    "5. model\n",
    "6.brand,\n",
    "7.ext_col\n",
    "8.cylinders\n",
    "9. int_col\n",
    "10. fuel_type\n",
    "11. gear'''\n"
   ]
  },
  {
   "cell_type": "code",
   "execution_count": null,
   "metadata": {},
   "outputs": [],
   "source": [
    "df['model'].value_counts()"
   ]
  },
  {
   "cell_type": "code",
   "execution_count": null,
   "metadata": {},
   "outputs": [],
   "source": [
    "df['model_year'].unique()"
   ]
  },
  {
   "cell_type": "code",
   "execution_count": null,
   "metadata": {},
   "outputs": [],
   "source": [
    "df[df['model_year']== 2024]"
   ]
  },
  {
   "cell_type": "code",
   "execution_count": 75,
   "metadata": {},
   "outputs": [
    {
     "data": {
      "text/plain": [
       "array(['E85 Flex Fuel', 'Gasoline', 'Hybrid', nan, 'Diesel',\n",
       "       'Plug In Hybrid', 'Hydrogen Fuel'], dtype=object)"
      ]
     },
     "execution_count": 75,
     "metadata": {},
     "output_type": "execute_result"
    }
   ],
   "source": [
    "df['fuel_type'].unique()"
   ]
  },
  {
   "cell_type": "code",
   "execution_count": null,
   "metadata": {},
   "outputs": [],
   "source": []
  }
 ],
 "metadata": {
  "colab": {
   "provenance": []
  },
  "kernelspec": {
   "display_name": "Python 3 (ipykernel)",
   "language": "python",
   "name": "python3"
  },
  "language_info": {
   "codemirror_mode": {
    "name": "ipython",
    "version": 3
   },
   "file_extension": ".py",
   "mimetype": "text/x-python",
   "name": "python",
   "nbconvert_exporter": "python",
   "pygments_lexer": "ipython3",
   "version": "3.11.4"
  }
 },
 "nbformat": 4,
 "nbformat_minor": 4
}
